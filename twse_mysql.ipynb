{
 "cells": [
  {
   "cell_type": "code",
   "execution_count": 1,
   "id": "8268ac48",
   "metadata": {},
   "outputs": [
    {
     "data": {
      "application/vnd.jupyter.widget-view+json": {
       "model_id": "60a561c52b594534b0539af2daa5de49",
       "version_major": 2,
       "version_minor": 0
      },
      "text/plain": [
       "Import Progress:   0%|          | 0/246 [00:00<?, ?it/s]"
      ]
     },
     "metadata": {},
     "output_type": "display_data"
    },
    {
     "data": {
      "application/vnd.jupyter.widget-view+json": {
       "model_id": "fef092066aed49acad7f430b60ba5e24",
       "version_major": 2,
       "version_minor": 0
      },
      "text/plain": [
       "2020-01-02:   0%|          | 0/16665 [00:00<?, ?it/s]"
      ]
     },
     "metadata": {},
     "output_type": "display_data"
    },
    {
     "name": "stdout",
     "output_type": "stream",
     "text": [
      "2020-01-02 16665 Record inserted successfully.\n"
     ]
    },
    {
     "data": {
      "application/vnd.jupyter.widget-view+json": {
       "model_id": "ab279e5834474805954a66b3decb63b9",
       "version_major": 2,
       "version_minor": 0
      },
      "text/plain": [
       "2020-01-03:   0%|          | 0/16645 [00:00<?, ?it/s]"
      ]
     },
     "metadata": {},
     "output_type": "display_data"
    },
    {
     "name": "stdout",
     "output_type": "stream",
     "text": [
      "2020-01-03 16645 Record inserted successfully.\n"
     ]
    },
    {
     "data": {
      "application/vnd.jupyter.widget-view+json": {
       "model_id": "c13f599fe2d44bca86ba53deb186f367",
       "version_major": 2,
       "version_minor": 0
      },
      "text/plain": [
       "2020-01-06:   0%|          | 0/16698 [00:00<?, ?it/s]"
      ]
     },
     "metadata": {},
     "output_type": "display_data"
    },
    {
     "name": "stdout",
     "output_type": "stream",
     "text": [
      "2020-01-06 16698 Record inserted successfully.\n"
     ]
    },
    {
     "data": {
      "application/vnd.jupyter.widget-view+json": {
       "model_id": "88dcdd2a998243678fe9998bd63cde4d",
       "version_major": 2,
       "version_minor": 0
      },
      "text/plain": [
       "2020-01-07:   0%|          | 0/16892 [00:00<?, ?it/s]"
      ]
     },
     "metadata": {},
     "output_type": "display_data"
    },
    {
     "name": "stdout",
     "output_type": "stream",
     "text": [
      "2020-01-07 16892 Record inserted successfully.\n"
     ]
    },
    {
     "data": {
      "application/vnd.jupyter.widget-view+json": {
       "model_id": "7dcf1efd924a468aace706d3d25504cb",
       "version_major": 2,
       "version_minor": 0
      },
      "text/plain": [
       "2020-01-08:   0%|          | 0/16963 [00:00<?, ?it/s]"
      ]
     },
     "metadata": {},
     "output_type": "display_data"
    },
    {
     "name": "stdout",
     "output_type": "stream",
     "text": [
      "2020-01-08 16963 Record inserted successfully.\n"
     ]
    },
    {
     "data": {
      "application/vnd.jupyter.widget-view+json": {
       "model_id": "589ec074752145bda9c87c43ab3bdeb2",
       "version_major": 2,
       "version_minor": 0
      },
      "text/plain": [
       "2020-01-09:   0%|          | 0/16995 [00:00<?, ?it/s]"
      ]
     },
     "metadata": {},
     "output_type": "display_data"
    },
    {
     "name": "stdout",
     "output_type": "stream",
     "text": [
      "2020-01-09 16995 Record inserted successfully.\n"
     ]
    },
    {
     "data": {
      "application/vnd.jupyter.widget-view+json": {
       "model_id": "141206f0575b42d7915c17f9eb9ab6fc",
       "version_major": 2,
       "version_minor": 0
      },
      "text/plain": [
       "2020-01-10:   0%|          | 0/17023 [00:00<?, ?it/s]"
      ]
     },
     "metadata": {},
     "output_type": "display_data"
    },
    {
     "name": "stdout",
     "output_type": "stream",
     "text": [
      "2020-01-10 17023 Record inserted successfully.\n"
     ]
    },
    {
     "data": {
      "application/vnd.jupyter.widget-view+json": {
       "model_id": "e33fdea15f954a36827b61d332868367",
       "version_major": 2,
       "version_minor": 0
      },
      "text/plain": [
       "2020-01-13:   0%|          | 0/17045 [00:00<?, ?it/s]"
      ]
     },
     "metadata": {},
     "output_type": "display_data"
    },
    {
     "name": "stdout",
     "output_type": "stream",
     "text": [
      "2020-01-13 17045 Record inserted successfully.\n"
     ]
    },
    {
     "data": {
      "application/vnd.jupyter.widget-view+json": {
       "model_id": "8d492330dc4644679b8ef0156bd1da8b",
       "version_major": 2,
       "version_minor": 0
      },
      "text/plain": [
       "2020-01-14:   0%|          | 0/17065 [00:00<?, ?it/s]"
      ]
     },
     "metadata": {},
     "output_type": "display_data"
    },
    {
     "name": "stdout",
     "output_type": "stream",
     "text": [
      "2020-01-14 17065 Record inserted successfully.\n"
     ]
    },
    {
     "data": {
      "application/vnd.jupyter.widget-view+json": {
       "model_id": "8655f0a6ed7f4c02933a5039e9cdf2c0",
       "version_major": 2,
       "version_minor": 0
      },
      "text/plain": [
       "2020-01-15:   0%|          | 0/17076 [00:00<?, ?it/s]"
      ]
     },
     "metadata": {},
     "output_type": "display_data"
    },
    {
     "name": "stdout",
     "output_type": "stream",
     "text": [
      "2020-01-15 17076 Record inserted successfully.\n"
     ]
    },
    {
     "data": {
      "application/vnd.jupyter.widget-view+json": {
       "model_id": "293650759192491eb74145dc52ba1b90",
       "version_major": 2,
       "version_minor": 0
      },
      "text/plain": [
       "2020-01-16:   0%|          | 0/17222 [00:00<?, ?it/s]"
      ]
     },
     "metadata": {},
     "output_type": "display_data"
    },
    {
     "name": "stdout",
     "output_type": "stream",
     "text": [
      "2020-01-16 17222 Record inserted successfully.\n"
     ]
    },
    {
     "data": {
      "application/vnd.jupyter.widget-view+json": {
       "model_id": "3b720a3cb6eb41a287c30e2b6c97bc37",
       "version_major": 2,
       "version_minor": 0
      },
      "text/plain": [
       "2020-01-17:   0%|          | 0/17243 [00:00<?, ?it/s]"
      ]
     },
     "metadata": {},
     "output_type": "display_data"
    },
    {
     "name": "stdout",
     "output_type": "stream",
     "text": [
      "2020-01-17 17243 Record inserted successfully.\n"
     ]
    },
    {
     "data": {
      "application/vnd.jupyter.widget-view+json": {
       "model_id": "06b5a8f10adc4f0f8fba5eec3109c64c",
       "version_major": 2,
       "version_minor": 0
      },
      "text/plain": [
       "2020-01-20:   0%|          | 0/16814 [00:00<?, ?it/s]"
      ]
     },
     "metadata": {},
     "output_type": "display_data"
    },
    {
     "name": "stdout",
     "output_type": "stream",
     "text": [
      "2020-01-20 16814 Record inserted successfully.\n"
     ]
    },
    {
     "data": {
      "application/vnd.jupyter.widget-view+json": {
       "model_id": "0b10ef54b3694b698c4baaf87f2ed9e4",
       "version_major": 2,
       "version_minor": 0
      },
      "text/plain": [
       "2020-01-30:   0%|          | 0/16872 [00:00<?, ?it/s]"
      ]
     },
     "metadata": {},
     "output_type": "display_data"
    },
    {
     "name": "stdout",
     "output_type": "stream",
     "text": [
      "2020-01-30 16872 Record inserted successfully.\n"
     ]
    },
    {
     "data": {
      "application/vnd.jupyter.widget-view+json": {
       "model_id": "239cf26416ee4b5b9092ebc2f39e077a",
       "version_major": 2,
       "version_minor": 0
      },
      "text/plain": [
       "2020-01-31:   0%|          | 0/16875 [00:00<?, ?it/s]"
      ]
     },
     "metadata": {},
     "output_type": "display_data"
    },
    {
     "name": "stdout",
     "output_type": "stream",
     "text": [
      "2020-01-31 16875 Record inserted successfully.\n"
     ]
    },
    {
     "data": {
      "application/vnd.jupyter.widget-view+json": {
       "model_id": "e1557097f95f46bdbf63eb48425ef004",
       "version_major": 2,
       "version_minor": 0
      },
      "text/plain": [
       "2020-02-03:   0%|          | 0/16906 [00:00<?, ?it/s]"
      ]
     },
     "metadata": {},
     "output_type": "display_data"
    },
    {
     "name": "stdout",
     "output_type": "stream",
     "text": [
      "2020-02-03 16906 Record inserted successfully.\n"
     ]
    },
    {
     "data": {
      "application/vnd.jupyter.widget-view+json": {
       "model_id": "ad5fd430ddcb46dfb8c430e80fc6496c",
       "version_major": 2,
       "version_minor": 0
      },
      "text/plain": [
       "2020-02-04:   0%|          | 0/16971 [00:00<?, ?it/s]"
      ]
     },
     "metadata": {},
     "output_type": "display_data"
    },
    {
     "name": "stdout",
     "output_type": "stream",
     "text": [
      "2020-02-04 16971 Record inserted successfully.\n"
     ]
    },
    {
     "data": {
      "application/vnd.jupyter.widget-view+json": {
       "model_id": "84ee28fd61e74e01be71d234282a0b8c",
       "version_major": 2,
       "version_minor": 0
      },
      "text/plain": [
       "2020-02-05:   0%|          | 0/17049 [00:00<?, ?it/s]"
      ]
     },
     "metadata": {},
     "output_type": "display_data"
    },
    {
     "name": "stdout",
     "output_type": "stream",
     "text": [
      "2020-02-05 17049 Record inserted successfully.\n"
     ]
    },
    {
     "data": {
      "application/vnd.jupyter.widget-view+json": {
       "model_id": "9f0cdcbd6e7a492e9e7cc9dbb69a6500",
       "version_major": 2,
       "version_minor": 0
      },
      "text/plain": [
       "2020-02-06:   0%|          | 0/17069 [00:00<?, ?it/s]"
      ]
     },
     "metadata": {},
     "output_type": "display_data"
    },
    {
     "name": "stdout",
     "output_type": "stream",
     "text": [
      "2020-02-06 17069 Record inserted successfully.\n"
     ]
    },
    {
     "data": {
      "application/vnd.jupyter.widget-view+json": {
       "model_id": "d9b032163eaf4919b3eb166062404d33",
       "version_major": 2,
       "version_minor": 0
      },
      "text/plain": [
       "2020-02-07:   0%|          | 0/17176 [00:00<?, ?it/s]"
      ]
     },
     "metadata": {},
     "output_type": "display_data"
    },
    {
     "name": "stdout",
     "output_type": "stream",
     "text": [
      "2020-02-07 17176 Record inserted successfully.\n"
     ]
    },
    {
     "data": {
      "application/vnd.jupyter.widget-view+json": {
       "model_id": "cc7e8bccd9364ff7aeafc016c5333262",
       "version_major": 2,
       "version_minor": 0
      },
      "text/plain": [
       "2020-02-10:   0%|          | 0/17188 [00:00<?, ?it/s]"
      ]
     },
     "metadata": {},
     "output_type": "display_data"
    },
    {
     "name": "stdout",
     "output_type": "stream",
     "text": [
      "2020-02-10 17188 Record inserted successfully.\n"
     ]
    },
    {
     "data": {
      "application/vnd.jupyter.widget-view+json": {
       "model_id": "8b9514816f934c05aa652357dfa081cc",
       "version_major": 2,
       "version_minor": 0
      },
      "text/plain": [
       "2020-02-11:   0%|          | 0/17343 [00:00<?, ?it/s]"
      ]
     },
     "metadata": {},
     "output_type": "display_data"
    },
    {
     "name": "stdout",
     "output_type": "stream",
     "text": [
      "2020-02-11 17343 Record inserted successfully.\n"
     ]
    },
    {
     "data": {
      "application/vnd.jupyter.widget-view+json": {
       "model_id": "2b052e8805ee472da5546b40a043c757",
       "version_major": 2,
       "version_minor": 0
      },
      "text/plain": [
       "2020-02-12:   0%|          | 0/17380 [00:00<?, ?it/s]"
      ]
     },
     "metadata": {},
     "output_type": "display_data"
    },
    {
     "name": "stdout",
     "output_type": "stream",
     "text": [
      "2020-02-12 17380 Record inserted successfully.\n"
     ]
    },
    {
     "data": {
      "application/vnd.jupyter.widget-view+json": {
       "model_id": "dc10d98615a34b31a1533d86f9158d3d",
       "version_major": 2,
       "version_minor": 0
      },
      "text/plain": [
       "2020-02-13:   0%|          | 0/17404 [00:00<?, ?it/s]"
      ]
     },
     "metadata": {},
     "output_type": "display_data"
    },
    {
     "name": "stdout",
     "output_type": "stream",
     "text": [
      "2020-02-13 17404 Record inserted successfully.\n"
     ]
    },
    {
     "data": {
      "application/vnd.jupyter.widget-view+json": {
       "model_id": "1fae528233b849449a77b53919a796ad",
       "version_major": 2,
       "version_minor": 0
      },
      "text/plain": [
       "2020-02-14:   0%|          | 0/17347 [00:00<?, ?it/s]"
      ]
     },
     "metadata": {},
     "output_type": "display_data"
    },
    {
     "name": "stdout",
     "output_type": "stream",
     "text": [
      "2020-02-14 17347 Record inserted successfully.\n"
     ]
    },
    {
     "data": {
      "application/vnd.jupyter.widget-view+json": {
       "model_id": "b06e143be8664f1588812a4027ef83a5",
       "version_major": 2,
       "version_minor": 0
      },
      "text/plain": [
       "2020-02-17:   0%|          | 0/17368 [00:00<?, ?it/s]"
      ]
     },
     "metadata": {},
     "output_type": "display_data"
    },
    {
     "name": "stdout",
     "output_type": "stream",
     "text": [
      "2020-02-17 17368 Record inserted successfully.\n"
     ]
    },
    {
     "data": {
      "application/vnd.jupyter.widget-view+json": {
       "model_id": "dd4d6e181dce488eb3b56ba1b219f014",
       "version_major": 2,
       "version_minor": 0
      },
      "text/plain": [
       "2020-02-18:   0%|          | 0/17305 [00:00<?, ?it/s]"
      ]
     },
     "metadata": {},
     "output_type": "display_data"
    },
    {
     "name": "stdout",
     "output_type": "stream",
     "text": [
      "2020-02-18 17305 Record inserted successfully.\n"
     ]
    },
    {
     "data": {
      "application/vnd.jupyter.widget-view+json": {
       "model_id": "c64c92c2c1b3496b81a627ff88f765ab",
       "version_major": 2,
       "version_minor": 0
      },
      "text/plain": [
       "2020-02-19:   0%|          | 0/17296 [00:00<?, ?it/s]"
      ]
     },
     "metadata": {},
     "output_type": "display_data"
    },
    {
     "name": "stdout",
     "output_type": "stream",
     "text": [
      "2020-02-19 17296 Record inserted successfully.\n"
     ]
    },
    {
     "data": {
      "application/vnd.jupyter.widget-view+json": {
       "model_id": "35a82fe7813e4339b91c20a7d5742316",
       "version_major": 2,
       "version_minor": 0
      },
      "text/plain": [
       "2020-02-20:   0%|          | 0/17378 [00:00<?, ?it/s]"
      ]
     },
     "metadata": {},
     "output_type": "display_data"
    },
    {
     "name": "stdout",
     "output_type": "stream",
     "text": [
      "2020-02-20 17378 Record inserted successfully.\n"
     ]
    },
    {
     "data": {
      "application/vnd.jupyter.widget-view+json": {
       "model_id": "580f407b32ae4a2b90d385828aabeaa0",
       "version_major": 2,
       "version_minor": 0
      },
      "text/plain": [
       "2020-02-21:   0%|          | 0/17318 [00:00<?, ?it/s]"
      ]
     },
     "metadata": {},
     "output_type": "display_data"
    },
    {
     "name": "stdout",
     "output_type": "stream",
     "text": [
      "2020-02-21 17318 Record inserted successfully.\n"
     ]
    },
    {
     "data": {
      "application/vnd.jupyter.widget-view+json": {
       "model_id": "4fbb0f1e10e0477693bad7dbcc83d15e",
       "version_major": 2,
       "version_minor": 0
      },
      "text/plain": [
       "2020-02-24:   0%|          | 0/17257 [00:00<?, ?it/s]"
      ]
     },
     "metadata": {},
     "output_type": "display_data"
    },
    {
     "name": "stdout",
     "output_type": "stream",
     "text": [
      "2020-02-24 17257 Record inserted successfully.\n"
     ]
    },
    {
     "data": {
      "application/vnd.jupyter.widget-view+json": {
       "model_id": "c8e3bc3abcdb45bfb3306aa35d8b023e",
       "version_major": 2,
       "version_minor": 0
      },
      "text/plain": [
       "2020-02-25:   0%|          | 0/17249 [00:00<?, ?it/s]"
      ]
     },
     "metadata": {},
     "output_type": "display_data"
    },
    {
     "name": "stdout",
     "output_type": "stream",
     "text": [
      "2020-02-25 17249 Record inserted successfully.\n"
     ]
    },
    {
     "data": {
      "application/vnd.jupyter.widget-view+json": {
       "model_id": "015fb7ef616b43d5b2c208c88ae4c22a",
       "version_major": 2,
       "version_minor": 0
      },
      "text/plain": [
       "2020-02-26:   0%|          | 0/17269 [00:00<?, ?it/s]"
      ]
     },
     "metadata": {},
     "output_type": "display_data"
    },
    {
     "name": "stdout",
     "output_type": "stream",
     "text": [
      "2020-02-26 17269 Record inserted successfully.\n"
     ]
    },
    {
     "data": {
      "application/vnd.jupyter.widget-view+json": {
       "model_id": "9bf12a7ca9934ef4993a906333fcaa24",
       "version_major": 2,
       "version_minor": 0
      },
      "text/plain": [
       "2020-02-27:   0%|          | 0/16868 [00:00<?, ?it/s]"
      ]
     },
     "metadata": {},
     "output_type": "display_data"
    },
    {
     "name": "stdout",
     "output_type": "stream",
     "text": [
      "2020-02-27 16868 Record inserted successfully.\n"
     ]
    },
    {
     "data": {
      "application/vnd.jupyter.widget-view+json": {
       "model_id": "b9f648bfcfe449548ee7ca887d60dc3d",
       "version_major": 2,
       "version_minor": 0
      },
      "text/plain": [
       "2020-03-02:   0%|          | 0/16894 [00:00<?, ?it/s]"
      ]
     },
     "metadata": {},
     "output_type": "display_data"
    },
    {
     "name": "stdout",
     "output_type": "stream",
     "text": [
      "2020-03-02 16894 Record inserted successfully.\n"
     ]
    },
    {
     "data": {
      "application/vnd.jupyter.widget-view+json": {
       "model_id": "58d20b39f12f4a5f840222fe590d5e9b",
       "version_major": 2,
       "version_minor": 0
      },
      "text/plain": [
       "2020-03-03:   0%|          | 0/16878 [00:00<?, ?it/s]"
      ]
     },
     "metadata": {},
     "output_type": "display_data"
    },
    {
     "name": "stdout",
     "output_type": "stream",
     "text": [
      "2020-03-03 16878 Record inserted successfully.\n"
     ]
    },
    {
     "data": {
      "application/vnd.jupyter.widget-view+json": {
       "model_id": "b1b4d704de084285a786f425f1ec01d0",
       "version_major": 2,
       "version_minor": 0
      },
      "text/plain": [
       "2020-03-04:   0%|          | 0/16836 [00:00<?, ?it/s]"
      ]
     },
     "metadata": {},
     "output_type": "display_data"
    },
    {
     "name": "stdout",
     "output_type": "stream",
     "text": [
      "2020-03-04 16836 Record inserted successfully.\n"
     ]
    },
    {
     "data": {
      "application/vnd.jupyter.widget-view+json": {
       "model_id": "06a2339a2bda4f2ea9c21f153911c710",
       "version_major": 2,
       "version_minor": 0
      },
      "text/plain": [
       "2020-03-05:   0%|          | 0/16962 [00:00<?, ?it/s]"
      ]
     },
     "metadata": {},
     "output_type": "display_data"
    },
    {
     "name": "stdout",
     "output_type": "stream",
     "text": [
      "2020-03-05 16962 Record inserted successfully.\n"
     ]
    },
    {
     "data": {
      "application/vnd.jupyter.widget-view+json": {
       "model_id": "ba44220c8d134153b72b93f01e94e465",
       "version_major": 2,
       "version_minor": 0
      },
      "text/plain": [
       "2020-03-06:   0%|          | 0/16843 [00:00<?, ?it/s]"
      ]
     },
     "metadata": {},
     "output_type": "display_data"
    },
    {
     "name": "stdout",
     "output_type": "stream",
     "text": [
      "2020-03-06 16843 Record inserted successfully.\n"
     ]
    },
    {
     "data": {
      "application/vnd.jupyter.widget-view+json": {
       "model_id": "08145fbb911b4f1885583337d54a5a46",
       "version_major": 2,
       "version_minor": 0
      },
      "text/plain": [
       "2020-03-09:   0%|          | 0/16884 [00:00<?, ?it/s]"
      ]
     },
     "metadata": {},
     "output_type": "display_data"
    },
    {
     "name": "stdout",
     "output_type": "stream",
     "text": [
      "2020-03-09 16884 Record inserted successfully.\n"
     ]
    },
    {
     "data": {
      "application/vnd.jupyter.widget-view+json": {
       "model_id": "9a0df63b068741e5861e50e45efe0a60",
       "version_major": 2,
       "version_minor": 0
      },
      "text/plain": [
       "2020-03-10:   0%|          | 0/16831 [00:00<?, ?it/s]"
      ]
     },
     "metadata": {},
     "output_type": "display_data"
    },
    {
     "name": "stdout",
     "output_type": "stream",
     "text": [
      "2020-03-10 16831 Record inserted successfully.\n"
     ]
    },
    {
     "data": {
      "application/vnd.jupyter.widget-view+json": {
       "model_id": "fea94835758f4619a1cfe92040ec478b",
       "version_major": 2,
       "version_minor": 0
      },
      "text/plain": [
       "2020-03-11:   0%|          | 0/16940 [00:00<?, ?it/s]"
      ]
     },
     "metadata": {},
     "output_type": "display_data"
    },
    {
     "name": "stdout",
     "output_type": "stream",
     "text": [
      "2020-03-11 16940 Record inserted successfully.\n"
     ]
    },
    {
     "data": {
      "application/vnd.jupyter.widget-view+json": {
       "model_id": "a95ae8d7764149d4be595513c5b4e904",
       "version_major": 2,
       "version_minor": 0
      },
      "text/plain": [
       "2020-03-12:   0%|          | 0/17014 [00:00<?, ?it/s]"
      ]
     },
     "metadata": {},
     "output_type": "display_data"
    },
    {
     "name": "stdout",
     "output_type": "stream",
     "text": [
      "2020-03-12 17014 Record inserted successfully.\n"
     ]
    },
    {
     "data": {
      "application/vnd.jupyter.widget-view+json": {
       "model_id": "9e4282e2fbcb4855abfc74d95999259d",
       "version_major": 2,
       "version_minor": 0
      },
      "text/plain": [
       "2020-03-13:   0%|          | 0/16856 [00:00<?, ?it/s]"
      ]
     },
     "metadata": {},
     "output_type": "display_data"
    },
    {
     "name": "stdout",
     "output_type": "stream",
     "text": [
      "2020-03-13 16856 Record inserted successfully.\n"
     ]
    },
    {
     "data": {
      "application/vnd.jupyter.widget-view+json": {
       "model_id": "6a6d6c55ae874c89a8c4f2fc8c952974",
       "version_major": 2,
       "version_minor": 0
      },
      "text/plain": [
       "2020-03-16:   0%|          | 0/16871 [00:00<?, ?it/s]"
      ]
     },
     "metadata": {},
     "output_type": "display_data"
    },
    {
     "name": "stdout",
     "output_type": "stream",
     "text": [
      "2020-03-16 16871 Record inserted successfully.\n"
     ]
    },
    {
     "data": {
      "application/vnd.jupyter.widget-view+json": {
       "model_id": "1185191e6eb947fbb8a9061a9b5abfe6",
       "version_major": 2,
       "version_minor": 0
      },
      "text/plain": [
       "2020-03-17:   0%|          | 0/16814 [00:00<?, ?it/s]"
      ]
     },
     "metadata": {},
     "output_type": "display_data"
    },
    {
     "name": "stdout",
     "output_type": "stream",
     "text": [
      "2020-03-17 16814 Record inserted successfully.\n"
     ]
    },
    {
     "data": {
      "application/vnd.jupyter.widget-view+json": {
       "model_id": "b8e7ed7219594aaa92c686a076cf17ee",
       "version_major": 2,
       "version_minor": 0
      },
      "text/plain": [
       "2020-03-18:   0%|          | 0/16811 [00:00<?, ?it/s]"
      ]
     },
     "metadata": {},
     "output_type": "display_data"
    },
    {
     "name": "stdout",
     "output_type": "stream",
     "text": [
      "2020-03-18 16811 Record inserted successfully.\n"
     ]
    },
    {
     "data": {
      "application/vnd.jupyter.widget-view+json": {
       "model_id": "a7ce40f149194288b0e727bba3e458e0",
       "version_major": 2,
       "version_minor": 0
      },
      "text/plain": [
       "2020-03-19:   0%|          | 0/16883 [00:00<?, ?it/s]"
      ]
     },
     "metadata": {},
     "output_type": "display_data"
    },
    {
     "name": "stdout",
     "output_type": "stream",
     "text": [
      "2020-03-19 16883 Record inserted successfully.\n"
     ]
    },
    {
     "data": {
      "application/vnd.jupyter.widget-view+json": {
       "model_id": "d5662ce610104764b72f0b50c1cf883b",
       "version_major": 2,
       "version_minor": 0
      },
      "text/plain": [
       "2020-03-20:   0%|          | 0/16702 [00:00<?, ?it/s]"
      ]
     },
     "metadata": {},
     "output_type": "display_data"
    },
    {
     "name": "stdout",
     "output_type": "stream",
     "text": [
      "2020-03-20 16702 Record inserted successfully.\n"
     ]
    },
    {
     "data": {
      "application/vnd.jupyter.widget-view+json": {
       "model_id": "ed4087cc7da54d6cb48526e1df3f5815",
       "version_major": 2,
       "version_minor": 0
      },
      "text/plain": [
       "2020-03-23:   0%|          | 0/16675 [00:00<?, ?it/s]"
      ]
     },
     "metadata": {},
     "output_type": "display_data"
    },
    {
     "name": "stdout",
     "output_type": "stream",
     "text": [
      "2020-03-23 16675 Record inserted successfully.\n"
     ]
    },
    {
     "data": {
      "application/vnd.jupyter.widget-view+json": {
       "model_id": "459545cd7a4d4ad5b58cd0f8ba0414bf",
       "version_major": 2,
       "version_minor": 0
      },
      "text/plain": [
       "2020-03-24:   0%|          | 0/16625 [00:00<?, ?it/s]"
      ]
     },
     "metadata": {},
     "output_type": "display_data"
    },
    {
     "name": "stdout",
     "output_type": "stream",
     "text": [
      "2020-03-24 16625 Record inserted successfully.\n"
     ]
    },
    {
     "data": {
      "application/vnd.jupyter.widget-view+json": {
       "model_id": "33307078997f474baad5edbf31a1b2b8",
       "version_major": 2,
       "version_minor": 0
      },
      "text/plain": [
       "2020-03-25:   0%|          | 0/16591 [00:00<?, ?it/s]"
      ]
     },
     "metadata": {},
     "output_type": "display_data"
    },
    {
     "name": "stdout",
     "output_type": "stream",
     "text": [
      "2020-03-25 16591 Record inserted successfully.\n"
     ]
    },
    {
     "data": {
      "application/vnd.jupyter.widget-view+json": {
       "model_id": "60beb9c0a7ae437d978adb60f4c544bf",
       "version_major": 2,
       "version_minor": 0
      },
      "text/plain": [
       "2020-03-26:   0%|          | 0/16658 [00:00<?, ?it/s]"
      ]
     },
     "metadata": {},
     "output_type": "display_data"
    },
    {
     "name": "stdout",
     "output_type": "stream",
     "text": [
      "2020-03-26 16658 Record inserted successfully.\n"
     ]
    },
    {
     "data": {
      "application/vnd.jupyter.widget-view+json": {
       "model_id": "aaf1e80bfed743c4aadb7baad427e7fe",
       "version_major": 2,
       "version_minor": 0
      },
      "text/plain": [
       "2020-03-27:   0%|          | 0/16687 [00:00<?, ?it/s]"
      ]
     },
     "metadata": {},
     "output_type": "display_data"
    },
    {
     "name": "stdout",
     "output_type": "stream",
     "text": [
      "2020-03-27 16687 Record inserted successfully.\n"
     ]
    },
    {
     "data": {
      "application/vnd.jupyter.widget-view+json": {
       "model_id": "c7e736068d4f4790bbfbf8539e461f5f",
       "version_major": 2,
       "version_minor": 0
      },
      "text/plain": [
       "2020-03-30:   0%|          | 0/16656 [00:00<?, ?it/s]"
      ]
     },
     "metadata": {},
     "output_type": "display_data"
    },
    {
     "name": "stdout",
     "output_type": "stream",
     "text": [
      "2020-03-30 16656 Record inserted successfully.\n"
     ]
    },
    {
     "data": {
      "application/vnd.jupyter.widget-view+json": {
       "model_id": "b287d37896c54dbeb69530356850fa83",
       "version_major": 2,
       "version_minor": 0
      },
      "text/plain": [
       "2020-03-31:   0%|          | 0/16728 [00:00<?, ?it/s]"
      ]
     },
     "metadata": {},
     "output_type": "display_data"
    },
    {
     "name": "stdout",
     "output_type": "stream",
     "text": [
      "2020-03-31 16728 Record inserted successfully.\n"
     ]
    },
    {
     "data": {
      "application/vnd.jupyter.widget-view+json": {
       "model_id": "470713f587884d7a9b635b7dcd6e27fb",
       "version_major": 2,
       "version_minor": 0
      },
      "text/plain": [
       "2020-04-01:   0%|          | 0/16329 [00:00<?, ?it/s]"
      ]
     },
     "metadata": {},
     "output_type": "display_data"
    },
    {
     "name": "stdout",
     "output_type": "stream",
     "text": [
      "2020-04-01 16329 Record inserted successfully.\n"
     ]
    },
    {
     "data": {
      "application/vnd.jupyter.widget-view+json": {
       "model_id": "4fac09a4b6704c3f8911b1b168c9771f",
       "version_major": 2,
       "version_minor": 0
      },
      "text/plain": [
       "2020-04-06:   0%|          | 0/16377 [00:00<?, ?it/s]"
      ]
     },
     "metadata": {},
     "output_type": "display_data"
    },
    {
     "name": "stdout",
     "output_type": "stream",
     "text": [
      "2020-04-06 16377 Record inserted successfully.\n"
     ]
    },
    {
     "data": {
      "application/vnd.jupyter.widget-view+json": {
       "model_id": "67908c8c4c8b46539d5a09c7db567275",
       "version_major": 2,
       "version_minor": 0
      },
      "text/plain": [
       "2020-04-07:   0%|          | 0/16363 [00:00<?, ?it/s]"
      ]
     },
     "metadata": {},
     "output_type": "display_data"
    },
    {
     "name": "stdout",
     "output_type": "stream",
     "text": [
      "2020-04-07 16363 Record inserted successfully.\n"
     ]
    },
    {
     "data": {
      "application/vnd.jupyter.widget-view+json": {
       "model_id": "745a3795bca54319973c15fc49fca8be",
       "version_major": 2,
       "version_minor": 0
      },
      "text/plain": [
       "2020-04-08:   0%|          | 0/16489 [00:00<?, ?it/s]"
      ]
     },
     "metadata": {},
     "output_type": "display_data"
    },
    {
     "name": "stdout",
     "output_type": "stream",
     "text": [
      "2020-04-08 16489 Record inserted successfully.\n"
     ]
    },
    {
     "data": {
      "application/vnd.jupyter.widget-view+json": {
       "model_id": "e480dd0f11994ba1a78094caaa2d9c11",
       "version_major": 2,
       "version_minor": 0
      },
      "text/plain": [
       "2020-04-09:   0%|          | 0/16576 [00:00<?, ?it/s]"
      ]
     },
     "metadata": {},
     "output_type": "display_data"
    },
    {
     "name": "stdout",
     "output_type": "stream",
     "text": [
      "2020-04-09 16576 Record inserted successfully.\n"
     ]
    },
    {
     "data": {
      "application/vnd.jupyter.widget-view+json": {
       "model_id": "4b1144137a6749f5bd23e3fc5a22a34b",
       "version_major": 2,
       "version_minor": 0
      },
      "text/plain": [
       "2020-04-10:   0%|          | 0/16507 [00:00<?, ?it/s]"
      ]
     },
     "metadata": {},
     "output_type": "display_data"
    },
    {
     "name": "stdout",
     "output_type": "stream",
     "text": [
      "2020-04-10 16507 Record inserted successfully.\n"
     ]
    },
    {
     "data": {
      "application/vnd.jupyter.widget-view+json": {
       "model_id": "03a1936514cc4fa59a9d144061522940",
       "version_major": 2,
       "version_minor": 0
      },
      "text/plain": [
       "2020-04-13:   0%|          | 0/16510 [00:00<?, ?it/s]"
      ]
     },
     "metadata": {},
     "output_type": "display_data"
    },
    {
     "name": "stdout",
     "output_type": "stream",
     "text": [
      "2020-04-13 16510 Record inserted successfully.\n"
     ]
    },
    {
     "data": {
      "application/vnd.jupyter.widget-view+json": {
       "model_id": "e080a120967a42e6810fa69f3f6eb2cf",
       "version_major": 2,
       "version_minor": 0
      },
      "text/plain": [
       "2020-04-14:   0%|          | 0/16428 [00:00<?, ?it/s]"
      ]
     },
     "metadata": {},
     "output_type": "display_data"
    },
    {
     "name": "stdout",
     "output_type": "stream",
     "text": [
      "2020-04-14 16428 Record inserted successfully.\n"
     ]
    },
    {
     "data": {
      "application/vnd.jupyter.widget-view+json": {
       "model_id": "a64bdeb55ec74086b0011e689cf41c1c",
       "version_major": 2,
       "version_minor": 0
      },
      "text/plain": [
       "2020-04-15:   0%|          | 0/16381 [00:00<?, ?it/s]"
      ]
     },
     "metadata": {},
     "output_type": "display_data"
    },
    {
     "name": "stdout",
     "output_type": "stream",
     "text": [
      "2020-04-15 16381 Record inserted successfully.\n"
     ]
    },
    {
     "data": {
      "application/vnd.jupyter.widget-view+json": {
       "model_id": "3cd89f2eaa3c49969f5baab84ce085a8",
       "version_major": 2,
       "version_minor": 0
      },
      "text/plain": [
       "2020-04-16:   0%|          | 0/16325 [00:00<?, ?it/s]"
      ]
     },
     "metadata": {},
     "output_type": "display_data"
    },
    {
     "name": "stdout",
     "output_type": "stream",
     "text": [
      "2020-04-16 16325 Record inserted successfully.\n"
     ]
    },
    {
     "data": {
      "application/vnd.jupyter.widget-view+json": {
       "model_id": "ddabbda13c1849399973a41ecaf56894",
       "version_major": 2,
       "version_minor": 0
      },
      "text/plain": [
       "2020-04-17:   0%|          | 0/16283 [00:00<?, ?it/s]"
      ]
     },
     "metadata": {},
     "output_type": "display_data"
    },
    {
     "name": "stdout",
     "output_type": "stream",
     "text": [
      "2020-04-17 16283 Record inserted successfully.\n"
     ]
    },
    {
     "data": {
      "application/vnd.jupyter.widget-view+json": {
       "model_id": "46b3374cc8f74c02bcdfebf72b254b13",
       "version_major": 2,
       "version_minor": 0
      },
      "text/plain": [
       "2020-04-20:   0%|          | 0/16313 [00:00<?, ?it/s]"
      ]
     },
     "metadata": {},
     "output_type": "display_data"
    },
    {
     "name": "stdout",
     "output_type": "stream",
     "text": [
      "2020-04-20 16313 Record inserted successfully.\n"
     ]
    },
    {
     "data": {
      "application/vnd.jupyter.widget-view+json": {
       "model_id": "0ae543cab183442bb224ac42854c7e84",
       "version_major": 2,
       "version_minor": 0
      },
      "text/plain": [
       "2020-04-21:   0%|          | 0/16337 [00:00<?, ?it/s]"
      ]
     },
     "metadata": {},
     "output_type": "display_data"
    },
    {
     "name": "stdout",
     "output_type": "stream",
     "text": [
      "2020-04-21 16337 Record inserted successfully.\n"
     ]
    },
    {
     "data": {
      "application/vnd.jupyter.widget-view+json": {
       "model_id": "2d9cc29aa92e4326826d6e77b3da34c9",
       "version_major": 2,
       "version_minor": 0
      },
      "text/plain": [
       "2020-04-22:   0%|          | 0/16358 [00:00<?, ?it/s]"
      ]
     },
     "metadata": {},
     "output_type": "display_data"
    },
    {
     "name": "stdout",
     "output_type": "stream",
     "text": [
      "2020-04-22 16358 Record inserted successfully.\n"
     ]
    },
    {
     "data": {
      "application/vnd.jupyter.widget-view+json": {
       "model_id": "104628c258f24a93b33f0414bf7cb6f4",
       "version_major": 2,
       "version_minor": 0
      },
      "text/plain": [
       "2020-04-23:   0%|          | 0/16361 [00:00<?, ?it/s]"
      ]
     },
     "metadata": {},
     "output_type": "display_data"
    },
    {
     "name": "stdout",
     "output_type": "stream",
     "text": [
      "2020-04-23 16361 Record inserted successfully.\n"
     ]
    },
    {
     "data": {
      "application/vnd.jupyter.widget-view+json": {
       "model_id": "8137de4963ea413eb23dd3388f1257c1",
       "version_major": 2,
       "version_minor": 0
      },
      "text/plain": [
       "2020-04-24:   0%|          | 0/16274 [00:00<?, ?it/s]"
      ]
     },
     "metadata": {},
     "output_type": "display_data"
    },
    {
     "name": "stdout",
     "output_type": "stream",
     "text": [
      "2020-04-24 16274 Record inserted successfully.\n"
     ]
    },
    {
     "data": {
      "application/vnd.jupyter.widget-view+json": {
       "model_id": "cebb6db77bdf49c794e55c0675c9e46d",
       "version_major": 2,
       "version_minor": 0
      },
      "text/plain": [
       "2020-04-27:   0%|          | 0/16293 [00:00<?, ?it/s]"
      ]
     },
     "metadata": {},
     "output_type": "display_data"
    },
    {
     "name": "stdout",
     "output_type": "stream",
     "text": [
      "2020-04-27 16293 Record inserted successfully.\n"
     ]
    },
    {
     "data": {
      "application/vnd.jupyter.widget-view+json": {
       "model_id": "4621a036c1314b67a640512f7a50b56e",
       "version_major": 2,
       "version_minor": 0
      },
      "text/plain": [
       "2020-04-28:   0%|          | 0/16323 [00:00<?, ?it/s]"
      ]
     },
     "metadata": {},
     "output_type": "display_data"
    },
    {
     "name": "stdout",
     "output_type": "stream",
     "text": [
      "2020-04-28 16323 Record inserted successfully.\n"
     ]
    },
    {
     "data": {
      "application/vnd.jupyter.widget-view+json": {
       "model_id": "192dbecd03e9482c86a67ed76d85fb4f",
       "version_major": 2,
       "version_minor": 0
      },
      "text/plain": [
       "2020-04-29:   0%|          | 0/16222 [00:00<?, ?it/s]"
      ]
     },
     "metadata": {},
     "output_type": "display_data"
    },
    {
     "name": "stdout",
     "output_type": "stream",
     "text": [
      "2020-04-29 16222 Record inserted successfully.\n"
     ]
    },
    {
     "data": {
      "application/vnd.jupyter.widget-view+json": {
       "model_id": "2b67e8fece6149bf9c45766f8373a1da",
       "version_major": 2,
       "version_minor": 0
      },
      "text/plain": [
       "2020-04-30:   0%|          | 0/16021 [00:00<?, ?it/s]"
      ]
     },
     "metadata": {},
     "output_type": "display_data"
    },
    {
     "name": "stdout",
     "output_type": "stream",
     "text": [
      "2020-04-30 16021 Record inserted successfully.\n"
     ]
    },
    {
     "data": {
      "application/vnd.jupyter.widget-view+json": {
       "model_id": "d85955d7d40c43228ec0458efc76c304",
       "version_major": 2,
       "version_minor": 0
      },
      "text/plain": [
       "2020-05-04:   0%|          | 0/16015 [00:00<?, ?it/s]"
      ]
     },
     "metadata": {},
     "output_type": "display_data"
    },
    {
     "name": "stdout",
     "output_type": "stream",
     "text": [
      "2020-05-04 16015 Record inserted successfully.\n"
     ]
    },
    {
     "data": {
      "application/vnd.jupyter.widget-view+json": {
       "model_id": "4e20389ca0604b4089bfee490723b13d",
       "version_major": 2,
       "version_minor": 0
      },
      "text/plain": [
       "2020-05-05:   0%|          | 0/16025 [00:00<?, ?it/s]"
      ]
     },
     "metadata": {},
     "output_type": "display_data"
    },
    {
     "name": "stdout",
     "output_type": "stream",
     "text": [
      "2020-05-05 16025 Record inserted successfully.\n"
     ]
    },
    {
     "data": {
      "application/vnd.jupyter.widget-view+json": {
       "model_id": "c1e895f837cc449ca926731e30a71a60",
       "version_major": 2,
       "version_minor": 0
      },
      "text/plain": [
       "2020-05-06:   0%|          | 0/16057 [00:00<?, ?it/s]"
      ]
     },
     "metadata": {},
     "output_type": "display_data"
    },
    {
     "name": "stdout",
     "output_type": "stream",
     "text": [
      "2020-05-06 16057 Record inserted successfully.\n"
     ]
    },
    {
     "data": {
      "application/vnd.jupyter.widget-view+json": {
       "model_id": "3285a673f93d46a9a476a701d71abe63",
       "version_major": 2,
       "version_minor": 0
      },
      "text/plain": [
       "2020-05-07:   0%|          | 0/16137 [00:00<?, ?it/s]"
      ]
     },
     "metadata": {},
     "output_type": "display_data"
    },
    {
     "name": "stdout",
     "output_type": "stream",
     "text": [
      "2020-05-07 16137 Record inserted successfully.\n"
     ]
    },
    {
     "data": {
      "application/vnd.jupyter.widget-view+json": {
       "model_id": "053d7b2e6be54671a852f699baf4b77f",
       "version_major": 2,
       "version_minor": 0
      },
      "text/plain": [
       "2020-05-08:   0%|          | 0/16021 [00:00<?, ?it/s]"
      ]
     },
     "metadata": {},
     "output_type": "display_data"
    },
    {
     "name": "stdout",
     "output_type": "stream",
     "text": [
      "2020-05-08 16021 Record inserted successfully.\n"
     ]
    },
    {
     "data": {
      "application/vnd.jupyter.widget-view+json": {
       "model_id": "a476058df828494da1ba03d23c349eb0",
       "version_major": 2,
       "version_minor": 0
      },
      "text/plain": [
       "2020-05-11:   0%|          | 0/16066 [00:00<?, ?it/s]"
      ]
     },
     "metadata": {},
     "output_type": "display_data"
    },
    {
     "name": "stdout",
     "output_type": "stream",
     "text": [
      "2020-05-11 16066 Record inserted successfully.\n"
     ]
    },
    {
     "data": {
      "application/vnd.jupyter.widget-view+json": {
       "model_id": "701cbf3336a746289e8e86e4c04d9d71",
       "version_major": 2,
       "version_minor": 0
      },
      "text/plain": [
       "2020-05-12:   0%|          | 0/16108 [00:00<?, ?it/s]"
      ]
     },
     "metadata": {},
     "output_type": "display_data"
    },
    {
     "name": "stdout",
     "output_type": "stream",
     "text": [
      "2020-05-12 16108 Record inserted successfully.\n"
     ]
    },
    {
     "data": {
      "application/vnd.jupyter.widget-view+json": {
       "model_id": "03ec9c1f598645a6a27f9ac3ac507c66",
       "version_major": 2,
       "version_minor": 0
      },
      "text/plain": [
       "2020-05-13:   0%|          | 0/16092 [00:00<?, ?it/s]"
      ]
     },
     "metadata": {},
     "output_type": "display_data"
    },
    {
     "name": "stdout",
     "output_type": "stream",
     "text": [
      "2020-05-13 16092 Record inserted successfully.\n"
     ]
    },
    {
     "data": {
      "application/vnd.jupyter.widget-view+json": {
       "model_id": "dc3977baf1124cb7a7c2dccd628cdd8f",
       "version_major": 2,
       "version_minor": 0
      },
      "text/plain": [
       "2020-05-14:   0%|          | 0/16141 [00:00<?, ?it/s]"
      ]
     },
     "metadata": {},
     "output_type": "display_data"
    },
    {
     "name": "stdout",
     "output_type": "stream",
     "text": [
      "2020-05-14 16141 Record inserted successfully.\n"
     ]
    },
    {
     "data": {
      "application/vnd.jupyter.widget-view+json": {
       "model_id": "210cc5ceb232452785ea75c1085442cf",
       "version_major": 2,
       "version_minor": 0
      },
      "text/plain": [
       "2020-05-15:   0%|          | 0/16064 [00:00<?, ?it/s]"
      ]
     },
     "metadata": {},
     "output_type": "display_data"
    },
    {
     "name": "stdout",
     "output_type": "stream",
     "text": [
      "2020-05-15 16064 Record inserted successfully.\n"
     ]
    },
    {
     "data": {
      "application/vnd.jupyter.widget-view+json": {
       "model_id": "76ab69700de443068391f709bd04ec7c",
       "version_major": 2,
       "version_minor": 0
      },
      "text/plain": [
       "2020-05-18:   0%|          | 0/16091 [00:00<?, ?it/s]"
      ]
     },
     "metadata": {},
     "output_type": "display_data"
    },
    {
     "name": "stdout",
     "output_type": "stream",
     "text": [
      "2020-05-18 16091 Record inserted successfully.\n"
     ]
    },
    {
     "data": {
      "application/vnd.jupyter.widget-view+json": {
       "model_id": "8c76ee6a93224006bddb748886e80da9",
       "version_major": 2,
       "version_minor": 0
      },
      "text/plain": [
       "2020-05-19:   0%|          | 0/16117 [00:00<?, ?it/s]"
      ]
     },
     "metadata": {},
     "output_type": "display_data"
    },
    {
     "name": "stdout",
     "output_type": "stream",
     "text": [
      "2020-05-19 16117 Record inserted successfully.\n"
     ]
    },
    {
     "data": {
      "application/vnd.jupyter.widget-view+json": {
       "model_id": "edbb515590d5466a87d6eb1fbf131e0d",
       "version_major": 2,
       "version_minor": 0
      },
      "text/plain": [
       "2020-05-20:   0%|          | 0/16166 [00:00<?, ?it/s]"
      ]
     },
     "metadata": {},
     "output_type": "display_data"
    },
    {
     "name": "stdout",
     "output_type": "stream",
     "text": [
      "2020-05-20 16166 Record inserted successfully.\n"
     ]
    },
    {
     "data": {
      "application/vnd.jupyter.widget-view+json": {
       "model_id": "ba2780bce9ec4a83901c645682afcb41",
       "version_major": 2,
       "version_minor": 0
      },
      "text/plain": [
       "2020-05-21:   0%|          | 0/16250 [00:00<?, ?it/s]"
      ]
     },
     "metadata": {},
     "output_type": "display_data"
    },
    {
     "name": "stdout",
     "output_type": "stream",
     "text": [
      "2020-05-21 16250 Record inserted successfully.\n"
     ]
    },
    {
     "data": {
      "application/vnd.jupyter.widget-view+json": {
       "model_id": "f124a5bc53a04caf85584e12b76c30a0",
       "version_major": 2,
       "version_minor": 0
      },
      "text/plain": [
       "2020-05-22:   0%|          | 0/16183 [00:00<?, ?it/s]"
      ]
     },
     "metadata": {},
     "output_type": "display_data"
    },
    {
     "name": "stdout",
     "output_type": "stream",
     "text": [
      "2020-05-22 16183 Record inserted successfully.\n"
     ]
    },
    {
     "data": {
      "application/vnd.jupyter.widget-view+json": {
       "model_id": "f06e391bdcc34ea3b8b217cf5e590663",
       "version_major": 2,
       "version_minor": 0
      },
      "text/plain": [
       "2020-05-25:   0%|          | 0/16234 [00:00<?, ?it/s]"
      ]
     },
     "metadata": {},
     "output_type": "display_data"
    },
    {
     "name": "stdout",
     "output_type": "stream",
     "text": [
      "2020-05-25 16234 Record inserted successfully.\n"
     ]
    },
    {
     "data": {
      "application/vnd.jupyter.widget-view+json": {
       "model_id": "fd38946c510345cda63ea336eaff944b",
       "version_major": 2,
       "version_minor": 0
      },
      "text/plain": [
       "2020-05-26:   0%|          | 0/16293 [00:00<?, ?it/s]"
      ]
     },
     "metadata": {},
     "output_type": "display_data"
    },
    {
     "name": "stdout",
     "output_type": "stream",
     "text": [
      "2020-05-26 16293 Record inserted successfully.\n"
     ]
    },
    {
     "data": {
      "application/vnd.jupyter.widget-view+json": {
       "model_id": "846e441aae154f8f9a51fd6a7df2742e",
       "version_major": 2,
       "version_minor": 0
      },
      "text/plain": [
       "2020-05-27:   0%|          | 0/16342 [00:00<?, ?it/s]"
      ]
     },
     "metadata": {},
     "output_type": "display_data"
    },
    {
     "name": "stdout",
     "output_type": "stream",
     "text": [
      "2020-05-27 16342 Record inserted successfully.\n"
     ]
    },
    {
     "data": {
      "application/vnd.jupyter.widget-view+json": {
       "model_id": "9c1a69788eec44489406dd1000da918e",
       "version_major": 2,
       "version_minor": 0
      },
      "text/plain": [
       "2020-05-28:   0%|          | 0/16406 [00:00<?, ?it/s]"
      ]
     },
     "metadata": {},
     "output_type": "display_data"
    },
    {
     "name": "stdout",
     "output_type": "stream",
     "text": [
      "2020-05-28 16406 Record inserted successfully.\n"
     ]
    },
    {
     "data": {
      "application/vnd.jupyter.widget-view+json": {
       "model_id": "30095b655ecd4fe584841ed2be4ff24c",
       "version_major": 2,
       "version_minor": 0
      },
      "text/plain": [
       "2020-05-29:   0%|          | 0/16371 [00:00<?, ?it/s]"
      ]
     },
     "metadata": {},
     "output_type": "display_data"
    },
    {
     "name": "stdout",
     "output_type": "stream",
     "text": [
      "2020-05-29 16371 Record inserted successfully.\n"
     ]
    },
    {
     "data": {
      "application/vnd.jupyter.widget-view+json": {
       "model_id": "5daf56498c5140eea8455640351f46d7",
       "version_major": 2,
       "version_minor": 0
      },
      "text/plain": [
       "2020-06-01:   0%|          | 0/16418 [00:00<?, ?it/s]"
      ]
     },
     "metadata": {},
     "output_type": "display_data"
    },
    {
     "name": "stdout",
     "output_type": "stream",
     "text": [
      "2020-06-01 16418 Record inserted successfully.\n"
     ]
    },
    {
     "data": {
      "application/vnd.jupyter.widget-view+json": {
       "model_id": "bf6cc65aa0c2496786676a21038498f8",
       "version_major": 2,
       "version_minor": 0
      },
      "text/plain": [
       "2020-06-02:   0%|          | 0/16459 [00:00<?, ?it/s]"
      ]
     },
     "metadata": {},
     "output_type": "display_data"
    },
    {
     "name": "stdout",
     "output_type": "stream",
     "text": [
      "2020-06-02 16459 Record inserted successfully.\n"
     ]
    },
    {
     "data": {
      "application/vnd.jupyter.widget-view+json": {
       "model_id": "58b3778b0df14b53a634948e83b4c6ee",
       "version_major": 2,
       "version_minor": 0
      },
      "text/plain": [
       "2020-06-03:   0%|          | 0/16474 [00:00<?, ?it/s]"
      ]
     },
     "metadata": {},
     "output_type": "display_data"
    },
    {
     "name": "stdout",
     "output_type": "stream",
     "text": [
      "2020-06-03 16474 Record inserted successfully.\n"
     ]
    },
    {
     "data": {
      "application/vnd.jupyter.widget-view+json": {
       "model_id": "d94359b7bfd14bdda7f0bdd7ae569d46",
       "version_major": 2,
       "version_minor": 0
      },
      "text/plain": [
       "2020-06-04:   0%|          | 0/16494 [00:00<?, ?it/s]"
      ]
     },
     "metadata": {},
     "output_type": "display_data"
    },
    {
     "name": "stdout",
     "output_type": "stream",
     "text": [
      "2020-06-04 16494 Record inserted successfully.\n"
     ]
    },
    {
     "data": {
      "application/vnd.jupyter.widget-view+json": {
       "model_id": "2bd5c649577b4f4f81222e248f09a903",
       "version_major": 2,
       "version_minor": 0
      },
      "text/plain": [
       "2020-06-05:   0%|          | 0/16474 [00:00<?, ?it/s]"
      ]
     },
     "metadata": {},
     "output_type": "display_data"
    },
    {
     "name": "stdout",
     "output_type": "stream",
     "text": [
      "2020-06-05 16474 Record inserted successfully.\n"
     ]
    },
    {
     "data": {
      "application/vnd.jupyter.widget-view+json": {
       "model_id": "7be6c0e0cb93463fbc88fe4603059560",
       "version_major": 2,
       "version_minor": 0
      },
      "text/plain": [
       "2020-06-08:   0%|          | 0/16536 [00:00<?, ?it/s]"
      ]
     },
     "metadata": {},
     "output_type": "display_data"
    },
    {
     "name": "stdout",
     "output_type": "stream",
     "text": [
      "2020-06-08 16536 Record inserted successfully.\n"
     ]
    },
    {
     "data": {
      "application/vnd.jupyter.widget-view+json": {
       "model_id": "1b3a38b6a8d648d4973b18109e9143d4",
       "version_major": 2,
       "version_minor": 0
      },
      "text/plain": [
       "2020-06-09:   0%|          | 0/16589 [00:00<?, ?it/s]"
      ]
     },
     "metadata": {},
     "output_type": "display_data"
    },
    {
     "name": "stdout",
     "output_type": "stream",
     "text": [
      "2020-06-09 16589 Record inserted successfully.\n"
     ]
    },
    {
     "data": {
      "application/vnd.jupyter.widget-view+json": {
       "model_id": "2e64454e0e6744548610f7b3854076df",
       "version_major": 2,
       "version_minor": 0
      },
      "text/plain": [
       "2020-06-10:   0%|          | 0/16592 [00:00<?, ?it/s]"
      ]
     },
     "metadata": {},
     "output_type": "display_data"
    },
    {
     "name": "stdout",
     "output_type": "stream",
     "text": [
      "2020-06-10 16592 Record inserted successfully.\n"
     ]
    },
    {
     "data": {
      "application/vnd.jupyter.widget-view+json": {
       "model_id": "e5d5ac790d344977acfe0aca5d2b03ff",
       "version_major": 2,
       "version_minor": 0
      },
      "text/plain": [
       "2020-06-11:   0%|          | 0/16635 [00:00<?, ?it/s]"
      ]
     },
     "metadata": {},
     "output_type": "display_data"
    },
    {
     "name": "stdout",
     "output_type": "stream",
     "text": [
      "2020-06-11 16635 Record inserted successfully.\n"
     ]
    },
    {
     "data": {
      "application/vnd.jupyter.widget-view+json": {
       "model_id": "7c7a2ceecb5a4ed0b0c40cdb1308ca11",
       "version_major": 2,
       "version_minor": 0
      },
      "text/plain": [
       "2020-06-12:   0%|          | 0/16607 [00:00<?, ?it/s]"
      ]
     },
     "metadata": {},
     "output_type": "display_data"
    },
    {
     "name": "stdout",
     "output_type": "stream",
     "text": [
      "2020-06-12 16607 Record inserted successfully.\n"
     ]
    },
    {
     "data": {
      "application/vnd.jupyter.widget-view+json": {
       "model_id": "7ab9d4f08c0340b491290e0bae650093",
       "version_major": 2,
       "version_minor": 0
      },
      "text/plain": [
       "2020-06-15:   0%|          | 0/16645 [00:00<?, ?it/s]"
      ]
     },
     "metadata": {},
     "output_type": "display_data"
    },
    {
     "name": "stdout",
     "output_type": "stream",
     "text": [
      "2020-06-15 16645 Record inserted successfully.\n"
     ]
    },
    {
     "data": {
      "application/vnd.jupyter.widget-view+json": {
       "model_id": "9a58dc9070a6432f8e9c0ea032d098aa",
       "version_major": 2,
       "version_minor": 0
      },
      "text/plain": [
       "2020-06-16:   0%|          | 0/16638 [00:00<?, ?it/s]"
      ]
     },
     "metadata": {},
     "output_type": "display_data"
    },
    {
     "name": "stdout",
     "output_type": "stream",
     "text": [
      "2020-06-16 16638 Record inserted successfully.\n"
     ]
    },
    {
     "data": {
      "application/vnd.jupyter.widget-view+json": {
       "model_id": "275811f2af074518a71abeac0e57cc5d",
       "version_major": 2,
       "version_minor": 0
      },
      "text/plain": [
       "2020-06-17:   0%|          | 0/16704 [00:00<?, ?it/s]"
      ]
     },
     "metadata": {},
     "output_type": "display_data"
    },
    {
     "name": "stdout",
     "output_type": "stream",
     "text": [
      "2020-06-17 16704 Record inserted successfully.\n"
     ]
    },
    {
     "data": {
      "application/vnd.jupyter.widget-view+json": {
       "model_id": "b7d038c85ff54548a6214c6a8adb8d97",
       "version_major": 2,
       "version_minor": 0
      },
      "text/plain": [
       "2020-06-18:   0%|          | 0/16737 [00:00<?, ?it/s]"
      ]
     },
     "metadata": {},
     "output_type": "display_data"
    },
    {
     "name": "stdout",
     "output_type": "stream",
     "text": [
      "2020-06-18 16737 Record inserted successfully.\n"
     ]
    },
    {
     "data": {
      "application/vnd.jupyter.widget-view+json": {
       "model_id": "72988c340bf84727927843598f527f56",
       "version_major": 2,
       "version_minor": 0
      },
      "text/plain": [
       "2020-06-19:   0%|          | 0/16665 [00:00<?, ?it/s]"
      ]
     },
     "metadata": {},
     "output_type": "display_data"
    },
    {
     "name": "stdout",
     "output_type": "stream",
     "text": [
      "2020-06-19 16665 Record inserted successfully.\n"
     ]
    },
    {
     "data": {
      "application/vnd.jupyter.widget-view+json": {
       "model_id": "9d32dd7ee84542b299e9a0a55e087a4c",
       "version_major": 2,
       "version_minor": 0
      },
      "text/plain": [
       "2020-06-22:   0%|          | 0/16677 [00:00<?, ?it/s]"
      ]
     },
     "metadata": {},
     "output_type": "display_data"
    },
    {
     "name": "stdout",
     "output_type": "stream",
     "text": [
      "2020-06-22 16677 Record inserted successfully.\n"
     ]
    },
    {
     "data": {
      "application/vnd.jupyter.widget-view+json": {
       "model_id": "cb2dc58b14534dd7951bb51003f2e7d0",
       "version_major": 2,
       "version_minor": 0
      },
      "text/plain": [
       "2020-06-23:   0%|          | 0/16708 [00:00<?, ?it/s]"
      ]
     },
     "metadata": {},
     "output_type": "display_data"
    },
    {
     "name": "stdout",
     "output_type": "stream",
     "text": [
      "2020-06-23 16708 Record inserted successfully.\n"
     ]
    },
    {
     "data": {
      "application/vnd.jupyter.widget-view+json": {
       "model_id": "70a3bd29531441ae961b6a3fa424bb00",
       "version_major": 2,
       "version_minor": 0
      },
      "text/plain": [
       "2020-06-24:   0%|          | 0/16491 [00:00<?, ?it/s]"
      ]
     },
     "metadata": {},
     "output_type": "display_data"
    },
    {
     "name": "stdout",
     "output_type": "stream",
     "text": [
      "2020-06-24 16491 Record inserted successfully.\n"
     ]
    },
    {
     "data": {
      "application/vnd.jupyter.widget-view+json": {
       "model_id": "c614cb76604b43e1945cdb3aa2da9299",
       "version_major": 2,
       "version_minor": 0
      },
      "text/plain": [
       "2020-06-29:   0%|          | 0/16513 [00:00<?, ?it/s]"
      ]
     },
     "metadata": {},
     "output_type": "display_data"
    },
    {
     "name": "stdout",
     "output_type": "stream",
     "text": [
      "2020-06-29 16513 Record inserted successfully.\n"
     ]
    },
    {
     "data": {
      "application/vnd.jupyter.widget-view+json": {
       "model_id": "5635aee3a363460f990dc88b60054907",
       "version_major": 2,
       "version_minor": 0
      },
      "text/plain": [
       "2020-06-30:   0%|          | 0/16550 [00:00<?, ?it/s]"
      ]
     },
     "metadata": {},
     "output_type": "display_data"
    },
    {
     "name": "stdout",
     "output_type": "stream",
     "text": [
      "2020-06-30 16550 Record inserted successfully.\n"
     ]
    },
    {
     "data": {
      "application/vnd.jupyter.widget-view+json": {
       "model_id": "7a9471765aa845da8cac3f4ce5915771",
       "version_major": 2,
       "version_minor": 0
      },
      "text/plain": [
       "2020-07-01:   0%|          | 0/16573 [00:00<?, ?it/s]"
      ]
     },
     "metadata": {},
     "output_type": "display_data"
    },
    {
     "name": "stdout",
     "output_type": "stream",
     "text": [
      "2020-07-01 16573 Record inserted successfully.\n"
     ]
    },
    {
     "data": {
      "application/vnd.jupyter.widget-view+json": {
       "model_id": "a530069458cc43a5aad052f59e24525b",
       "version_major": 2,
       "version_minor": 0
      },
      "text/plain": [
       "2020-07-02:   0%|          | 0/16630 [00:00<?, ?it/s]"
      ]
     },
     "metadata": {},
     "output_type": "display_data"
    },
    {
     "name": "stdout",
     "output_type": "stream",
     "text": [
      "2020-07-02 16630 Record inserted successfully.\n"
     ]
    },
    {
     "data": {
      "application/vnd.jupyter.widget-view+json": {
       "model_id": "1a26e3a395b3429f9116918dd55917c5",
       "version_major": 2,
       "version_minor": 0
      },
      "text/plain": [
       "2020-07-03:   0%|          | 0/16420 [00:00<?, ?it/s]"
      ]
     },
     "metadata": {},
     "output_type": "display_data"
    },
    {
     "name": "stdout",
     "output_type": "stream",
     "text": [
      "2020-07-03 16420 Record inserted successfully.\n"
     ]
    },
    {
     "data": {
      "application/vnd.jupyter.widget-view+json": {
       "model_id": "cce897fd2d924d3ba77a86d3e3b2a9d1",
       "version_major": 2,
       "version_minor": 0
      },
      "text/plain": [
       "2020-07-06:   0%|          | 0/16592 [00:00<?, ?it/s]"
      ]
     },
     "metadata": {},
     "output_type": "display_data"
    },
    {
     "name": "stdout",
     "output_type": "stream",
     "text": [
      "2020-07-06 16592 Record inserted successfully.\n"
     ]
    },
    {
     "data": {
      "application/vnd.jupyter.widget-view+json": {
       "model_id": "a8936474f5824248b66578adb6888e34",
       "version_major": 2,
       "version_minor": 0
      },
      "text/plain": [
       "2020-07-07:   0%|          | 0/16659 [00:00<?, ?it/s]"
      ]
     },
     "metadata": {},
     "output_type": "display_data"
    },
    {
     "name": "stdout",
     "output_type": "stream",
     "text": [
      "2020-07-07 16659 Record inserted successfully.\n"
     ]
    },
    {
     "data": {
      "application/vnd.jupyter.widget-view+json": {
       "model_id": "0cecced79b42435684ebf54205e6a61d",
       "version_major": 2,
       "version_minor": 0
      },
      "text/plain": [
       "2020-07-08:   0%|          | 0/16697 [00:00<?, ?it/s]"
      ]
     },
     "metadata": {},
     "output_type": "display_data"
    },
    {
     "name": "stdout",
     "output_type": "stream",
     "text": [
      "2020-07-08 16697 Record inserted successfully.\n"
     ]
    },
    {
     "data": {
      "application/vnd.jupyter.widget-view+json": {
       "model_id": "936171449c4043b6a07197af8a7c475f",
       "version_major": 2,
       "version_minor": 0
      },
      "text/plain": [
       "2020-07-09:   0%|          | 0/16816 [00:00<?, ?it/s]"
      ]
     },
     "metadata": {},
     "output_type": "display_data"
    },
    {
     "name": "stdout",
     "output_type": "stream",
     "text": [
      "2020-07-09 16816 Record inserted successfully.\n"
     ]
    },
    {
     "data": {
      "application/vnd.jupyter.widget-view+json": {
       "model_id": "fbc9a0c9255245abbe894a18bb559d3e",
       "version_major": 2,
       "version_minor": 0
      },
      "text/plain": [
       "2020-07-10:   0%|          | 0/16663 [00:00<?, ?it/s]"
      ]
     },
     "metadata": {},
     "output_type": "display_data"
    },
    {
     "name": "stdout",
     "output_type": "stream",
     "text": [
      "2020-07-10 16663 Record inserted successfully.\n"
     ]
    },
    {
     "data": {
      "application/vnd.jupyter.widget-view+json": {
       "model_id": "9161d314b6744781aeedc6a846517f46",
       "version_major": 2,
       "version_minor": 0
      },
      "text/plain": [
       "2020-07-13:   0%|          | 0/16721 [00:00<?, ?it/s]"
      ]
     },
     "metadata": {},
     "output_type": "display_data"
    },
    {
     "name": "stdout",
     "output_type": "stream",
     "text": [
      "2020-07-13 16721 Record inserted successfully.\n"
     ]
    },
    {
     "data": {
      "application/vnd.jupyter.widget-view+json": {
       "model_id": "2277fdfd44f64874a075179181e75be1",
       "version_major": 2,
       "version_minor": 0
      },
      "text/plain": [
       "2020-07-14:   0%|          | 0/16701 [00:00<?, ?it/s]"
      ]
     },
     "metadata": {},
     "output_type": "display_data"
    },
    {
     "name": "stdout",
     "output_type": "stream",
     "text": [
      "2020-07-14 16701 Record inserted successfully.\n"
     ]
    },
    {
     "data": {
      "application/vnd.jupyter.widget-view+json": {
       "model_id": "f9ca4ee86a3f4199ae6c7b93ced6507c",
       "version_major": 2,
       "version_minor": 0
      },
      "text/plain": [
       "2020-07-15:   0%|          | 0/16716 [00:00<?, ?it/s]"
      ]
     },
     "metadata": {},
     "output_type": "display_data"
    },
    {
     "name": "stdout",
     "output_type": "stream",
     "text": [
      "2020-07-15 16716 Record inserted successfully.\n"
     ]
    },
    {
     "data": {
      "application/vnd.jupyter.widget-view+json": {
       "model_id": "af020b7b84304bfba5ac61330ebc0de2",
       "version_major": 2,
       "version_minor": 0
      },
      "text/plain": [
       "2020-07-16:   0%|          | 0/16830 [00:00<?, ?it/s]"
      ]
     },
     "metadata": {},
     "output_type": "display_data"
    },
    {
     "name": "stdout",
     "output_type": "stream",
     "text": [
      "2020-07-16 16830 Record inserted successfully.\n"
     ]
    },
    {
     "data": {
      "application/vnd.jupyter.widget-view+json": {
       "model_id": "8c2b35a167c24b76818262a7d93419b4",
       "version_major": 2,
       "version_minor": 0
      },
      "text/plain": [
       "2020-07-17:   0%|          | 0/16808 [00:00<?, ?it/s]"
      ]
     },
     "metadata": {},
     "output_type": "display_data"
    },
    {
     "name": "stdout",
     "output_type": "stream",
     "text": [
      "2020-07-17 16808 Record inserted successfully.\n"
     ]
    },
    {
     "data": {
      "application/vnd.jupyter.widget-view+json": {
       "model_id": "43be125a83ca4a719b85becca4baa689",
       "version_major": 2,
       "version_minor": 0
      },
      "text/plain": [
       "2020-07-20:   0%|          | 0/16990 [00:00<?, ?it/s]"
      ]
     },
     "metadata": {},
     "output_type": "display_data"
    },
    {
     "name": "stdout",
     "output_type": "stream",
     "text": [
      "2020-07-20 16990 Record inserted successfully.\n"
     ]
    },
    {
     "data": {
      "application/vnd.jupyter.widget-view+json": {
       "model_id": "d4cbb9c69235407ba9781e88d186b714",
       "version_major": 2,
       "version_minor": 0
      },
      "text/plain": [
       "2020-07-21:   0%|          | 0/17089 [00:00<?, ?it/s]"
      ]
     },
     "metadata": {},
     "output_type": "display_data"
    },
    {
     "name": "stdout",
     "output_type": "stream",
     "text": [
      "2020-07-21 17089 Record inserted successfully.\n"
     ]
    },
    {
     "data": {
      "application/vnd.jupyter.widget-view+json": {
       "model_id": "38b353b97a814f7f823ab7b03765acaf",
       "version_major": 2,
       "version_minor": 0
      },
      "text/plain": [
       "2020-07-22:   0%|          | 0/17205 [00:00<?, ?it/s]"
      ]
     },
     "metadata": {},
     "output_type": "display_data"
    },
    {
     "name": "stdout",
     "output_type": "stream",
     "text": [
      "2020-07-22 17205 Record inserted successfully.\n"
     ]
    },
    {
     "data": {
      "application/vnd.jupyter.widget-view+json": {
       "model_id": "86507222f6864521a8eca27bc95cefa0",
       "version_major": 2,
       "version_minor": 0
      },
      "text/plain": [
       "2020-07-23:   0%|          | 0/17343 [00:00<?, ?it/s]"
      ]
     },
     "metadata": {},
     "output_type": "display_data"
    },
    {
     "name": "stdout",
     "output_type": "stream",
     "text": [
      "2020-07-23 17343 Record inserted successfully.\n"
     ]
    },
    {
     "data": {
      "application/vnd.jupyter.widget-view+json": {
       "model_id": "3bb5eb3da3f84774b24f3319fae5317b",
       "version_major": 2,
       "version_minor": 0
      },
      "text/plain": [
       "2020-07-24:   0%|          | 0/17404 [00:00<?, ?it/s]"
      ]
     },
     "metadata": {},
     "output_type": "display_data"
    },
    {
     "name": "stdout",
     "output_type": "stream",
     "text": [
      "2020-07-24 17404 Record inserted successfully.\n"
     ]
    },
    {
     "data": {
      "application/vnd.jupyter.widget-view+json": {
       "model_id": "350aec112af64f90ad450d50a71ecaa5",
       "version_major": 2,
       "version_minor": 0
      },
      "text/plain": [
       "2020-07-27:   0%|          | 0/17530 [00:00<?, ?it/s]"
      ]
     },
     "metadata": {},
     "output_type": "display_data"
    },
    {
     "name": "stdout",
     "output_type": "stream",
     "text": [
      "2020-07-27 17530 Record inserted successfully.\n"
     ]
    },
    {
     "data": {
      "application/vnd.jupyter.widget-view+json": {
       "model_id": "45bed3a8f9ca43299d44ea60364efa30",
       "version_major": 2,
       "version_minor": 0
      },
      "text/plain": [
       "2020-07-28:   0%|          | 0/17563 [00:00<?, ?it/s]"
      ]
     },
     "metadata": {},
     "output_type": "display_data"
    },
    {
     "name": "stdout",
     "output_type": "stream",
     "text": [
      "2020-07-28 17563 Record inserted successfully.\n"
     ]
    },
    {
     "data": {
      "application/vnd.jupyter.widget-view+json": {
       "model_id": "e274abd111a940bb84aa07311ee58b29",
       "version_major": 2,
       "version_minor": 0
      },
      "text/plain": [
       "2020-07-29:   0%|          | 0/17614 [00:00<?, ?it/s]"
      ]
     },
     "metadata": {},
     "output_type": "display_data"
    },
    {
     "name": "stdout",
     "output_type": "stream",
     "text": [
      "2020-07-29 17614 Record inserted successfully.\n"
     ]
    },
    {
     "data": {
      "application/vnd.jupyter.widget-view+json": {
       "model_id": "ac1f20c7b9b8456787a43bcd90ab645f",
       "version_major": 2,
       "version_minor": 0
      },
      "text/plain": [
       "2020-07-30:   0%|          | 0/17736 [00:00<?, ?it/s]"
      ]
     },
     "metadata": {},
     "output_type": "display_data"
    },
    {
     "name": "stdout",
     "output_type": "stream",
     "text": [
      "2020-07-30 17736 Record inserted successfully.\n"
     ]
    },
    {
     "data": {
      "application/vnd.jupyter.widget-view+json": {
       "model_id": "1218a22eb7954bbaab8f3284c6800405",
       "version_major": 2,
       "version_minor": 0
      },
      "text/plain": [
       "2020-07-31:   0%|          | 0/17614 [00:00<?, ?it/s]"
      ]
     },
     "metadata": {},
     "output_type": "display_data"
    },
    {
     "name": "stdout",
     "output_type": "stream",
     "text": [
      "2020-07-31 17614 Record inserted successfully.\n"
     ]
    },
    {
     "data": {
      "application/vnd.jupyter.widget-view+json": {
       "model_id": "5fcd96f37e63445fb1d45c8c68aa2c83",
       "version_major": 2,
       "version_minor": 0
      },
      "text/plain": [
       "2020-08-03:   0%|          | 0/17620 [00:00<?, ?it/s]"
      ]
     },
     "metadata": {},
     "output_type": "display_data"
    },
    {
     "name": "stdout",
     "output_type": "stream",
     "text": [
      "2020-08-03 17620 Record inserted successfully.\n"
     ]
    },
    {
     "data": {
      "application/vnd.jupyter.widget-view+json": {
       "model_id": "df05e20bea644f4ea39985d081051c64",
       "version_major": 2,
       "version_minor": 0
      },
      "text/plain": [
       "2020-08-04:   0%|          | 0/17626 [00:00<?, ?it/s]"
      ]
     },
     "metadata": {},
     "output_type": "display_data"
    },
    {
     "name": "stdout",
     "output_type": "stream",
     "text": [
      "2020-08-04 17626 Record inserted successfully.\n"
     ]
    },
    {
     "data": {
      "application/vnd.jupyter.widget-view+json": {
       "model_id": "74bf29c0d0f640d3a675133f0c994b2b",
       "version_major": 2,
       "version_minor": 0
      },
      "text/plain": [
       "2020-08-05:   0%|          | 0/17565 [00:00<?, ?it/s]"
      ]
     },
     "metadata": {},
     "output_type": "display_data"
    },
    {
     "name": "stdout",
     "output_type": "stream",
     "text": [
      "2020-08-05 17565 Record inserted successfully.\n"
     ]
    },
    {
     "data": {
      "application/vnd.jupyter.widget-view+json": {
       "model_id": "9ccae3584fb648658f8bf99f25efcba0",
       "version_major": 2,
       "version_minor": 0
      },
      "text/plain": [
       "2020-08-06:   0%|          | 0/17675 [00:00<?, ?it/s]"
      ]
     },
     "metadata": {},
     "output_type": "display_data"
    },
    {
     "name": "stdout",
     "output_type": "stream",
     "text": [
      "2020-08-06 17675 Record inserted successfully.\n"
     ]
    },
    {
     "data": {
      "application/vnd.jupyter.widget-view+json": {
       "model_id": "0ecbe3bb939b412e83f5648b920ca5a2",
       "version_major": 2,
       "version_minor": 0
      },
      "text/plain": [
       "2020-08-07:   0%|          | 0/17511 [00:00<?, ?it/s]"
      ]
     },
     "metadata": {},
     "output_type": "display_data"
    },
    {
     "name": "stdout",
     "output_type": "stream",
     "text": [
      "2020-08-07 17511 Record inserted successfully.\n"
     ]
    },
    {
     "data": {
      "application/vnd.jupyter.widget-view+json": {
       "model_id": "aeb6812d87ab40aabd9e27b1e889b09c",
       "version_major": 2,
       "version_minor": 0
      },
      "text/plain": [
       "2020-08-10:   0%|          | 0/17546 [00:00<?, ?it/s]"
      ]
     },
     "metadata": {},
     "output_type": "display_data"
    },
    {
     "name": "stdout",
     "output_type": "stream",
     "text": [
      "2020-08-10 17546 Record inserted successfully.\n"
     ]
    },
    {
     "data": {
      "application/vnd.jupyter.widget-view+json": {
       "model_id": "29406ff86b6941e897ec7620bb537ba4",
       "version_major": 2,
       "version_minor": 0
      },
      "text/plain": [
       "2020-08-11:   0%|          | 0/17570 [00:00<?, ?it/s]"
      ]
     },
     "metadata": {},
     "output_type": "display_data"
    },
    {
     "name": "stdout",
     "output_type": "stream",
     "text": [
      "2020-08-11 17570 Record inserted successfully.\n"
     ]
    },
    {
     "data": {
      "application/vnd.jupyter.widget-view+json": {
       "model_id": "5bae88223616466fb490e88f7b84930e",
       "version_major": 2,
       "version_minor": 0
      },
      "text/plain": [
       "2020-08-12:   0%|          | 0/17582 [00:00<?, ?it/s]"
      ]
     },
     "metadata": {},
     "output_type": "display_data"
    },
    {
     "name": "stdout",
     "output_type": "stream",
     "text": [
      "2020-08-12 17582 Record inserted successfully.\n"
     ]
    },
    {
     "data": {
      "application/vnd.jupyter.widget-view+json": {
       "model_id": "baa45d4472ca4031a8ccefab468319c5",
       "version_major": 2,
       "version_minor": 0
      },
      "text/plain": [
       "2020-08-13:   0%|          | 0/17690 [00:00<?, ?it/s]"
      ]
     },
     "metadata": {},
     "output_type": "display_data"
    },
    {
     "name": "stdout",
     "output_type": "stream",
     "text": [
      "2020-08-13 17690 Record inserted successfully.\n"
     ]
    },
    {
     "data": {
      "application/vnd.jupyter.widget-view+json": {
       "model_id": "5139fe39a4af45c08da48862faa5f922",
       "version_major": 2,
       "version_minor": 0
      },
      "text/plain": [
       "2020-08-14:   0%|          | 0/17587 [00:00<?, ?it/s]"
      ]
     },
     "metadata": {},
     "output_type": "display_data"
    },
    {
     "name": "stdout",
     "output_type": "stream",
     "text": [
      "2020-08-14 17587 Record inserted successfully.\n"
     ]
    },
    {
     "data": {
      "application/vnd.jupyter.widget-view+json": {
       "model_id": "1bacef0602ad4188b26054a8cec5a0d8",
       "version_major": 2,
       "version_minor": 0
      },
      "text/plain": [
       "2020-08-16:   0%|          | 0/23587 [00:00<?, ?it/s]"
      ]
     },
     "metadata": {},
     "output_type": "display_data"
    },
    {
     "name": "stdout",
     "output_type": "stream",
     "text": [
      "2020-08-16 23587 Record inserted successfully.\n"
     ]
    },
    {
     "data": {
      "application/vnd.jupyter.widget-view+json": {
       "model_id": "1d7cef50a8d9421faa83517dd0b9814d",
       "version_major": 2,
       "version_minor": 0
      },
      "text/plain": [
       "2020-08-17:   0%|          | 0/17649 [00:00<?, ?it/s]"
      ]
     },
     "metadata": {},
     "output_type": "display_data"
    },
    {
     "name": "stdout",
     "output_type": "stream",
     "text": [
      "2020-08-17 17649 Record inserted successfully.\n"
     ]
    },
    {
     "data": {
      "application/vnd.jupyter.widget-view+json": {
       "model_id": "055e284afac04ecf80727a1873efb7b2",
       "version_major": 2,
       "version_minor": 0
      },
      "text/plain": [
       "2020-08-18:   0%|          | 0/17602 [00:00<?, ?it/s]"
      ]
     },
     "metadata": {},
     "output_type": "display_data"
    },
    {
     "name": "stdout",
     "output_type": "stream",
     "text": [
      "2020-08-18 17602 Record inserted successfully.\n"
     ]
    },
    {
     "data": {
      "application/vnd.jupyter.widget-view+json": {
       "model_id": "5d11a776630647049324900027365828",
       "version_major": 2,
       "version_minor": 0
      },
      "text/plain": [
       "2020-08-19:   0%|          | 0/17644 [00:00<?, ?it/s]"
      ]
     },
     "metadata": {},
     "output_type": "display_data"
    },
    {
     "name": "stdout",
     "output_type": "stream",
     "text": [
      "2020-08-19 17644 Record inserted successfully.\n"
     ]
    },
    {
     "data": {
      "application/vnd.jupyter.widget-view+json": {
       "model_id": "da0070b3ee8049409fdeb61a7c6c31f6",
       "version_major": 2,
       "version_minor": 0
      },
      "text/plain": [
       "2020-08-20:   0%|          | 0/17764 [00:00<?, ?it/s]"
      ]
     },
     "metadata": {},
     "output_type": "display_data"
    },
    {
     "name": "stdout",
     "output_type": "stream",
     "text": [
      "2020-08-20 17764 Record inserted successfully.\n"
     ]
    },
    {
     "data": {
      "application/vnd.jupyter.widget-view+json": {
       "model_id": "d88867bdb24646068ae85f695cdecea4",
       "version_major": 2,
       "version_minor": 0
      },
      "text/plain": [
       "2020-08-21:   0%|          | 0/17775 [00:00<?, ?it/s]"
      ]
     },
     "metadata": {},
     "output_type": "display_data"
    },
    {
     "name": "stdout",
     "output_type": "stream",
     "text": [
      "2020-08-21 17775 Record inserted successfully.\n"
     ]
    },
    {
     "data": {
      "application/vnd.jupyter.widget-view+json": {
       "model_id": "12450238b43e429095f77d7e3077d28e",
       "version_major": 2,
       "version_minor": 0
      },
      "text/plain": [
       "2020-08-24:   0%|          | 0/17817 [00:00<?, ?it/s]"
      ]
     },
     "metadata": {},
     "output_type": "display_data"
    },
    {
     "name": "stdout",
     "output_type": "stream",
     "text": [
      "2020-08-24 17817 Record inserted successfully.\n"
     ]
    },
    {
     "data": {
      "application/vnd.jupyter.widget-view+json": {
       "model_id": "c8228c917e994ba09df26ab1590dc125",
       "version_major": 2,
       "version_minor": 0
      },
      "text/plain": [
       "2020-08-25:   0%|          | 0/17814 [00:00<?, ?it/s]"
      ]
     },
     "metadata": {},
     "output_type": "display_data"
    },
    {
     "name": "stdout",
     "output_type": "stream",
     "text": [
      "2020-08-25 17814 Record inserted successfully.\n"
     ]
    },
    {
     "data": {
      "application/vnd.jupyter.widget-view+json": {
       "model_id": "73188f89fbfa40e683a3e999402f6484",
       "version_major": 2,
       "version_minor": 0
      },
      "text/plain": [
       "2020-08-26:   0%|          | 0/17902 [00:00<?, ?it/s]"
      ]
     },
     "metadata": {},
     "output_type": "display_data"
    },
    {
     "name": "stdout",
     "output_type": "stream",
     "text": [
      "2020-08-26 17902 Record inserted successfully.\n"
     ]
    },
    {
     "data": {
      "application/vnd.jupyter.widget-view+json": {
       "model_id": "5a884890654e4d639ccb53e8c2351c15",
       "version_major": 2,
       "version_minor": 0
      },
      "text/plain": [
       "2020-08-27:   0%|          | 0/17999 [00:00<?, ?it/s]"
      ]
     },
     "metadata": {},
     "output_type": "display_data"
    },
    {
     "name": "stdout",
     "output_type": "stream",
     "text": [
      "2020-08-27 17999 Record inserted successfully.\n"
     ]
    },
    {
     "data": {
      "application/vnd.jupyter.widget-view+json": {
       "model_id": "9edc62ed46cb40c1b970dd5a7162a6a4",
       "version_major": 2,
       "version_minor": 0
      },
      "text/plain": [
       "2020-08-28:   0%|          | 0/18031 [00:00<?, ?it/s]"
      ]
     },
     "metadata": {},
     "output_type": "display_data"
    },
    {
     "name": "stdout",
     "output_type": "stream",
     "text": [
      "2020-08-28 18031 Record inserted successfully.\n"
     ]
    },
    {
     "data": {
      "application/vnd.jupyter.widget-view+json": {
       "model_id": "743263c034db40658f8886524f42e5d5",
       "version_major": 2,
       "version_minor": 0
      },
      "text/plain": [
       "2020-08-31:   0%|          | 0/18066 [00:00<?, ?it/s]"
      ]
     },
     "metadata": {},
     "output_type": "display_data"
    },
    {
     "name": "stdout",
     "output_type": "stream",
     "text": [
      "2020-08-31 18066 Record inserted successfully.\n"
     ]
    },
    {
     "data": {
      "application/vnd.jupyter.widget-view+json": {
       "model_id": "af72cf12b91e49f28902eacd6f9b3013",
       "version_major": 2,
       "version_minor": 0
      },
      "text/plain": [
       "2020-09-01:   0%|          | 0/18094 [00:00<?, ?it/s]"
      ]
     },
     "metadata": {},
     "output_type": "display_data"
    },
    {
     "name": "stdout",
     "output_type": "stream",
     "text": [
      "2020-09-01 18094 Record inserted successfully.\n"
     ]
    },
    {
     "data": {
      "application/vnd.jupyter.widget-view+json": {
       "model_id": "b52a8606b4854c7cad541c04d50b54eb",
       "version_major": 2,
       "version_minor": 0
      },
      "text/plain": [
       "2020-09-02:   0%|          | 0/18119 [00:00<?, ?it/s]"
      ]
     },
     "metadata": {},
     "output_type": "display_data"
    },
    {
     "name": "stdout",
     "output_type": "stream",
     "text": [
      "2020-09-02 18119 Record inserted successfully.\n"
     ]
    },
    {
     "data": {
      "application/vnd.jupyter.widget-view+json": {
       "model_id": "5726ccf10ec5470c8c8ab40dd1d3ea2f",
       "version_major": 2,
       "version_minor": 0
      },
      "text/plain": [
       "2020-09-03:   0%|          | 0/18098 [00:00<?, ?it/s]"
      ]
     },
     "metadata": {},
     "output_type": "display_data"
    },
    {
     "name": "stdout",
     "output_type": "stream",
     "text": [
      "2020-09-03 18098 Record inserted successfully.\n"
     ]
    },
    {
     "data": {
      "application/vnd.jupyter.widget-view+json": {
       "model_id": "68e6737626454f12b2202c41a65e4d82",
       "version_major": 2,
       "version_minor": 0
      },
      "text/plain": [
       "2020-09-04:   0%|          | 0/18036 [00:00<?, ?it/s]"
      ]
     },
     "metadata": {},
     "output_type": "display_data"
    },
    {
     "name": "stdout",
     "output_type": "stream",
     "text": [
      "2020-09-04 18036 Record inserted successfully.\n"
     ]
    },
    {
     "data": {
      "application/vnd.jupyter.widget-view+json": {
       "model_id": "0791f18caf7340d99e3ab3ccee2054cd",
       "version_major": 2,
       "version_minor": 0
      },
      "text/plain": [
       "2020-09-07:   0%|          | 0/18078 [00:00<?, ?it/s]"
      ]
     },
     "metadata": {},
     "output_type": "display_data"
    },
    {
     "name": "stdout",
     "output_type": "stream",
     "text": [
      "2020-09-07 18078 Record inserted successfully.\n"
     ]
    },
    {
     "data": {
      "application/vnd.jupyter.widget-view+json": {
       "model_id": "6729254f4d104945848e10b9d6283dfd",
       "version_major": 2,
       "version_minor": 0
      },
      "text/plain": [
       "2020-09-08:   0%|          | 0/18111 [00:00<?, ?it/s]"
      ]
     },
     "metadata": {},
     "output_type": "display_data"
    },
    {
     "name": "stdout",
     "output_type": "stream",
     "text": [
      "2020-09-08 18111 Record inserted successfully.\n"
     ]
    },
    {
     "data": {
      "application/vnd.jupyter.widget-view+json": {
       "model_id": "d8d2714925e44e6da96b1344cfb28a1e",
       "version_major": 2,
       "version_minor": 0
      },
      "text/plain": [
       "2020-09-09:   0%|          | 0/18129 [00:00<?, ?it/s]"
      ]
     },
     "metadata": {},
     "output_type": "display_data"
    },
    {
     "name": "stdout",
     "output_type": "stream",
     "text": [
      "2020-09-09 18129 Record inserted successfully.\n"
     ]
    },
    {
     "data": {
      "application/vnd.jupyter.widget-view+json": {
       "model_id": "03c4b39ca39747d6b06d93948c4ac599",
       "version_major": 2,
       "version_minor": 0
      },
      "text/plain": [
       "2020-09-10:   0%|          | 0/18142 [00:00<?, ?it/s]"
      ]
     },
     "metadata": {},
     "output_type": "display_data"
    },
    {
     "name": "stdout",
     "output_type": "stream",
     "text": [
      "2020-09-10 18142 Record inserted successfully.\n"
     ]
    },
    {
     "data": {
      "application/vnd.jupyter.widget-view+json": {
       "model_id": "040cb640cad14e4682ffac5e1f05805c",
       "version_major": 2,
       "version_minor": 0
      },
      "text/plain": [
       "2020-09-11:   0%|          | 0/18096 [00:00<?, ?it/s]"
      ]
     },
     "metadata": {},
     "output_type": "display_data"
    },
    {
     "name": "stdout",
     "output_type": "stream",
     "text": [
      "2020-09-11 18096 Record inserted successfully.\n"
     ]
    },
    {
     "data": {
      "application/vnd.jupyter.widget-view+json": {
       "model_id": "952b800909bd437784ed7278f5bdf352",
       "version_major": 2,
       "version_minor": 0
      },
      "text/plain": [
       "2020-09-14:   0%|          | 0/18126 [00:00<?, ?it/s]"
      ]
     },
     "metadata": {},
     "output_type": "display_data"
    },
    {
     "name": "stdout",
     "output_type": "stream",
     "text": [
      "2020-09-14 18126 Record inserted successfully.\n"
     ]
    },
    {
     "data": {
      "application/vnd.jupyter.widget-view+json": {
       "model_id": "2f5ca73ff41749999a1f0b74cf7f3eed",
       "version_major": 2,
       "version_minor": 0
      },
      "text/plain": [
       "2020-09-15:   0%|          | 0/18044 [00:00<?, ?it/s]"
      ]
     },
     "metadata": {},
     "output_type": "display_data"
    },
    {
     "name": "stdout",
     "output_type": "stream",
     "text": [
      "2020-09-15 18044 Record inserted successfully.\n"
     ]
    },
    {
     "data": {
      "application/vnd.jupyter.widget-view+json": {
       "model_id": "17b22dd89384407a82280f2129c67337",
       "version_major": 2,
       "version_minor": 0
      },
      "text/plain": [
       "2020-09-16:   0%|          | 0/18058 [00:00<?, ?it/s]"
      ]
     },
     "metadata": {},
     "output_type": "display_data"
    },
    {
     "name": "stdout",
     "output_type": "stream",
     "text": [
      "2020-09-16 18058 Record inserted successfully.\n"
     ]
    },
    {
     "data": {
      "application/vnd.jupyter.widget-view+json": {
       "model_id": "60d1585cdec443febcf79493ca83808f",
       "version_major": 2,
       "version_minor": 0
      },
      "text/plain": [
       "2020-09-17:   0%|          | 0/18043 [00:00<?, ?it/s]"
      ]
     },
     "metadata": {},
     "output_type": "display_data"
    },
    {
     "name": "stdout",
     "output_type": "stream",
     "text": [
      "2020-09-17 18043 Record inserted successfully.\n"
     ]
    },
    {
     "data": {
      "application/vnd.jupyter.widget-view+json": {
       "model_id": "aeee69b3b91c427ab8cacb2ed2b67e91",
       "version_major": 2,
       "version_minor": 0
      },
      "text/plain": [
       "2020-09-18:   0%|          | 0/17989 [00:00<?, ?it/s]"
      ]
     },
     "metadata": {},
     "output_type": "display_data"
    },
    {
     "name": "stdout",
     "output_type": "stream",
     "text": [
      "2020-09-18 17989 Record inserted successfully.\n"
     ]
    },
    {
     "data": {
      "application/vnd.jupyter.widget-view+json": {
       "model_id": "aa000eb1002049f0a965a4b55f5ff9bb",
       "version_major": 2,
       "version_minor": 0
      },
      "text/plain": [
       "2020-09-21:   0%|          | 0/18019 [00:00<?, ?it/s]"
      ]
     },
     "metadata": {},
     "output_type": "display_data"
    },
    {
     "name": "stdout",
     "output_type": "stream",
     "text": [
      "2020-09-21 18019 Record inserted successfully.\n"
     ]
    },
    {
     "data": {
      "application/vnd.jupyter.widget-view+json": {
       "model_id": "0a7bb9737a214ccd88b7748e57c6ad80",
       "version_major": 2,
       "version_minor": 0
      },
      "text/plain": [
       "2020-09-22:   0%|          | 0/18020 [00:00<?, ?it/s]"
      ]
     },
     "metadata": {},
     "output_type": "display_data"
    },
    {
     "name": "stdout",
     "output_type": "stream",
     "text": [
      "2020-09-22 18020 Record inserted successfully.\n"
     ]
    },
    {
     "data": {
      "application/vnd.jupyter.widget-view+json": {
       "model_id": "0145aadf7f3f4bbaa80f278d9cdc4f02",
       "version_major": 2,
       "version_minor": 0
      },
      "text/plain": [
       "2020-09-23:   0%|          | 0/18031 [00:00<?, ?it/s]"
      ]
     },
     "metadata": {},
     "output_type": "display_data"
    },
    {
     "name": "stdout",
     "output_type": "stream",
     "text": [
      "2020-09-23 18031 Record inserted successfully.\n"
     ]
    },
    {
     "data": {
      "application/vnd.jupyter.widget-view+json": {
       "model_id": "07b6d0157a384b5f9ab08c080dc0f710",
       "version_major": 2,
       "version_minor": 0
      },
      "text/plain": [
       "2020-09-24:   0%|          | 0/18059 [00:00<?, ?it/s]"
      ]
     },
     "metadata": {},
     "output_type": "display_data"
    },
    {
     "name": "stdout",
     "output_type": "stream",
     "text": [
      "2020-09-24 18059 Record inserted successfully.\n"
     ]
    },
    {
     "data": {
      "application/vnd.jupyter.widget-view+json": {
       "model_id": "7d1ca7ddc4444ca8932f548897c9e329",
       "version_major": 2,
       "version_minor": 0
      },
      "text/plain": [
       "2020-09-25:   0%|          | 0/18052 [00:00<?, ?it/s]"
      ]
     },
     "metadata": {},
     "output_type": "display_data"
    },
    {
     "name": "stdout",
     "output_type": "stream",
     "text": [
      "2020-09-25 18052 Record inserted successfully.\n"
     ]
    },
    {
     "data": {
      "application/vnd.jupyter.widget-view+json": {
       "model_id": "da8f330c22c24423a617c4a1028ad27a",
       "version_major": 2,
       "version_minor": 0
      },
      "text/plain": [
       "2020-09-28:   0%|          | 0/18088 [00:00<?, ?it/s]"
      ]
     },
     "metadata": {},
     "output_type": "display_data"
    },
    {
     "name": "stdout",
     "output_type": "stream",
     "text": [
      "2020-09-28 18088 Record inserted successfully.\n"
     ]
    },
    {
     "data": {
      "application/vnd.jupyter.widget-view+json": {
       "model_id": "8981148bcf3741d49f0ee0e39ab077af",
       "version_major": 2,
       "version_minor": 0
      },
      "text/plain": [
       "2020-09-29:   0%|          | 0/18014 [00:00<?, ?it/s]"
      ]
     },
     "metadata": {},
     "output_type": "display_data"
    },
    {
     "name": "stdout",
     "output_type": "stream",
     "text": [
      "2020-09-29 18014 Record inserted successfully.\n"
     ]
    },
    {
     "data": {
      "application/vnd.jupyter.widget-view+json": {
       "model_id": "053f5b2cf5ee454a9aa5cb5bb9333c89",
       "version_major": 2,
       "version_minor": 0
      },
      "text/plain": [
       "2020-09-30:   0%|          | 0/17792 [00:00<?, ?it/s]"
      ]
     },
     "metadata": {},
     "output_type": "display_data"
    },
    {
     "name": "stdout",
     "output_type": "stream",
     "text": [
      "2020-09-30 17792 Record inserted successfully.\n"
     ]
    },
    {
     "data": {
      "application/vnd.jupyter.widget-view+json": {
       "model_id": "546717d631274ca098f8cf83185acc3b",
       "version_major": 2,
       "version_minor": 0
      },
      "text/plain": [
       "2020-10-05:   0%|          | 0/17814 [00:00<?, ?it/s]"
      ]
     },
     "metadata": {},
     "output_type": "display_data"
    },
    {
     "name": "stdout",
     "output_type": "stream",
     "text": [
      "2020-10-05 17814 Record inserted successfully.\n"
     ]
    },
    {
     "data": {
      "application/vnd.jupyter.widget-view+json": {
       "model_id": "889c7dc309ff44df8da345ae3cdbd3c8",
       "version_major": 2,
       "version_minor": 0
      },
      "text/plain": [
       "2020-10-06:   0%|          | 0/17847 [00:00<?, ?it/s]"
      ]
     },
     "metadata": {},
     "output_type": "display_data"
    },
    {
     "name": "stdout",
     "output_type": "stream",
     "text": [
      "2020-10-06 17847 Record inserted successfully.\n"
     ]
    },
    {
     "data": {
      "application/vnd.jupyter.widget-view+json": {
       "model_id": "76678c9915f14876a3c0932559642fd6",
       "version_major": 2,
       "version_minor": 0
      },
      "text/plain": [
       "2020-10-07:   0%|          | 0/17804 [00:00<?, ?it/s]"
      ]
     },
     "metadata": {},
     "output_type": "display_data"
    },
    {
     "name": "stdout",
     "output_type": "stream",
     "text": [
      "2020-10-07 17804 Record inserted successfully.\n"
     ]
    },
    {
     "data": {
      "application/vnd.jupyter.widget-view+json": {
       "model_id": "704a811d102949f3a732038fb92c2d78",
       "version_major": 2,
       "version_minor": 0
      },
      "text/plain": [
       "2020-10-08:   0%|          | 0/17718 [00:00<?, ?it/s]"
      ]
     },
     "metadata": {},
     "output_type": "display_data"
    },
    {
     "name": "stdout",
     "output_type": "stream",
     "text": [
      "2020-10-08 17718 Record inserted successfully.\n"
     ]
    },
    {
     "data": {
      "application/vnd.jupyter.widget-view+json": {
       "model_id": "efa94037e9784a44a2d6920f28f30c0f",
       "version_major": 2,
       "version_minor": 0
      },
      "text/plain": [
       "2020-10-12:   0%|          | 0/17792 [00:00<?, ?it/s]"
      ]
     },
     "metadata": {},
     "output_type": "display_data"
    },
    {
     "name": "stdout",
     "output_type": "stream",
     "text": [
      "2020-10-12 17792 Record inserted successfully.\n"
     ]
    },
    {
     "data": {
      "application/vnd.jupyter.widget-view+json": {
       "model_id": "04a48871405d422bbdbc04103d6901f0",
       "version_major": 2,
       "version_minor": 0
      },
      "text/plain": [
       "2020-10-13:   0%|          | 0/17867 [00:00<?, ?it/s]"
      ]
     },
     "metadata": {},
     "output_type": "display_data"
    },
    {
     "name": "stdout",
     "output_type": "stream",
     "text": [
      "2020-10-13 17867 Record inserted successfully.\n"
     ]
    },
    {
     "data": {
      "application/vnd.jupyter.widget-view+json": {
       "model_id": "11ff38d808a4427b91dde15b5432bd0a",
       "version_major": 2,
       "version_minor": 0
      },
      "text/plain": [
       "2020-10-14:   0%|          | 0/17904 [00:00<?, ?it/s]"
      ]
     },
     "metadata": {},
     "output_type": "display_data"
    },
    {
     "name": "stdout",
     "output_type": "stream",
     "text": [
      "2020-10-14 17904 Record inserted successfully.\n"
     ]
    },
    {
     "data": {
      "application/vnd.jupyter.widget-view+json": {
       "model_id": "b848eed933e84244ba6b7eb20a4b3343",
       "version_major": 2,
       "version_minor": 0
      },
      "text/plain": [
       "2020-10-15:   0%|          | 0/17911 [00:00<?, ?it/s]"
      ]
     },
     "metadata": {},
     "output_type": "display_data"
    },
    {
     "name": "stdout",
     "output_type": "stream",
     "text": [
      "2020-10-15 17911 Record inserted successfully.\n"
     ]
    },
    {
     "data": {
      "application/vnd.jupyter.widget-view+json": {
       "model_id": "a1375789de074cc28ea8838424d7e037",
       "version_major": 2,
       "version_minor": 0
      },
      "text/plain": [
       "2020-10-16:   0%|          | 0/17912 [00:00<?, ?it/s]"
      ]
     },
     "metadata": {},
     "output_type": "display_data"
    },
    {
     "name": "stdout",
     "output_type": "stream",
     "text": [
      "2020-10-16 17912 Record inserted successfully.\n"
     ]
    },
    {
     "data": {
      "application/vnd.jupyter.widget-view+json": {
       "model_id": "43bda012367f4f4fa2a38e5417f9d262",
       "version_major": 2,
       "version_minor": 0
      },
      "text/plain": [
       "2020-10-19:   0%|          | 0/17980 [00:00<?, ?it/s]"
      ]
     },
     "metadata": {},
     "output_type": "display_data"
    },
    {
     "name": "stdout",
     "output_type": "stream",
     "text": [
      "2020-10-19 17980 Record inserted successfully.\n"
     ]
    },
    {
     "data": {
      "application/vnd.jupyter.widget-view+json": {
       "model_id": "512fc39101b745e4b13e022282109525",
       "version_major": 2,
       "version_minor": 0
      },
      "text/plain": [
       "2020-10-20:   0%|          | 0/18002 [00:00<?, ?it/s]"
      ]
     },
     "metadata": {},
     "output_type": "display_data"
    },
    {
     "name": "stdout",
     "output_type": "stream",
     "text": [
      "2020-10-20 18002 Record inserted successfully.\n"
     ]
    },
    {
     "data": {
      "application/vnd.jupyter.widget-view+json": {
       "model_id": "1f040cb7019a452db6d04dc8aae2b2c2",
       "version_major": 2,
       "version_minor": 0
      },
      "text/plain": [
       "2020-10-21:   0%|          | 0/18024 [00:00<?, ?it/s]"
      ]
     },
     "metadata": {},
     "output_type": "display_data"
    },
    {
     "name": "stdout",
     "output_type": "stream",
     "text": [
      "2020-10-21 18024 Record inserted successfully.\n"
     ]
    },
    {
     "data": {
      "application/vnd.jupyter.widget-view+json": {
       "model_id": "c6ffe5f14f7c4a13ae29fa871d6dd96b",
       "version_major": 2,
       "version_minor": 0
      },
      "text/plain": [
       "2020-10-22:   0%|          | 0/18071 [00:00<?, ?it/s]"
      ]
     },
     "metadata": {},
     "output_type": "display_data"
    },
    {
     "name": "stdout",
     "output_type": "stream",
     "text": [
      "2020-10-22 18071 Record inserted successfully.\n"
     ]
    },
    {
     "data": {
      "application/vnd.jupyter.widget-view+json": {
       "model_id": "2f43229e34524edf8928f5aa79e8f665",
       "version_major": 2,
       "version_minor": 0
      },
      "text/plain": [
       "2020-10-23:   0%|          | 0/18025 [00:00<?, ?it/s]"
      ]
     },
     "metadata": {},
     "output_type": "display_data"
    },
    {
     "name": "stdout",
     "output_type": "stream",
     "text": [
      "2020-10-23 18025 Record inserted successfully.\n"
     ]
    },
    {
     "data": {
      "application/vnd.jupyter.widget-view+json": {
       "model_id": "16ef44ac883f4a889941092b6f881ed2",
       "version_major": 2,
       "version_minor": 0
      },
      "text/plain": [
       "2020-10-26:   0%|          | 0/18091 [00:00<?, ?it/s]"
      ]
     },
     "metadata": {},
     "output_type": "display_data"
    },
    {
     "name": "stdout",
     "output_type": "stream",
     "text": [
      "2020-10-26 18091 Record inserted successfully.\n"
     ]
    },
    {
     "data": {
      "application/vnd.jupyter.widget-view+json": {
       "model_id": "93210f57c62b4278a723bb5a87de82f1",
       "version_major": 2,
       "version_minor": 0
      },
      "text/plain": [
       "2020-10-27:   0%|          | 0/18155 [00:00<?, ?it/s]"
      ]
     },
     "metadata": {},
     "output_type": "display_data"
    },
    {
     "name": "stdout",
     "output_type": "stream",
     "text": [
      "2020-10-27 18155 Record inserted successfully.\n"
     ]
    },
    {
     "data": {
      "application/vnd.jupyter.widget-view+json": {
       "model_id": "eb1c46593ef64e9c9ef4a906198e4985",
       "version_major": 2,
       "version_minor": 0
      },
      "text/plain": [
       "2020-10-28:   0%|          | 0/18225 [00:00<?, ?it/s]"
      ]
     },
     "metadata": {},
     "output_type": "display_data"
    },
    {
     "name": "stdout",
     "output_type": "stream",
     "text": [
      "2020-10-28 18225 Record inserted successfully.\n"
     ]
    },
    {
     "data": {
      "application/vnd.jupyter.widget-view+json": {
       "model_id": "54e5d02db1a8499892b0571d432fb9d3",
       "version_major": 2,
       "version_minor": 0
      },
      "text/plain": [
       "2020-10-29:   0%|          | 0/18380 [00:00<?, ?it/s]"
      ]
     },
     "metadata": {},
     "output_type": "display_data"
    },
    {
     "name": "stdout",
     "output_type": "stream",
     "text": [
      "2020-10-29 18380 Record inserted successfully.\n"
     ]
    },
    {
     "data": {
      "application/vnd.jupyter.widget-view+json": {
       "model_id": "9418854150f145a49c4ac28d8f4863e4",
       "version_major": 2,
       "version_minor": 0
      },
      "text/plain": [
       "2020-10-30:   0%|          | 0/18473 [00:00<?, ?it/s]"
      ]
     },
     "metadata": {},
     "output_type": "display_data"
    },
    {
     "name": "stdout",
     "output_type": "stream",
     "text": [
      "2020-10-30 18473 Record inserted successfully.\n"
     ]
    },
    {
     "data": {
      "application/vnd.jupyter.widget-view+json": {
       "model_id": "2b385fecf4894c77a84f8bf8668aa376",
       "version_major": 2,
       "version_minor": 0
      },
      "text/plain": [
       "2020-11-02:   0%|          | 0/18514 [00:00<?, ?it/s]"
      ]
     },
     "metadata": {},
     "output_type": "display_data"
    },
    {
     "name": "stdout",
     "output_type": "stream",
     "text": [
      "2020-11-02 18514 Record inserted successfully.\n"
     ]
    },
    {
     "data": {
      "application/vnd.jupyter.widget-view+json": {
       "model_id": "39650b2060a34576933d84545d9c87d0",
       "version_major": 2,
       "version_minor": 0
      },
      "text/plain": [
       "2020-11-03:   0%|          | 0/18517 [00:00<?, ?it/s]"
      ]
     },
     "metadata": {},
     "output_type": "display_data"
    },
    {
     "name": "stdout",
     "output_type": "stream",
     "text": [
      "2020-11-03 18517 Record inserted successfully.\n"
     ]
    },
    {
     "data": {
      "application/vnd.jupyter.widget-view+json": {
       "model_id": "4523649abbb94960beff4d7826826daa",
       "version_major": 2,
       "version_minor": 0
      },
      "text/plain": [
       "2020-11-04:   0%|          | 0/18500 [00:00<?, ?it/s]"
      ]
     },
     "metadata": {},
     "output_type": "display_data"
    },
    {
     "name": "stdout",
     "output_type": "stream",
     "text": [
      "2020-11-04 18500 Record inserted successfully.\n"
     ]
    },
    {
     "data": {
      "application/vnd.jupyter.widget-view+json": {
       "model_id": "b5ca5d864608457197a6607fe5f78bda",
       "version_major": 2,
       "version_minor": 0
      },
      "text/plain": [
       "2020-11-05:   0%|          | 0/18554 [00:00<?, ?it/s]"
      ]
     },
     "metadata": {},
     "output_type": "display_data"
    },
    {
     "name": "stdout",
     "output_type": "stream",
     "text": [
      "2020-11-05 18554 Record inserted successfully.\n"
     ]
    },
    {
     "data": {
      "application/vnd.jupyter.widget-view+json": {
       "model_id": "355e1366fdca4269a730df15e20949a7",
       "version_major": 2,
       "version_minor": 0
      },
      "text/plain": [
       "2020-11-06:   0%|          | 0/18542 [00:00<?, ?it/s]"
      ]
     },
     "metadata": {},
     "output_type": "display_data"
    },
    {
     "name": "stdout",
     "output_type": "stream",
     "text": [
      "2020-11-06 18542 Record inserted successfully.\n"
     ]
    },
    {
     "data": {
      "application/vnd.jupyter.widget-view+json": {
       "model_id": "77853f75a95841feacebce8560d57b44",
       "version_major": 2,
       "version_minor": 0
      },
      "text/plain": [
       "2020-11-09:   0%|          | 0/18536 [00:00<?, ?it/s]"
      ]
     },
     "metadata": {},
     "output_type": "display_data"
    },
    {
     "name": "stdout",
     "output_type": "stream",
     "text": [
      "2020-11-09 18536 Record inserted successfully.\n"
     ]
    },
    {
     "data": {
      "application/vnd.jupyter.widget-view+json": {
       "model_id": "6b3c2af97a5146258d087c3aa6d35ac2",
       "version_major": 2,
       "version_minor": 0
      },
      "text/plain": [
       "2020-11-10:   0%|          | 0/18568 [00:00<?, ?it/s]"
      ]
     },
     "metadata": {},
     "output_type": "display_data"
    },
    {
     "name": "stdout",
     "output_type": "stream",
     "text": [
      "2020-11-10 18568 Record inserted successfully.\n"
     ]
    },
    {
     "data": {
      "application/vnd.jupyter.widget-view+json": {
       "model_id": "a25908c6053f4de39845dcd0b554c014",
       "version_major": 2,
       "version_minor": 0
      },
      "text/plain": [
       "2020-11-11:   0%|          | 0/18574 [00:00<?, ?it/s]"
      ]
     },
     "metadata": {},
     "output_type": "display_data"
    },
    {
     "name": "stdout",
     "output_type": "stream",
     "text": [
      "2020-11-11 18574 Record inserted successfully.\n"
     ]
    },
    {
     "data": {
      "application/vnd.jupyter.widget-view+json": {
       "model_id": "c2c831c39f184701bc216c9de8859c88",
       "version_major": 2,
       "version_minor": 0
      },
      "text/plain": [
       "2020-11-12:   0%|          | 0/18671 [00:00<?, ?it/s]"
      ]
     },
     "metadata": {},
     "output_type": "display_data"
    },
    {
     "name": "stdout",
     "output_type": "stream",
     "text": [
      "2020-11-12 18671 Record inserted successfully.\n"
     ]
    },
    {
     "data": {
      "application/vnd.jupyter.widget-view+json": {
       "model_id": "69e771bb570143b4bc602b0e17a2c414",
       "version_major": 2,
       "version_minor": 0
      },
      "text/plain": [
       "2020-11-13:   0%|          | 0/18687 [00:00<?, ?it/s]"
      ]
     },
     "metadata": {},
     "output_type": "display_data"
    },
    {
     "name": "stdout",
     "output_type": "stream",
     "text": [
      "2020-11-13 18687 Record inserted successfully.\n"
     ]
    },
    {
     "data": {
      "application/vnd.jupyter.widget-view+json": {
       "model_id": "00bb79867eca43cb82afdc7661263493",
       "version_major": 2,
       "version_minor": 0
      },
      "text/plain": [
       "2020-11-16:   0%|          | 0/18752 [00:00<?, ?it/s]"
      ]
     },
     "metadata": {},
     "output_type": "display_data"
    },
    {
     "name": "stdout",
     "output_type": "stream",
     "text": [
      "2020-11-16 18752 Record inserted successfully.\n"
     ]
    },
    {
     "data": {
      "application/vnd.jupyter.widget-view+json": {
       "model_id": "5d110bcabfc64200957ad40f3f4b3ab5",
       "version_major": 2,
       "version_minor": 0
      },
      "text/plain": [
       "2020-11-17:   0%|          | 0/18766 [00:00<?, ?it/s]"
      ]
     },
     "metadata": {},
     "output_type": "display_data"
    },
    {
     "name": "stdout",
     "output_type": "stream",
     "text": [
      "2020-11-17 18766 Record inserted successfully.\n"
     ]
    },
    {
     "data": {
      "application/vnd.jupyter.widget-view+json": {
       "model_id": "4b9e325c14844ff6b561d8f7f1a5de30",
       "version_major": 2,
       "version_minor": 0
      },
      "text/plain": [
       "2020-11-18:   0%|          | 0/18782 [00:00<?, ?it/s]"
      ]
     },
     "metadata": {},
     "output_type": "display_data"
    },
    {
     "name": "stdout",
     "output_type": "stream",
     "text": [
      "2020-11-18 18782 Record inserted successfully.\n"
     ]
    },
    {
     "data": {
      "application/vnd.jupyter.widget-view+json": {
       "model_id": "6df55997c2c94bd98b4f94d4f94df58e",
       "version_major": 2,
       "version_minor": 0
      },
      "text/plain": [
       "2020-11-19:   0%|          | 0/18717 [00:00<?, ?it/s]"
      ]
     },
     "metadata": {},
     "output_type": "display_data"
    },
    {
     "name": "stdout",
     "output_type": "stream",
     "text": [
      "2020-11-19 18717 Record inserted successfully.\n"
     ]
    },
    {
     "data": {
      "application/vnd.jupyter.widget-view+json": {
       "model_id": "390c0c1a456f4eb5817c65216f2b4809",
       "version_major": 2,
       "version_minor": 0
      },
      "text/plain": [
       "2020-11-20:   0%|          | 0/18784 [00:00<?, ?it/s]"
      ]
     },
     "metadata": {},
     "output_type": "display_data"
    },
    {
     "name": "stdout",
     "output_type": "stream",
     "text": [
      "2020-11-20 18784 Record inserted successfully.\n"
     ]
    },
    {
     "data": {
      "application/vnd.jupyter.widget-view+json": {
       "model_id": "3e2c8719afe24eef97a55000c40ba818",
       "version_major": 2,
       "version_minor": 0
      },
      "text/plain": [
       "2020-11-23:   0%|          | 0/18856 [00:00<?, ?it/s]"
      ]
     },
     "metadata": {},
     "output_type": "display_data"
    },
    {
     "name": "stdout",
     "output_type": "stream",
     "text": [
      "2020-11-23 18856 Record inserted successfully.\n"
     ]
    },
    {
     "data": {
      "application/vnd.jupyter.widget-view+json": {
       "model_id": "c7d8a2ad1fdf4fda8655ec62ecdc4ecd",
       "version_major": 2,
       "version_minor": 0
      },
      "text/plain": [
       "2020-11-24:   0%|          | 0/18895 [00:00<?, ?it/s]"
      ]
     },
     "metadata": {},
     "output_type": "display_data"
    },
    {
     "name": "stdout",
     "output_type": "stream",
     "text": [
      "2020-11-24 18895 Record inserted successfully.\n"
     ]
    },
    {
     "data": {
      "application/vnd.jupyter.widget-view+json": {
       "model_id": "b5d4c778277a41feb7cda616a297d678",
       "version_major": 2,
       "version_minor": 0
      },
      "text/plain": [
       "2020-11-25:   0%|          | 0/18948 [00:00<?, ?it/s]"
      ]
     },
     "metadata": {},
     "output_type": "display_data"
    },
    {
     "name": "stdout",
     "output_type": "stream",
     "text": [
      "2020-11-25 18948 Record inserted successfully.\n"
     ]
    },
    {
     "data": {
      "application/vnd.jupyter.widget-view+json": {
       "model_id": "00ee1f2ef0244bdf89a8c60a0e6adbf8",
       "version_major": 2,
       "version_minor": 0
      },
      "text/plain": [
       "2020-11-26:   0%|          | 0/18974 [00:00<?, ?it/s]"
      ]
     },
     "metadata": {},
     "output_type": "display_data"
    },
    {
     "name": "stdout",
     "output_type": "stream",
     "text": [
      "2020-11-26 18974 Record inserted successfully.\n"
     ]
    },
    {
     "data": {
      "application/vnd.jupyter.widget-view+json": {
       "model_id": "fca216f9b5d6478d92a0dfec016ddccf",
       "version_major": 2,
       "version_minor": 0
      },
      "text/plain": [
       "2020-11-27:   0%|          | 0/18957 [00:00<?, ?it/s]"
      ]
     },
     "metadata": {},
     "output_type": "display_data"
    },
    {
     "name": "stdout",
     "output_type": "stream",
     "text": [
      "2020-11-27 18957 Record inserted successfully.\n"
     ]
    },
    {
     "data": {
      "application/vnd.jupyter.widget-view+json": {
       "model_id": "347b637168fc4834834aba7caeed0a37",
       "version_major": 2,
       "version_minor": 0
      },
      "text/plain": [
       "2020-11-30:   0%|          | 0/19132 [00:00<?, ?it/s]"
      ]
     },
     "metadata": {},
     "output_type": "display_data"
    },
    {
     "name": "stdout",
     "output_type": "stream",
     "text": [
      "2020-11-30 19132 Record inserted successfully.\n"
     ]
    },
    {
     "data": {
      "application/vnd.jupyter.widget-view+json": {
       "model_id": "0a70dc6457204b51afe72db59aab3ae2",
       "version_major": 2,
       "version_minor": 0
      },
      "text/plain": [
       "2020-12-01:   0%|          | 0/19210 [00:00<?, ?it/s]"
      ]
     },
     "metadata": {},
     "output_type": "display_data"
    },
    {
     "name": "stdout",
     "output_type": "stream",
     "text": [
      "2020-12-01 19210 Record inserted successfully.\n"
     ]
    },
    {
     "data": {
      "application/vnd.jupyter.widget-view+json": {
       "model_id": "8e829c882e3145828a84a22cadec6081",
       "version_major": 2,
       "version_minor": 0
      },
      "text/plain": [
       "2020-12-02:   0%|          | 0/19279 [00:00<?, ?it/s]"
      ]
     },
     "metadata": {},
     "output_type": "display_data"
    },
    {
     "name": "stdout",
     "output_type": "stream",
     "text": [
      "2020-12-02 19279 Record inserted successfully.\n"
     ]
    },
    {
     "data": {
      "application/vnd.jupyter.widget-view+json": {
       "model_id": "fd0cd883b8984b2d8b663cee44fc904f",
       "version_major": 2,
       "version_minor": 0
      },
      "text/plain": [
       "2020-12-03:   0%|          | 0/19323 [00:00<?, ?it/s]"
      ]
     },
     "metadata": {},
     "output_type": "display_data"
    },
    {
     "name": "stdout",
     "output_type": "stream",
     "text": [
      "2020-12-03 19323 Record inserted successfully.\n"
     ]
    },
    {
     "data": {
      "application/vnd.jupyter.widget-view+json": {
       "model_id": "76ea8203df1d4069b2d7262c1bb5edc9",
       "version_major": 2,
       "version_minor": 0
      },
      "text/plain": [
       "2020-12-04:   0%|          | 0/19312 [00:00<?, ?it/s]"
      ]
     },
     "metadata": {},
     "output_type": "display_data"
    },
    {
     "name": "stdout",
     "output_type": "stream",
     "text": [
      "2020-12-04 19312 Record inserted successfully.\n"
     ]
    },
    {
     "data": {
      "application/vnd.jupyter.widget-view+json": {
       "model_id": "b1785677a46649c18019583d28232489",
       "version_major": 2,
       "version_minor": 0
      },
      "text/plain": [
       "2020-12-07:   0%|          | 0/19352 [00:00<?, ?it/s]"
      ]
     },
     "metadata": {},
     "output_type": "display_data"
    },
    {
     "name": "stdout",
     "output_type": "stream",
     "text": [
      "2020-12-07 19352 Record inserted successfully.\n"
     ]
    },
    {
     "data": {
      "application/vnd.jupyter.widget-view+json": {
       "model_id": "8ed4b27cc9754760bfea3b03548ec671",
       "version_major": 2,
       "version_minor": 0
      },
      "text/plain": [
       "2020-12-08:   0%|          | 0/19420 [00:00<?, ?it/s]"
      ]
     },
     "metadata": {},
     "output_type": "display_data"
    },
    {
     "name": "stdout",
     "output_type": "stream",
     "text": [
      "2020-12-08 19420 Record inserted successfully.\n"
     ]
    },
    {
     "data": {
      "application/vnd.jupyter.widget-view+json": {
       "model_id": "92e21d1b20c445f6805b3cec2c56763e",
       "version_major": 2,
       "version_minor": 0
      },
      "text/plain": [
       "2020-12-09:   0%|          | 0/19504 [00:00<?, ?it/s]"
      ]
     },
     "metadata": {},
     "output_type": "display_data"
    },
    {
     "name": "stdout",
     "output_type": "stream",
     "text": [
      "2020-12-09 19504 Record inserted successfully.\n"
     ]
    },
    {
     "data": {
      "application/vnd.jupyter.widget-view+json": {
       "model_id": "d7fcee05fc0449a38403cbbe0caea68c",
       "version_major": 2,
       "version_minor": 0
      },
      "text/plain": [
       "2020-12-10:   0%|          | 0/19620 [00:00<?, ?it/s]"
      ]
     },
     "metadata": {},
     "output_type": "display_data"
    },
    {
     "name": "stdout",
     "output_type": "stream",
     "text": [
      "2020-12-10 19620 Record inserted successfully.\n"
     ]
    },
    {
     "data": {
      "application/vnd.jupyter.widget-view+json": {
       "model_id": "fa1a92a474c44acda9656cf4bf09a934",
       "version_major": 2,
       "version_minor": 0
      },
      "text/plain": [
       "2020-12-11:   0%|          | 0/19611 [00:00<?, ?it/s]"
      ]
     },
     "metadata": {},
     "output_type": "display_data"
    },
    {
     "name": "stdout",
     "output_type": "stream",
     "text": [
      "2020-12-11 19611 Record inserted successfully.\n"
     ]
    },
    {
     "data": {
      "application/vnd.jupyter.widget-view+json": {
       "model_id": "0eab4649086a4e1289fba0745104febb",
       "version_major": 2,
       "version_minor": 0
      },
      "text/plain": [
       "2020-12-14:   0%|          | 0/19713 [00:00<?, ?it/s]"
      ]
     },
     "metadata": {},
     "output_type": "display_data"
    },
    {
     "name": "stdout",
     "output_type": "stream",
     "text": [
      "2020-12-14 19713 Record inserted successfully.\n"
     ]
    },
    {
     "data": {
      "application/vnd.jupyter.widget-view+json": {
       "model_id": "66171aa94630478496138e5df6b167c6",
       "version_major": 2,
       "version_minor": 0
      },
      "text/plain": [
       "2020-12-15:   0%|          | 0/19743 [00:00<?, ?it/s]"
      ]
     },
     "metadata": {},
     "output_type": "display_data"
    },
    {
     "name": "stdout",
     "output_type": "stream",
     "text": [
      "2020-12-15 19743 Record inserted successfully.\n"
     ]
    },
    {
     "data": {
      "application/vnd.jupyter.widget-view+json": {
       "model_id": "9b90596a33af48ee887be7ad4e55a6f7",
       "version_major": 2,
       "version_minor": 0
      },
      "text/plain": [
       "2020-12-16:   0%|          | 0/19785 [00:00<?, ?it/s]"
      ]
     },
     "metadata": {},
     "output_type": "display_data"
    },
    {
     "name": "stdout",
     "output_type": "stream",
     "text": [
      "2020-12-16 19785 Record inserted successfully.\n"
     ]
    },
    {
     "data": {
      "application/vnd.jupyter.widget-view+json": {
       "model_id": "a406277235f44fd4bf15a047ed8c27aa",
       "version_major": 2,
       "version_minor": 0
      },
      "text/plain": [
       "2020-12-17:   0%|          | 0/19856 [00:00<?, ?it/s]"
      ]
     },
     "metadata": {},
     "output_type": "display_data"
    },
    {
     "name": "stdout",
     "output_type": "stream",
     "text": [
      "2020-12-17 19856 Record inserted successfully.\n"
     ]
    },
    {
     "data": {
      "application/vnd.jupyter.widget-view+json": {
       "model_id": "b873ce19cf9c452693aa8e23135d04a8",
       "version_major": 2,
       "version_minor": 0
      },
      "text/plain": [
       "2020-12-18:   0%|          | 0/19848 [00:00<?, ?it/s]"
      ]
     },
     "metadata": {},
     "output_type": "display_data"
    },
    {
     "name": "stdout",
     "output_type": "stream",
     "text": [
      "2020-12-18 19848 Record inserted successfully.\n"
     ]
    },
    {
     "data": {
      "application/vnd.jupyter.widget-view+json": {
       "model_id": "54a387cd7b0944708dee8e3e7411e439",
       "version_major": 2,
       "version_minor": 0
      },
      "text/plain": [
       "2020-12-21:   0%|          | 0/19945 [00:00<?, ?it/s]"
      ]
     },
     "metadata": {},
     "output_type": "display_data"
    },
    {
     "name": "stdout",
     "output_type": "stream",
     "text": [
      "2020-12-21 19945 Record inserted successfully.\n"
     ]
    },
    {
     "data": {
      "application/vnd.jupyter.widget-view+json": {
       "model_id": "fc1f66873deb4235b58fae26e1b96fc8",
       "version_major": 2,
       "version_minor": 0
      },
      "text/plain": [
       "2020-12-22:   0%|          | 0/20055 [00:00<?, ?it/s]"
      ]
     },
     "metadata": {},
     "output_type": "display_data"
    },
    {
     "name": "stdout",
     "output_type": "stream",
     "text": [
      "2020-12-22 20055 Record inserted successfully.\n"
     ]
    },
    {
     "data": {
      "application/vnd.jupyter.widget-view+json": {
       "model_id": "04e8cedef2e94812928b70e06df3c240",
       "version_major": 2,
       "version_minor": 0
      },
      "text/plain": [
       "2020-12-23:   0%|          | 0/20192 [00:00<?, ?it/s]"
      ]
     },
     "metadata": {},
     "output_type": "display_data"
    },
    {
     "name": "stdout",
     "output_type": "stream",
     "text": [
      "2020-12-23 20192 Record inserted successfully.\n"
     ]
    },
    {
     "data": {
      "application/vnd.jupyter.widget-view+json": {
       "model_id": "bed5f6b890974c0aa31bfc8a3818f33f",
       "version_major": 2,
       "version_minor": 0
      },
      "text/plain": [
       "2020-12-24:   0%|          | 0/20264 [00:00<?, ?it/s]"
      ]
     },
     "metadata": {},
     "output_type": "display_data"
    },
    {
     "name": "stdout",
     "output_type": "stream",
     "text": [
      "2020-12-24 20264 Record inserted successfully.\n"
     ]
    },
    {
     "data": {
      "application/vnd.jupyter.widget-view+json": {
       "model_id": "2f6b6b6dddb84286aff4aa5845b6d932",
       "version_major": 2,
       "version_minor": 0
      },
      "text/plain": [
       "2020-12-25:   0%|          | 0/20268 [00:00<?, ?it/s]"
      ]
     },
     "metadata": {},
     "output_type": "display_data"
    },
    {
     "name": "stdout",
     "output_type": "stream",
     "text": [
      "2020-12-25 20268 Record inserted successfully.\n"
     ]
    },
    {
     "data": {
      "application/vnd.jupyter.widget-view+json": {
       "model_id": "f042275bd3ff428284656db88cf4d69b",
       "version_major": 2,
       "version_minor": 0
      },
      "text/plain": [
       "2020-12-28:   0%|          | 0/20333 [00:00<?, ?it/s]"
      ]
     },
     "metadata": {},
     "output_type": "display_data"
    },
    {
     "name": "stdout",
     "output_type": "stream",
     "text": [
      "2020-12-28 20333 Record inserted successfully.\n"
     ]
    },
    {
     "data": {
      "application/vnd.jupyter.widget-view+json": {
       "model_id": "36931a4e57704d0e8e29a55c69a668c8",
       "version_major": 2,
       "version_minor": 0
      },
      "text/plain": [
       "2020-12-29:   0%|          | 0/20506 [00:00<?, ?it/s]"
      ]
     },
     "metadata": {},
     "output_type": "display_data"
    },
    {
     "name": "stdout",
     "output_type": "stream",
     "text": [
      "2020-12-29 20506 Record inserted successfully.\n"
     ]
    },
    {
     "data": {
      "application/vnd.jupyter.widget-view+json": {
       "model_id": "539c82d814fc48ec891b0e9df0d64f39",
       "version_major": 2,
       "version_minor": 0
      },
      "text/plain": [
       "2020-12-30:   0%|          | 0/20573 [00:00<?, ?it/s]"
      ]
     },
     "metadata": {},
     "output_type": "display_data"
    },
    {
     "name": "stdout",
     "output_type": "stream",
     "text": [
      "2020-12-30 20573 Record inserted successfully.\n"
     ]
    },
    {
     "data": {
      "application/vnd.jupyter.widget-view+json": {
       "model_id": "46924b088c0d473992dbc4a8e8c160a4",
       "version_major": 2,
       "version_minor": 0
      },
      "text/plain": [
       "2020-12-31:   0%|          | 0/20454 [00:00<?, ?it/s]"
      ]
     },
     "metadata": {},
     "output_type": "display_data"
    },
    {
     "name": "stdout",
     "output_type": "stream",
     "text": [
      "2020-12-31 20454 Record inserted successfully.\n",
      "MySQL connection is closed\n"
     ]
    }
   ],
   "source": [
    "'''\n",
    "['證券代號', '證券名稱', '成交股數', '成交筆數', '成交金額', '開盤價', '最高價', '最低價', '收盤價', '漲跌(+/-)', '漲跌價差', \n",
    "'最後揭示買價', '最後揭示買量', '最後揭示賣價', '最後揭示賣量', '本益比']\n",
    "['0050', '元大台灣50', '6,307,525', '5,434', '778,088,986', '122.20', '124.50', '122.00', '124.35', '<p style= color:red>+</p>', '2.10', \n",
    "'124.35', '18', '124.40', '142', '0.00']\n",
    "''' \n",
    "import os\n",
    "import json\n",
    "import mysql.connector\n",
    "from datetime import datetime\n",
    "from datetime import timedelta, date\n",
    "from tqdm.notebook import tqdm, tnrange, tqdm_notebook\n",
    "\n",
    "def insert_table(conn, insert_query, records):\n",
    "    try:\n",
    "        cursor = conn.cursor()\n",
    "        cursor.executemany(insert_query, records)\n",
    "        conn.commit()\n",
    "    except mysql.connector.Error as error:\n",
    "        print(\"Failed to insert record into MySQL table {}\".format(error))\n",
    "    return cursor\n",
    "\n",
    "path = '2020'\n",
    "pathTemplate = \"{}/{}\"\n",
    "sessionName = \"data9\"\n",
    "insert_query = \"\"\"INSERT INTO squote (skey, sdate, scode, sname, open, high, low, close, volume, transaction, svalue, diff)\n",
    "                  VALUES(%s, %s, %s, %s, %s, %s, %s, %s, %s, %s, %s, %s) \"\"\"\n",
    "\n",
    "conn = mysql.connector.connect(host='localhost',\n",
    "                              database='twse',\n",
    "                              user='user',\n",
    "                              password='')\n",
    "files = os.listdir(path)\n",
    "filesSorted = sorted(files)\n",
    "for f_idx in tnrange(len(filesSorted), desc='Import Progress'):\n",
    "    filename = filesSorted[f_idx]\n",
    "    f_name, f_ext = os.path.splitext(filename)\n",
    "    f = open(os.path.join(path, filename), encoding=\"utf8\")\n",
    "    data = json.load(f)\n",
    "    if \"OK\" not in data[\"stat\"]:\n",
    "        continue\n",
    "    records = []\n",
    "    currentDate = datetime.strptime(f_name, \"%Y%m%d\").date()\n",
    "    currentDateStr = currentDate.strftime(\"%Y-%m-%d\")\n",
    "    quotes = data[sessionName]\n",
    "    for r_idx in tnrange(len(quotes), desc=currentDateStr):\n",
    "        row = quotes[r_idx]\n",
    "        sign = 1\n",
    "        if \"green\" in row[9]:\n",
    "            sign = -1\n",
    "        skey = f_name + row[0]\n",
    "        my_tuple = (skey,           # primary key\n",
    "                    currentDateStr, # date \n",
    "                    row[0],         # code\n",
    "                    row[1],         # name\n",
    "                    float(row[5].replace(\"--\",\"0\").replace(\",\",\"\")), # open\n",
    "                    float(row[6].replace(\"--\",\"0\").replace(\",\",\"\")), # high\n",
    "                    float(row[7].replace(\"--\",\"0\").replace(\",\",\"\")), # low\n",
    "                    float(row[8].replace(\"--\",\"0\").replace(\",\",\"\")), # close\n",
    "                    int(row[2].replace(\",\",\"\")), # volume\n",
    "                    int(row[3].replace(\",\",\"\")), # transaction\n",
    "                    int(row[4].replace(\",\",\"\")), # value\n",
    "                    float(row[10].replace(\"--\",\"0\")) * sign # diff\n",
    "                   )\n",
    "        records.append(my_tuple)\n",
    "    cursor = insert_table(conn, insert_query, records)\n",
    "    #print(currentDateStr, cursor.rowcount, \"Record inserted successfully.\")\n",
    "    f.close()\n",
    "\n",
    "if conn.is_connected():\n",
    "    cursor.close()\n",
    "    conn.close()\n",
    "    print(\"MySQL connection is closed\")\n"
   ]
  },
  {
   "cell_type": "code",
   "execution_count": null,
   "id": "c2695216-ab45-4ce3-8706-44799275afdc",
   "metadata": {},
   "outputs": [],
   "source": []
  }
 ],
 "metadata": {
  "interpreter": {
   "hash": "d272e2026838bb335172dbce7a4df8d70283680680035739ed330613b545d8bd"
  },
  "kernelspec": {
   "display_name": "Python 3",
   "language": "python",
   "name": "python3"
  },
  "language_info": {
   "codemirror_mode": {
    "name": "ipython",
    "version": 3
   },
   "file_extension": ".py",
   "mimetype": "text/x-python",
   "name": "python",
   "nbconvert_exporter": "python",
   "pygments_lexer": "ipython3",
   "version": "3.8.8"
  }
 },
 "nbformat": 4,
 "nbformat_minor": 5
}
