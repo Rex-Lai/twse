{
 "cells": [
  {
   "cell_type": "code",
   "execution_count": 3,
   "id": "a507fcce-daea-4b6a-b2c7-b65e508035c9",
   "metadata": {},
   "outputs": [
    {
     "name": "stdout",
     "output_type": "stream",
     "text": [
      "Start date: 2021-12-30\n",
      "End   date: 2021-12-30\n",
      "1\n"
     ]
    },
    {
     "data": {
      "application/vnd.jupyter.widget-view+json": {
       "model_id": "d56b68ff8b0149fead367d7260de5f24",
       "version_major": 2,
       "version_minor": 0
      },
      "text/plain": [
       "  0%|          | 0/1 [00:00<?, ?it/s]"
      ]
     },
     "metadata": {},
     "output_type": "display_data"
    },
    {
     "name": "stdout",
     "output_type": "stream",
     "text": [
      "Start downloading...\n",
      "Done.\n"
     ]
    }
   ],
   "source": [
    "import requests\n",
    "import json\n",
    "import time\n",
    "import os\n",
    "from datetime import datetime\n",
    "from datetime import timedelta, date\n",
    "from tqdm.notebook import tqdm, tnrange, tqdm_notebook\n",
    "\n",
    "URL = \"https://www.twse.com.tw/exchangeReport/MI_INDEX?response=json&date={}&type=ALL\"\n",
    "startDateStr = \"20211230\"\n",
    "endDateStr   = \"20211230\"\n",
    "\n",
    "startDate = datetime.strptime(startDateStr, \"%Y%m%d\").date()\n",
    "endDate = datetime.strptime(endDateStr, \"%Y%m%d\").date()\n",
    "\n",
    "print(\"Start date: {}\".format(startDate))\n",
    "print(\"End   date: {}\".format(endDate))\n",
    "\n",
    "delta = endDate - startDate\n",
    "\n",
    "print(delta.days+1)\n",
    "\n",
    "currentDate = startDate\n",
    "for i in tnrange(delta.days+1):\n",
    "    currentDateStr = currentDate.strftime(\"%Y%m%d\")\n",
    "    currentYearStr = currentDate.strftime(\"%Y\")\n",
    "    #check folder\n",
    "    if os.path.isdir(currentYearStr) == False:\n",
    "        os.mkdir(currentYearStr)\n",
    "    #print(URL.format(currentDateStr))\n",
    "    try:\n",
    "        print('Start downloading...')\n",
    "        res = requests.get(URL.format(currentDateStr))\n",
    "        data = json.loads(res.content)\n",
    "        if \"OK\" in data[\"stat\"]:\n",
    "            f = open(\"{}/{}.json\".format(currentYearStr, currentDateStr), \"wb\")\n",
    "            f.write(res.content)\n",
    "            f.close()\n",
    "            #print(\"{}.json downloaded.\".format(currentDateStr))\n",
    "        time.sleep(5)\n",
    "    except Exception as err:\n",
    "        print(currentDateStr, '{0}'.format(err))\n",
    "    currentDate += timedelta(days=1)\n",
    "print(\"Done.\")"
   ]
  },
  {
   "cell_type": "code",
   "execution_count": null,
   "id": "4519ba7c-d872-4625-9fdd-9deb0f584365",
   "metadata": {},
   "outputs": [],
   "source": []
  }
 ],
 "metadata": {
  "kernelspec": {
   "display_name": "Python 3",
   "language": "python",
   "name": "python3"
  },
  "language_info": {
   "codemirror_mode": {
    "name": "ipython",
    "version": 3
   },
   "file_extension": ".py",
   "mimetype": "text/x-python",
   "name": "python",
   "nbconvert_exporter": "python",
   "pygments_lexer": "ipython3",
   "version": "3.8.8"
  }
 },
 "nbformat": 4,
 "nbformat_minor": 5
}
