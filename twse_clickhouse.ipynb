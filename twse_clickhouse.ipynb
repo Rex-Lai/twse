{
 "cells": [
  {
   "cell_type": "code",
   "execution_count": 10,
   "id": "8268ac48",
   "metadata": {},
   "outputs": [
    {
     "data": {
      "application/vnd.jupyter.widget-view+json": {
       "model_id": "c72d51578ccf4d1fa07faf973fe7d6c5",
       "version_major": 2,
       "version_minor": 0
      },
      "text/plain": [
       "Import Progress:   0%|          | 0/1 [00:00<?, ?it/s]"
      ]
     },
     "metadata": {},
     "output_type": "display_data"
    },
    {
     "data": {
      "application/vnd.jupyter.widget-view+json": {
       "model_id": "237ec13598fb4a1b995c4ac98c798570",
       "version_major": 2,
       "version_minor": 0
      },
      "text/plain": [
       "2021-12-30:   0%|          | 0/25946 [00:00<?, ?it/s]"
      ]
     },
     "metadata": {},
     "output_type": "display_data"
    },
    {
     "name": "stdout",
     "output_type": "stream",
     "text": [
      "Completed.\n"
     ]
    }
   ],
   "source": [
    "'''\n",
    "['證券代號', '證券名稱', '成交股數', '成交筆數', '成交金額', '開盤價', '最高價', '最低價', '收盤價', '漲跌(+/-)', '漲跌價差', \n",
    "'最後揭示買價', '最後揭示買量', '最後揭示賣價', '最後揭示賣量', '本益比']\n",
    "['0050', '元大台灣50', '6,307,525', '5,434', '778,088,986', '122.20', '124.50', '122.00', '124.35', '<p style= color:red>+</p>', '2.10', \n",
    "'124.35', '18', '124.40', '142', '0.00']\n",
    "''' \n",
    "import os\n",
    "import json\n",
    "from tqdm.notebook import tqdm, tnrange, tqdm_notebook\n",
    "from clickhouse_driver import Client\n",
    "from datetime import datetime\n",
    "from datetime import timedelta, date\n",
    "\n",
    "def insert_table(conn, insert_query, records):\n",
    "    try:\n",
    "        return conn.execute(insert_query, records)\n",
    "    except Exception as err:\n",
    "        print(err)\n",
    "    return None\n",
    "\n",
    "path = '2021'\n",
    "pathTemplate = \"{}/{}\"\n",
    "sessions = [\"data9\",\"data8\"]\n",
    "insert_query = \"INSERT INTO twse.squote (skey, sdate, scode, sname, open, high, low, close, volume, transaction, svalue, diff) VALUES\"\n",
    "\n",
    "conn = Client(host='localhost',\n",
    "              database='twse',\n",
    "              user='default',\n",
    "              password='',\n",
    "              compression='lz4',\n",
    "              secure=False\n",
    "              )\n",
    "\n",
    "files = os.listdir(path)\n",
    "filesSorted = sorted(files)\n",
    "for f_idx in tnrange(len(filesSorted), desc='Import Progress'):\n",
    "    filename = filesSorted[f_idx]\n",
    "    f_name, f_ext = os.path.splitext(filename)\n",
    "    f = open(os.path.join(path, filename), encoding=\"utf8\")\n",
    "    data = json.load(f)\n",
    "    if \"OK\" not in data[\"stat\"]:\n",
    "        continue\n",
    "    records = []\n",
    "    currentDate = datetime.strptime(f_name, \"%Y%m%d\").date()\n",
    "    currentDateStr = currentDate.strftime(\"%Y-%m-%d\")\n",
    "    quotes = None\n",
    "    for s in sessions:\n",
    "        if s in data:\n",
    "            quotes = data[s]\n",
    "            break\n",
    "\n",
    "    for r_idx in tnrange(len(quotes), desc=currentDateStr):\n",
    "        row = quotes[r_idx]\n",
    "        sign = 1\n",
    "        if \"green\" in row[9]:\n",
    "            sign = -1\n",
    "        skey = f_name + row[0]\n",
    "        my_dict = (skey,           # primary key\n",
    "                    currentDate, # date \n",
    "                    row[0],         # code\n",
    "                    row[1],         # name\n",
    "                    float(row[5].replace(\"--\",\"0\").replace(\",\",\"\")), # open\n",
    "                    float(row[6].replace(\"--\",\"0\").replace(\",\",\"\")), # high\n",
    "                    float(row[7].replace(\"--\",\"0\").replace(\",\",\"\")), # low\n",
    "                    float(row[8].replace(\"--\",\"0\").replace(\",\",\"\")), # close\n",
    "                    int(row[2].replace(\",\",\"\")), # volume\n",
    "                    int(row[3].replace(\",\",\"\")), # transaction\n",
    "                    int(row[4].replace(\",\",\"\")), # value\n",
    "                    float(row[10].replace(\"--\",\"0\")) * sign # diff\n",
    "                   )\n",
    "\n",
    "        records.append(my_dict)\n",
    "    cnt = insert_table(conn, insert_query, records)\n",
    "    #print(currentDateStr, cnt, \"Record inserted successfully.\")\n",
    "    f.close()\n",
    "print('Completed.')"
   ]
  },
  {
   "cell_type": "code",
   "execution_count": null,
   "id": "5c2a4365-b593-484a-8af5-6c04deff0934",
   "metadata": {},
   "outputs": [],
   "source": []
  }
 ],
 "metadata": {
  "interpreter": {
   "hash": "d272e2026838bb335172dbce7a4df8d70283680680035739ed330613b545d8bd"
  },
  "kernelspec": {
   "display_name": "Python 3",
   "language": "python",
   "name": "python3"
  },
  "language_info": {
   "codemirror_mode": {
    "name": "ipython",
    "version": 3
   },
   "file_extension": ".py",
   "mimetype": "text/x-python",
   "name": "python",
   "nbconvert_exporter": "python",
   "pygments_lexer": "ipython3",
   "version": "3.8.8"
  }
 },
 "nbformat": 4,
 "nbformat_minor": 5
}
