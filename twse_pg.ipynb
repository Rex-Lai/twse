{
 "cells": [
  {
   "cell_type": "code",
   "execution_count": 1,
   "metadata": {},
   "outputs": [
    {
     "data": {
      "application/vnd.jupyter.widget-view+json": {
       "model_id": "fca4da2f860d4e748a989144050aac54",
       "version_major": 2,
       "version_minor": 0
      },
      "text/plain": [
       "Import Progress:   0%|          | 0/246 [00:00<?, ?it/s]"
      ]
     },
     "metadata": {},
     "output_type": "display_data"
    },
    {
     "data": {
      "application/vnd.jupyter.widget-view+json": {
       "model_id": "b9b6478d0827466fbf06e2bdc447251a",
       "version_major": 2,
       "version_minor": 0
      },
      "text/plain": [
       "2020-01-02:   0%|          | 0/16665 [00:00<?, ?it/s]"
      ]
     },
     "metadata": {},
     "output_type": "display_data"
    },
    {
     "data": {
      "application/vnd.jupyter.widget-view+json": {
       "model_id": "18994da7d813438f84ca243e0e46dbf8",
       "version_major": 2,
       "version_minor": 0
      },
      "text/plain": [
       "2020-01-03:   0%|          | 0/16645 [00:00<?, ?it/s]"
      ]
     },
     "metadata": {},
     "output_type": "display_data"
    },
    {
     "data": {
      "application/vnd.jupyter.widget-view+json": {
       "model_id": "3976da46784545a9bb76cb955883c1a3",
       "version_major": 2,
       "version_minor": 0
      },
      "text/plain": [
       "2020-01-06:   0%|          | 0/16698 [00:00<?, ?it/s]"
      ]
     },
     "metadata": {},
     "output_type": "display_data"
    },
    {
     "data": {
      "application/vnd.jupyter.widget-view+json": {
       "model_id": "173c4f8c0235435f86480d932e4c686d",
       "version_major": 2,
       "version_minor": 0
      },
      "text/plain": [
       "2020-01-07:   0%|          | 0/16892 [00:00<?, ?it/s]"
      ]
     },
     "metadata": {},
     "output_type": "display_data"
    },
    {
     "data": {
      "application/vnd.jupyter.widget-view+json": {
       "model_id": "24edb0c2662442d59541afbc9037dbdf",
       "version_major": 2,
       "version_minor": 0
      },
      "text/plain": [
       "2020-01-08:   0%|          | 0/16963 [00:00<?, ?it/s]"
      ]
     },
     "metadata": {},
     "output_type": "display_data"
    },
    {
     "data": {
      "application/vnd.jupyter.widget-view+json": {
       "model_id": "02e08e65b15f41dda21fc87c7ee08cdf",
       "version_major": 2,
       "version_minor": 0
      },
      "text/plain": [
       "2020-01-09:   0%|          | 0/16995 [00:00<?, ?it/s]"
      ]
     },
     "metadata": {},
     "output_type": "display_data"
    },
    {
     "data": {
      "application/vnd.jupyter.widget-view+json": {
       "model_id": "04de8567cf4e417792afc309863da032",
       "version_major": 2,
       "version_minor": 0
      },
      "text/plain": [
       "2020-01-10:   0%|          | 0/17023 [00:00<?, ?it/s]"
      ]
     },
     "metadata": {},
     "output_type": "display_data"
    },
    {
     "data": {
      "application/vnd.jupyter.widget-view+json": {
       "model_id": "a238b60203984bc2b8c261d04111fd26",
       "version_major": 2,
       "version_minor": 0
      },
      "text/plain": [
       "2020-01-13:   0%|          | 0/17045 [00:00<?, ?it/s]"
      ]
     },
     "metadata": {},
     "output_type": "display_data"
    },
    {
     "data": {
      "application/vnd.jupyter.widget-view+json": {
       "model_id": "0f1948d0e4354d29a11f257608303b11",
       "version_major": 2,
       "version_minor": 0
      },
      "text/plain": [
       "2020-01-14:   0%|          | 0/17065 [00:00<?, ?it/s]"
      ]
     },
     "metadata": {},
     "output_type": "display_data"
    },
    {
     "data": {
      "application/vnd.jupyter.widget-view+json": {
       "model_id": "8372c0d56f764c4bad9b5f60c6566427",
       "version_major": 2,
       "version_minor": 0
      },
      "text/plain": [
       "2020-01-15:   0%|          | 0/17076 [00:00<?, ?it/s]"
      ]
     },
     "metadata": {},
     "output_type": "display_data"
    },
    {
     "data": {
      "application/vnd.jupyter.widget-view+json": {
       "model_id": "834dc7d7c32f442fa3fa3ee5fd51a9aa",
       "version_major": 2,
       "version_minor": 0
      },
      "text/plain": [
       "2020-01-16:   0%|          | 0/17222 [00:00<?, ?it/s]"
      ]
     },
     "metadata": {},
     "output_type": "display_data"
    },
    {
     "data": {
      "application/vnd.jupyter.widget-view+json": {
       "model_id": "87e9b45e5bfc45cf81cd7fde771c30b0",
       "version_major": 2,
       "version_minor": 0
      },
      "text/plain": [
       "2020-01-17:   0%|          | 0/17243 [00:00<?, ?it/s]"
      ]
     },
     "metadata": {},
     "output_type": "display_data"
    },
    {
     "data": {
      "application/vnd.jupyter.widget-view+json": {
       "model_id": "af7bfc04f6ab40f38a3351beaddecec6",
       "version_major": 2,
       "version_minor": 0
      },
      "text/plain": [
       "2020-01-20:   0%|          | 0/16814 [00:00<?, ?it/s]"
      ]
     },
     "metadata": {},
     "output_type": "display_data"
    },
    {
     "data": {
      "application/vnd.jupyter.widget-view+json": {
       "model_id": "01bdf85c083547b19c4bb3d017395fb4",
       "version_major": 2,
       "version_minor": 0
      },
      "text/plain": [
       "2020-01-30:   0%|          | 0/16872 [00:00<?, ?it/s]"
      ]
     },
     "metadata": {},
     "output_type": "display_data"
    },
    {
     "data": {
      "application/vnd.jupyter.widget-view+json": {
       "model_id": "e56f29404b90430ca05c5c7b5fc793d1",
       "version_major": 2,
       "version_minor": 0
      },
      "text/plain": [
       "2020-01-31:   0%|          | 0/16875 [00:00<?, ?it/s]"
      ]
     },
     "metadata": {},
     "output_type": "display_data"
    },
    {
     "data": {
      "application/vnd.jupyter.widget-view+json": {
       "model_id": "1d44c23c48af4e159ebd55ebacaf946e",
       "version_major": 2,
       "version_minor": 0
      },
      "text/plain": [
       "2020-02-03:   0%|          | 0/16906 [00:00<?, ?it/s]"
      ]
     },
     "metadata": {},
     "output_type": "display_data"
    },
    {
     "data": {
      "application/vnd.jupyter.widget-view+json": {
       "model_id": "e7ba73e89b7740bb9905bc9e26915043",
       "version_major": 2,
       "version_minor": 0
      },
      "text/plain": [
       "2020-02-04:   0%|          | 0/16971 [00:00<?, ?it/s]"
      ]
     },
     "metadata": {},
     "output_type": "display_data"
    },
    {
     "data": {
      "application/vnd.jupyter.widget-view+json": {
       "model_id": "5d87ed38151c43bfa4fb6de54e6f125c",
       "version_major": 2,
       "version_minor": 0
      },
      "text/plain": [
       "2020-02-05:   0%|          | 0/17049 [00:00<?, ?it/s]"
      ]
     },
     "metadata": {},
     "output_type": "display_data"
    },
    {
     "data": {
      "application/vnd.jupyter.widget-view+json": {
       "model_id": "50ef1ca8d8744fb8aa683ff29ad4454f",
       "version_major": 2,
       "version_minor": 0
      },
      "text/plain": [
       "2020-02-06:   0%|          | 0/17069 [00:00<?, ?it/s]"
      ]
     },
     "metadata": {},
     "output_type": "display_data"
    },
    {
     "data": {
      "application/vnd.jupyter.widget-view+json": {
       "model_id": "8d1b9ccd49504a4282ade48a51f4292d",
       "version_major": 2,
       "version_minor": 0
      },
      "text/plain": [
       "2020-02-07:   0%|          | 0/17176 [00:00<?, ?it/s]"
      ]
     },
     "metadata": {},
     "output_type": "display_data"
    },
    {
     "data": {
      "application/vnd.jupyter.widget-view+json": {
       "model_id": "4679f566828041289f0b44d491219133",
       "version_major": 2,
       "version_minor": 0
      },
      "text/plain": [
       "2020-02-10:   0%|          | 0/17188 [00:00<?, ?it/s]"
      ]
     },
     "metadata": {},
     "output_type": "display_data"
    },
    {
     "data": {
      "application/vnd.jupyter.widget-view+json": {
       "model_id": "c4f32d23e1e34f2c859ba91618018e4b",
       "version_major": 2,
       "version_minor": 0
      },
      "text/plain": [
       "2020-02-11:   0%|          | 0/17343 [00:00<?, ?it/s]"
      ]
     },
     "metadata": {},
     "output_type": "display_data"
    },
    {
     "data": {
      "application/vnd.jupyter.widget-view+json": {
       "model_id": "15883cd13a954961bdc6e27f1797e1f4",
       "version_major": 2,
       "version_minor": 0
      },
      "text/plain": [
       "2020-02-12:   0%|          | 0/17380 [00:00<?, ?it/s]"
      ]
     },
     "metadata": {},
     "output_type": "display_data"
    },
    {
     "data": {
      "application/vnd.jupyter.widget-view+json": {
       "model_id": "45d394c48e954246b3945505d3eb8f21",
       "version_major": 2,
       "version_minor": 0
      },
      "text/plain": [
       "2020-02-13:   0%|          | 0/17404 [00:00<?, ?it/s]"
      ]
     },
     "metadata": {},
     "output_type": "display_data"
    },
    {
     "data": {
      "application/vnd.jupyter.widget-view+json": {
       "model_id": "e57c740d74d045e8b13c25cde64c5129",
       "version_major": 2,
       "version_minor": 0
      },
      "text/plain": [
       "2020-02-14:   0%|          | 0/17347 [00:00<?, ?it/s]"
      ]
     },
     "metadata": {},
     "output_type": "display_data"
    },
    {
     "data": {
      "application/vnd.jupyter.widget-view+json": {
       "model_id": "ace562e0201a4db784180ae0eafc2801",
       "version_major": 2,
       "version_minor": 0
      },
      "text/plain": [
       "2020-02-17:   0%|          | 0/17368 [00:00<?, ?it/s]"
      ]
     },
     "metadata": {},
     "output_type": "display_data"
    },
    {
     "data": {
      "application/vnd.jupyter.widget-view+json": {
       "model_id": "5434c915e12e47d0b4f78c9b6ef07e77",
       "version_major": 2,
       "version_minor": 0
      },
      "text/plain": [
       "2020-02-18:   0%|          | 0/17305 [00:00<?, ?it/s]"
      ]
     },
     "metadata": {},
     "output_type": "display_data"
    },
    {
     "data": {
      "application/vnd.jupyter.widget-view+json": {
       "model_id": "3bbee28ec67542d5aeba417acf2a0507",
       "version_major": 2,
       "version_minor": 0
      },
      "text/plain": [
       "2020-02-19:   0%|          | 0/17296 [00:00<?, ?it/s]"
      ]
     },
     "metadata": {},
     "output_type": "display_data"
    },
    {
     "data": {
      "application/vnd.jupyter.widget-view+json": {
       "model_id": "2fdfeb1bac2a46b7be0ff9e23679c41d",
       "version_major": 2,
       "version_minor": 0
      },
      "text/plain": [
       "2020-02-20:   0%|          | 0/17378 [00:00<?, ?it/s]"
      ]
     },
     "metadata": {},
     "output_type": "display_data"
    },
    {
     "data": {
      "application/vnd.jupyter.widget-view+json": {
       "model_id": "2d85796f5776407883c31472daa1c5e8",
       "version_major": 2,
       "version_minor": 0
      },
      "text/plain": [
       "2020-02-21:   0%|          | 0/17318 [00:00<?, ?it/s]"
      ]
     },
     "metadata": {},
     "output_type": "display_data"
    },
    {
     "data": {
      "application/vnd.jupyter.widget-view+json": {
       "model_id": "d266cf4f1a9543579d4911dba66969b9",
       "version_major": 2,
       "version_minor": 0
      },
      "text/plain": [
       "2020-02-24:   0%|          | 0/17257 [00:00<?, ?it/s]"
      ]
     },
     "metadata": {},
     "output_type": "display_data"
    },
    {
     "data": {
      "application/vnd.jupyter.widget-view+json": {
       "model_id": "72bb77cf50a84a8c8b72d5eca64204ce",
       "version_major": 2,
       "version_minor": 0
      },
      "text/plain": [
       "2020-02-25:   0%|          | 0/17249 [00:00<?, ?it/s]"
      ]
     },
     "metadata": {},
     "output_type": "display_data"
    },
    {
     "data": {
      "application/vnd.jupyter.widget-view+json": {
       "model_id": "53d0c39f5ed94be0bb84df5e15d3cbd1",
       "version_major": 2,
       "version_minor": 0
      },
      "text/plain": [
       "2020-02-26:   0%|          | 0/17269 [00:00<?, ?it/s]"
      ]
     },
     "metadata": {},
     "output_type": "display_data"
    },
    {
     "data": {
      "application/vnd.jupyter.widget-view+json": {
       "model_id": "b13c323cd41a4994a555ab8b2be9a21b",
       "version_major": 2,
       "version_minor": 0
      },
      "text/plain": [
       "2020-02-27:   0%|          | 0/16868 [00:00<?, ?it/s]"
      ]
     },
     "metadata": {},
     "output_type": "display_data"
    },
    {
     "data": {
      "application/vnd.jupyter.widget-view+json": {
       "model_id": "f1df9c5dd16a49ff98c86b356ab379ac",
       "version_major": 2,
       "version_minor": 0
      },
      "text/plain": [
       "2020-03-02:   0%|          | 0/16894 [00:00<?, ?it/s]"
      ]
     },
     "metadata": {},
     "output_type": "display_data"
    },
    {
     "data": {
      "application/vnd.jupyter.widget-view+json": {
       "model_id": "b2617809f44b4e0f96e65793c5494766",
       "version_major": 2,
       "version_minor": 0
      },
      "text/plain": [
       "2020-03-03:   0%|          | 0/16878 [00:00<?, ?it/s]"
      ]
     },
     "metadata": {},
     "output_type": "display_data"
    },
    {
     "data": {
      "application/vnd.jupyter.widget-view+json": {
       "model_id": "37e8017616384af2b111ca8bfb442a0c",
       "version_major": 2,
       "version_minor": 0
      },
      "text/plain": [
       "2020-03-04:   0%|          | 0/16836 [00:00<?, ?it/s]"
      ]
     },
     "metadata": {},
     "output_type": "display_data"
    },
    {
     "data": {
      "application/vnd.jupyter.widget-view+json": {
       "model_id": "1db2be9f7743456ca59a42d197499868",
       "version_major": 2,
       "version_minor": 0
      },
      "text/plain": [
       "2020-03-05:   0%|          | 0/16962 [00:00<?, ?it/s]"
      ]
     },
     "metadata": {},
     "output_type": "display_data"
    },
    {
     "data": {
      "application/vnd.jupyter.widget-view+json": {
       "model_id": "3268f9c5f3f24382b811a982316c19e3",
       "version_major": 2,
       "version_minor": 0
      },
      "text/plain": [
       "2020-03-06:   0%|          | 0/16843 [00:00<?, ?it/s]"
      ]
     },
     "metadata": {},
     "output_type": "display_data"
    },
    {
     "data": {
      "application/vnd.jupyter.widget-view+json": {
       "model_id": "6f38ea10afcb483790fd58588537fce5",
       "version_major": 2,
       "version_minor": 0
      },
      "text/plain": [
       "2020-03-09:   0%|          | 0/16884 [00:00<?, ?it/s]"
      ]
     },
     "metadata": {},
     "output_type": "display_data"
    },
    {
     "data": {
      "application/vnd.jupyter.widget-view+json": {
       "model_id": "388f0ba4b19b48b79e76c380bd5a6be1",
       "version_major": 2,
       "version_minor": 0
      },
      "text/plain": [
       "2020-03-10:   0%|          | 0/16831 [00:00<?, ?it/s]"
      ]
     },
     "metadata": {},
     "output_type": "display_data"
    },
    {
     "data": {
      "application/vnd.jupyter.widget-view+json": {
       "model_id": "eaa85e8653b24974a10bad87dc972eb6",
       "version_major": 2,
       "version_minor": 0
      },
      "text/plain": [
       "2020-03-11:   0%|          | 0/16940 [00:00<?, ?it/s]"
      ]
     },
     "metadata": {},
     "output_type": "display_data"
    },
    {
     "data": {
      "application/vnd.jupyter.widget-view+json": {
       "model_id": "c89f5ac0eb854a19ba3dff1a04244061",
       "version_major": 2,
       "version_minor": 0
      },
      "text/plain": [
       "2020-03-12:   0%|          | 0/17014 [00:00<?, ?it/s]"
      ]
     },
     "metadata": {},
     "output_type": "display_data"
    },
    {
     "data": {
      "application/vnd.jupyter.widget-view+json": {
       "model_id": "63b09ac2148c441c99907684ca079eea",
       "version_major": 2,
       "version_minor": 0
      },
      "text/plain": [
       "2020-03-13:   0%|          | 0/16856 [00:00<?, ?it/s]"
      ]
     },
     "metadata": {},
     "output_type": "display_data"
    },
    {
     "data": {
      "application/vnd.jupyter.widget-view+json": {
       "model_id": "95a0ce673a244242a41da96b42247168",
       "version_major": 2,
       "version_minor": 0
      },
      "text/plain": [
       "2020-03-16:   0%|          | 0/16871 [00:00<?, ?it/s]"
      ]
     },
     "metadata": {},
     "output_type": "display_data"
    },
    {
     "data": {
      "application/vnd.jupyter.widget-view+json": {
       "model_id": "0057028d1a424fbfbf901fca0e9f28d7",
       "version_major": 2,
       "version_minor": 0
      },
      "text/plain": [
       "2020-03-17:   0%|          | 0/16814 [00:00<?, ?it/s]"
      ]
     },
     "metadata": {},
     "output_type": "display_data"
    },
    {
     "data": {
      "application/vnd.jupyter.widget-view+json": {
       "model_id": "37d2ee660a44406fac8486f09c16ee42",
       "version_major": 2,
       "version_minor": 0
      },
      "text/plain": [
       "2020-03-18:   0%|          | 0/16811 [00:00<?, ?it/s]"
      ]
     },
     "metadata": {},
     "output_type": "display_data"
    },
    {
     "data": {
      "application/vnd.jupyter.widget-view+json": {
       "model_id": "67ca90fadd3147cfa636edc74fcbcf20",
       "version_major": 2,
       "version_minor": 0
      },
      "text/plain": [
       "2020-03-19:   0%|          | 0/16883 [00:00<?, ?it/s]"
      ]
     },
     "metadata": {},
     "output_type": "display_data"
    },
    {
     "data": {
      "application/vnd.jupyter.widget-view+json": {
       "model_id": "8854d75053a64a25b338cdad039dc0fb",
       "version_major": 2,
       "version_minor": 0
      },
      "text/plain": [
       "2020-03-20:   0%|          | 0/16702 [00:00<?, ?it/s]"
      ]
     },
     "metadata": {},
     "output_type": "display_data"
    },
    {
     "data": {
      "application/vnd.jupyter.widget-view+json": {
       "model_id": "6875bb47e6fa465fa8c7171286fab058",
       "version_major": 2,
       "version_minor": 0
      },
      "text/plain": [
       "2020-03-23:   0%|          | 0/16675 [00:00<?, ?it/s]"
      ]
     },
     "metadata": {},
     "output_type": "display_data"
    },
    {
     "data": {
      "application/vnd.jupyter.widget-view+json": {
       "model_id": "db8caf0251e8475f905e9cbb56aa630d",
       "version_major": 2,
       "version_minor": 0
      },
      "text/plain": [
       "2020-03-24:   0%|          | 0/16625 [00:00<?, ?it/s]"
      ]
     },
     "metadata": {},
     "output_type": "display_data"
    },
    {
     "data": {
      "application/vnd.jupyter.widget-view+json": {
       "model_id": "ded51c4175074d3d8d6cc6fcb1556959",
       "version_major": 2,
       "version_minor": 0
      },
      "text/plain": [
       "2020-03-25:   0%|          | 0/16591 [00:00<?, ?it/s]"
      ]
     },
     "metadata": {},
     "output_type": "display_data"
    },
    {
     "data": {
      "application/vnd.jupyter.widget-view+json": {
       "model_id": "484c6377f87444cfb2debb362bc76eac",
       "version_major": 2,
       "version_minor": 0
      },
      "text/plain": [
       "2020-03-26:   0%|          | 0/16658 [00:00<?, ?it/s]"
      ]
     },
     "metadata": {},
     "output_type": "display_data"
    },
    {
     "data": {
      "application/vnd.jupyter.widget-view+json": {
       "model_id": "da2a60d3903c49758a8733b4ffe209a4",
       "version_major": 2,
       "version_minor": 0
      },
      "text/plain": [
       "2020-03-27:   0%|          | 0/16687 [00:00<?, ?it/s]"
      ]
     },
     "metadata": {},
     "output_type": "display_data"
    },
    {
     "data": {
      "application/vnd.jupyter.widget-view+json": {
       "model_id": "4187f8172dee484d8a3ac432552463db",
       "version_major": 2,
       "version_minor": 0
      },
      "text/plain": [
       "2020-03-30:   0%|          | 0/16656 [00:00<?, ?it/s]"
      ]
     },
     "metadata": {},
     "output_type": "display_data"
    },
    {
     "data": {
      "application/vnd.jupyter.widget-view+json": {
       "model_id": "c4cc50038faf43f7abf16a0b1c19c543",
       "version_major": 2,
       "version_minor": 0
      },
      "text/plain": [
       "2020-03-31:   0%|          | 0/16728 [00:00<?, ?it/s]"
      ]
     },
     "metadata": {},
     "output_type": "display_data"
    },
    {
     "data": {
      "application/vnd.jupyter.widget-view+json": {
       "model_id": "acca738787da4c1a9731ed5b4a120805",
       "version_major": 2,
       "version_minor": 0
      },
      "text/plain": [
       "2020-04-01:   0%|          | 0/16329 [00:00<?, ?it/s]"
      ]
     },
     "metadata": {},
     "output_type": "display_data"
    },
    {
     "data": {
      "application/vnd.jupyter.widget-view+json": {
       "model_id": "34f77c2ad98d4d10940a667f32681e40",
       "version_major": 2,
       "version_minor": 0
      },
      "text/plain": [
       "2020-04-06:   0%|          | 0/16377 [00:00<?, ?it/s]"
      ]
     },
     "metadata": {},
     "output_type": "display_data"
    },
    {
     "data": {
      "application/vnd.jupyter.widget-view+json": {
       "model_id": "c01d5358ecf84b45b427253df08d6bec",
       "version_major": 2,
       "version_minor": 0
      },
      "text/plain": [
       "2020-04-07:   0%|          | 0/16363 [00:00<?, ?it/s]"
      ]
     },
     "metadata": {},
     "output_type": "display_data"
    },
    {
     "data": {
      "application/vnd.jupyter.widget-view+json": {
       "model_id": "592441e5affc4791ab0c081989f6bd3f",
       "version_major": 2,
       "version_minor": 0
      },
      "text/plain": [
       "2020-04-08:   0%|          | 0/16489 [00:00<?, ?it/s]"
      ]
     },
     "metadata": {},
     "output_type": "display_data"
    },
    {
     "data": {
      "application/vnd.jupyter.widget-view+json": {
       "model_id": "60cecf5775e44d4b9eb797bb5d0e0425",
       "version_major": 2,
       "version_minor": 0
      },
      "text/plain": [
       "2020-04-09:   0%|          | 0/16576 [00:00<?, ?it/s]"
      ]
     },
     "metadata": {},
     "output_type": "display_data"
    },
    {
     "data": {
      "application/vnd.jupyter.widget-view+json": {
       "model_id": "d5e49c1140c04cbdbedf9fb6b89bfbac",
       "version_major": 2,
       "version_minor": 0
      },
      "text/plain": [
       "2020-04-10:   0%|          | 0/16507 [00:00<?, ?it/s]"
      ]
     },
     "metadata": {},
     "output_type": "display_data"
    },
    {
     "data": {
      "application/vnd.jupyter.widget-view+json": {
       "model_id": "a697be35f0c44590903659c2def2bd8f",
       "version_major": 2,
       "version_minor": 0
      },
      "text/plain": [
       "2020-04-13:   0%|          | 0/16510 [00:00<?, ?it/s]"
      ]
     },
     "metadata": {},
     "output_type": "display_data"
    },
    {
     "data": {
      "application/vnd.jupyter.widget-view+json": {
       "model_id": "5126fac3e85b4244b6f74171e4a78d67",
       "version_major": 2,
       "version_minor": 0
      },
      "text/plain": [
       "2020-04-14:   0%|          | 0/16428 [00:00<?, ?it/s]"
      ]
     },
     "metadata": {},
     "output_type": "display_data"
    },
    {
     "data": {
      "application/vnd.jupyter.widget-view+json": {
       "model_id": "f282c7be92da4aafbb90ef1f8ab0d4a1",
       "version_major": 2,
       "version_minor": 0
      },
      "text/plain": [
       "2020-04-15:   0%|          | 0/16381 [00:00<?, ?it/s]"
      ]
     },
     "metadata": {},
     "output_type": "display_data"
    },
    {
     "data": {
      "application/vnd.jupyter.widget-view+json": {
       "model_id": "6271d9aeb69f4ebf85ec87e000101d80",
       "version_major": 2,
       "version_minor": 0
      },
      "text/plain": [
       "2020-04-16:   0%|          | 0/16325 [00:00<?, ?it/s]"
      ]
     },
     "metadata": {},
     "output_type": "display_data"
    },
    {
     "data": {
      "application/vnd.jupyter.widget-view+json": {
       "model_id": "44fe1012d4f04c6f9dab7f4e092409c5",
       "version_major": 2,
       "version_minor": 0
      },
      "text/plain": [
       "2020-04-17:   0%|          | 0/16283 [00:00<?, ?it/s]"
      ]
     },
     "metadata": {},
     "output_type": "display_data"
    },
    {
     "data": {
      "application/vnd.jupyter.widget-view+json": {
       "model_id": "312be35ff2094a2788632eeb2e9c1697",
       "version_major": 2,
       "version_minor": 0
      },
      "text/plain": [
       "2020-04-20:   0%|          | 0/16313 [00:00<?, ?it/s]"
      ]
     },
     "metadata": {},
     "output_type": "display_data"
    },
    {
     "data": {
      "application/vnd.jupyter.widget-view+json": {
       "model_id": "fca243de064a489593a2085b2cb9776d",
       "version_major": 2,
       "version_minor": 0
      },
      "text/plain": [
       "2020-04-21:   0%|          | 0/16337 [00:00<?, ?it/s]"
      ]
     },
     "metadata": {},
     "output_type": "display_data"
    },
    {
     "data": {
      "application/vnd.jupyter.widget-view+json": {
       "model_id": "a4f758b99c7f4212bf7d55382604d4a9",
       "version_major": 2,
       "version_minor": 0
      },
      "text/plain": [
       "2020-04-22:   0%|          | 0/16358 [00:00<?, ?it/s]"
      ]
     },
     "metadata": {},
     "output_type": "display_data"
    },
    {
     "data": {
      "application/vnd.jupyter.widget-view+json": {
       "model_id": "5058b77c4fe54a3dbd8d52bbd5db621f",
       "version_major": 2,
       "version_minor": 0
      },
      "text/plain": [
       "2020-04-23:   0%|          | 0/16361 [00:00<?, ?it/s]"
      ]
     },
     "metadata": {},
     "output_type": "display_data"
    },
    {
     "data": {
      "application/vnd.jupyter.widget-view+json": {
       "model_id": "a705cc9962314f0a806e06d6093d359e",
       "version_major": 2,
       "version_minor": 0
      },
      "text/plain": [
       "2020-04-24:   0%|          | 0/16274 [00:00<?, ?it/s]"
      ]
     },
     "metadata": {},
     "output_type": "display_data"
    },
    {
     "data": {
      "application/vnd.jupyter.widget-view+json": {
       "model_id": "d8e2976ff8bc4881a5e0f04a28784abf",
       "version_major": 2,
       "version_minor": 0
      },
      "text/plain": [
       "2020-04-27:   0%|          | 0/16293 [00:00<?, ?it/s]"
      ]
     },
     "metadata": {},
     "output_type": "display_data"
    },
    {
     "data": {
      "application/vnd.jupyter.widget-view+json": {
       "model_id": "66bc9d0cf55246a899818849ca44567f",
       "version_major": 2,
       "version_minor": 0
      },
      "text/plain": [
       "2020-04-28:   0%|          | 0/16323 [00:00<?, ?it/s]"
      ]
     },
     "metadata": {},
     "output_type": "display_data"
    },
    {
     "data": {
      "application/vnd.jupyter.widget-view+json": {
       "model_id": "55a5c9248848455797906ff85ab67113",
       "version_major": 2,
       "version_minor": 0
      },
      "text/plain": [
       "2020-04-29:   0%|          | 0/16222 [00:00<?, ?it/s]"
      ]
     },
     "metadata": {},
     "output_type": "display_data"
    },
    {
     "data": {
      "application/vnd.jupyter.widget-view+json": {
       "model_id": "cade9c2f4fcf465e9427b9b4d2a2710c",
       "version_major": 2,
       "version_minor": 0
      },
      "text/plain": [
       "2020-04-30:   0%|          | 0/16021 [00:00<?, ?it/s]"
      ]
     },
     "metadata": {},
     "output_type": "display_data"
    },
    {
     "data": {
      "application/vnd.jupyter.widget-view+json": {
       "model_id": "1c2c57ab70c04ba3bca98a08d47016e2",
       "version_major": 2,
       "version_minor": 0
      },
      "text/plain": [
       "2020-05-04:   0%|          | 0/16015 [00:00<?, ?it/s]"
      ]
     },
     "metadata": {},
     "output_type": "display_data"
    },
    {
     "data": {
      "application/vnd.jupyter.widget-view+json": {
       "model_id": "4925fa29f60d4b4c9f617a28609a1766",
       "version_major": 2,
       "version_minor": 0
      },
      "text/plain": [
       "2020-05-05:   0%|          | 0/16025 [00:00<?, ?it/s]"
      ]
     },
     "metadata": {},
     "output_type": "display_data"
    },
    {
     "data": {
      "application/vnd.jupyter.widget-view+json": {
       "model_id": "4366d78432404683b5ee913d7caa2524",
       "version_major": 2,
       "version_minor": 0
      },
      "text/plain": [
       "2020-05-06:   0%|          | 0/16057 [00:00<?, ?it/s]"
      ]
     },
     "metadata": {},
     "output_type": "display_data"
    },
    {
     "data": {
      "application/vnd.jupyter.widget-view+json": {
       "model_id": "7b73038c4bcb44248083844e46512804",
       "version_major": 2,
       "version_minor": 0
      },
      "text/plain": [
       "2020-05-07:   0%|          | 0/16137 [00:00<?, ?it/s]"
      ]
     },
     "metadata": {},
     "output_type": "display_data"
    },
    {
     "data": {
      "application/vnd.jupyter.widget-view+json": {
       "model_id": "423e0bfc80fe4b8a9fa0b9c5f3997ee1",
       "version_major": 2,
       "version_minor": 0
      },
      "text/plain": [
       "2020-05-08:   0%|          | 0/16021 [00:00<?, ?it/s]"
      ]
     },
     "metadata": {},
     "output_type": "display_data"
    },
    {
     "data": {
      "application/vnd.jupyter.widget-view+json": {
       "model_id": "edb5b7a2c4164f7894a6c6e03941b031",
       "version_major": 2,
       "version_minor": 0
      },
      "text/plain": [
       "2020-05-11:   0%|          | 0/16066 [00:00<?, ?it/s]"
      ]
     },
     "metadata": {},
     "output_type": "display_data"
    },
    {
     "data": {
      "application/vnd.jupyter.widget-view+json": {
       "model_id": "661d105d9e2348938950264adc5035c5",
       "version_major": 2,
       "version_minor": 0
      },
      "text/plain": [
       "2020-05-12:   0%|          | 0/16108 [00:00<?, ?it/s]"
      ]
     },
     "metadata": {},
     "output_type": "display_data"
    },
    {
     "data": {
      "application/vnd.jupyter.widget-view+json": {
       "model_id": "48aec27646904a31a045d1b65e7885d5",
       "version_major": 2,
       "version_minor": 0
      },
      "text/plain": [
       "2020-05-13:   0%|          | 0/16092 [00:00<?, ?it/s]"
      ]
     },
     "metadata": {},
     "output_type": "display_data"
    },
    {
     "data": {
      "application/vnd.jupyter.widget-view+json": {
       "model_id": "864e9a0a25144c768a31812647cd21cc",
       "version_major": 2,
       "version_minor": 0
      },
      "text/plain": [
       "2020-05-14:   0%|          | 0/16141 [00:00<?, ?it/s]"
      ]
     },
     "metadata": {},
     "output_type": "display_data"
    },
    {
     "data": {
      "application/vnd.jupyter.widget-view+json": {
       "model_id": "d9b8b13c481047d8af9942bcc2ce6e98",
       "version_major": 2,
       "version_minor": 0
      },
      "text/plain": [
       "2020-05-15:   0%|          | 0/16064 [00:00<?, ?it/s]"
      ]
     },
     "metadata": {},
     "output_type": "display_data"
    },
    {
     "data": {
      "application/vnd.jupyter.widget-view+json": {
       "model_id": "b01fe9ac34b94f2681cb1019dbf9be3e",
       "version_major": 2,
       "version_minor": 0
      },
      "text/plain": [
       "2020-05-18:   0%|          | 0/16091 [00:00<?, ?it/s]"
      ]
     },
     "metadata": {},
     "output_type": "display_data"
    },
    {
     "data": {
      "application/vnd.jupyter.widget-view+json": {
       "model_id": "b6a38354ae984a1aa3ab8162049bf20d",
       "version_major": 2,
       "version_minor": 0
      },
      "text/plain": [
       "2020-05-19:   0%|          | 0/16117 [00:00<?, ?it/s]"
      ]
     },
     "metadata": {},
     "output_type": "display_data"
    },
    {
     "data": {
      "application/vnd.jupyter.widget-view+json": {
       "model_id": "3f3534907299458e92802cebcb98c9df",
       "version_major": 2,
       "version_minor": 0
      },
      "text/plain": [
       "2020-05-20:   0%|          | 0/16166 [00:00<?, ?it/s]"
      ]
     },
     "metadata": {},
     "output_type": "display_data"
    },
    {
     "data": {
      "application/vnd.jupyter.widget-view+json": {
       "model_id": "8c95cbeb4ba644edb22e9abd24c4b4ba",
       "version_major": 2,
       "version_minor": 0
      },
      "text/plain": [
       "2020-05-21:   0%|          | 0/16250 [00:00<?, ?it/s]"
      ]
     },
     "metadata": {},
     "output_type": "display_data"
    },
    {
     "data": {
      "application/vnd.jupyter.widget-view+json": {
       "model_id": "f6fc6c21cf614c7ea52431bdd118d734",
       "version_major": 2,
       "version_minor": 0
      },
      "text/plain": [
       "2020-05-22:   0%|          | 0/16183 [00:00<?, ?it/s]"
      ]
     },
     "metadata": {},
     "output_type": "display_data"
    },
    {
     "data": {
      "application/vnd.jupyter.widget-view+json": {
       "model_id": "3942e6543d8541a798b01c43407edde2",
       "version_major": 2,
       "version_minor": 0
      },
      "text/plain": [
       "2020-05-25:   0%|          | 0/16234 [00:00<?, ?it/s]"
      ]
     },
     "metadata": {},
     "output_type": "display_data"
    },
    {
     "data": {
      "application/vnd.jupyter.widget-view+json": {
       "model_id": "0026cac7728e4ad0a583691272b8dfac",
       "version_major": 2,
       "version_minor": 0
      },
      "text/plain": [
       "2020-05-26:   0%|          | 0/16293 [00:00<?, ?it/s]"
      ]
     },
     "metadata": {},
     "output_type": "display_data"
    },
    {
     "data": {
      "application/vnd.jupyter.widget-view+json": {
       "model_id": "b0dbea955443480191bc1fb2732c54ef",
       "version_major": 2,
       "version_minor": 0
      },
      "text/plain": [
       "2020-05-27:   0%|          | 0/16342 [00:00<?, ?it/s]"
      ]
     },
     "metadata": {},
     "output_type": "display_data"
    },
    {
     "data": {
      "application/vnd.jupyter.widget-view+json": {
       "model_id": "46e6c65261e44b10abceb4682da747e0",
       "version_major": 2,
       "version_minor": 0
      },
      "text/plain": [
       "2020-05-28:   0%|          | 0/16406 [00:00<?, ?it/s]"
      ]
     },
     "metadata": {},
     "output_type": "display_data"
    },
    {
     "data": {
      "application/vnd.jupyter.widget-view+json": {
       "model_id": "174319c47f144243b7191fd28e412a24",
       "version_major": 2,
       "version_minor": 0
      },
      "text/plain": [
       "2020-05-29:   0%|          | 0/16371 [00:00<?, ?it/s]"
      ]
     },
     "metadata": {},
     "output_type": "display_data"
    },
    {
     "data": {
      "application/vnd.jupyter.widget-view+json": {
       "model_id": "8c891195550b4a4f84a26360b286149f",
       "version_major": 2,
       "version_minor": 0
      },
      "text/plain": [
       "2020-06-01:   0%|          | 0/16418 [00:00<?, ?it/s]"
      ]
     },
     "metadata": {},
     "output_type": "display_data"
    },
    {
     "data": {
      "application/vnd.jupyter.widget-view+json": {
       "model_id": "a1ea79b07b36432998f28b1ffc38d207",
       "version_major": 2,
       "version_minor": 0
      },
      "text/plain": [
       "2020-06-02:   0%|          | 0/16459 [00:00<?, ?it/s]"
      ]
     },
     "metadata": {},
     "output_type": "display_data"
    },
    {
     "data": {
      "application/vnd.jupyter.widget-view+json": {
       "model_id": "1214dc965f2147e1b5330fdbdbe232a9",
       "version_major": 2,
       "version_minor": 0
      },
      "text/plain": [
       "2020-06-03:   0%|          | 0/16474 [00:00<?, ?it/s]"
      ]
     },
     "metadata": {},
     "output_type": "display_data"
    },
    {
     "data": {
      "application/vnd.jupyter.widget-view+json": {
       "model_id": "93c7d8f6a5684d1d94929ee277a684f7",
       "version_major": 2,
       "version_minor": 0
      },
      "text/plain": [
       "2020-06-04:   0%|          | 0/16494 [00:00<?, ?it/s]"
      ]
     },
     "metadata": {},
     "output_type": "display_data"
    },
    {
     "data": {
      "application/vnd.jupyter.widget-view+json": {
       "model_id": "85a6227cfd204402922e1bd9dc53afb5",
       "version_major": 2,
       "version_minor": 0
      },
      "text/plain": [
       "2020-06-05:   0%|          | 0/16474 [00:00<?, ?it/s]"
      ]
     },
     "metadata": {},
     "output_type": "display_data"
    },
    {
     "data": {
      "application/vnd.jupyter.widget-view+json": {
       "model_id": "6a19e44d28004940b354ded6de077e76",
       "version_major": 2,
       "version_minor": 0
      },
      "text/plain": [
       "2020-06-08:   0%|          | 0/16536 [00:00<?, ?it/s]"
      ]
     },
     "metadata": {},
     "output_type": "display_data"
    },
    {
     "data": {
      "application/vnd.jupyter.widget-view+json": {
       "model_id": "af2c2ebd4e044ff3a82f2d23d35a209e",
       "version_major": 2,
       "version_minor": 0
      },
      "text/plain": [
       "2020-06-09:   0%|          | 0/16589 [00:00<?, ?it/s]"
      ]
     },
     "metadata": {},
     "output_type": "display_data"
    },
    {
     "data": {
      "application/vnd.jupyter.widget-view+json": {
       "model_id": "ed4a723e243b4c8b89c9f57a62413e46",
       "version_major": 2,
       "version_minor": 0
      },
      "text/plain": [
       "2020-06-10:   0%|          | 0/16592 [00:00<?, ?it/s]"
      ]
     },
     "metadata": {},
     "output_type": "display_data"
    },
    {
     "data": {
      "application/vnd.jupyter.widget-view+json": {
       "model_id": "3d1cb41cddd94ed5b659a8dd90e73a86",
       "version_major": 2,
       "version_minor": 0
      },
      "text/plain": [
       "2020-06-11:   0%|          | 0/16635 [00:00<?, ?it/s]"
      ]
     },
     "metadata": {},
     "output_type": "display_data"
    },
    {
     "data": {
      "application/vnd.jupyter.widget-view+json": {
       "model_id": "a4f750a260c24c51946b46a24118e233",
       "version_major": 2,
       "version_minor": 0
      },
      "text/plain": [
       "2020-06-12:   0%|          | 0/16607 [00:00<?, ?it/s]"
      ]
     },
     "metadata": {},
     "output_type": "display_data"
    },
    {
     "data": {
      "application/vnd.jupyter.widget-view+json": {
       "model_id": "583a1d17b7f44bc0bb62496496841842",
       "version_major": 2,
       "version_minor": 0
      },
      "text/plain": [
       "2020-06-15:   0%|          | 0/16645 [00:00<?, ?it/s]"
      ]
     },
     "metadata": {},
     "output_type": "display_data"
    },
    {
     "data": {
      "application/vnd.jupyter.widget-view+json": {
       "model_id": "cf299cb11c64403db9fd6c937783f24c",
       "version_major": 2,
       "version_minor": 0
      },
      "text/plain": [
       "2020-06-16:   0%|          | 0/16638 [00:00<?, ?it/s]"
      ]
     },
     "metadata": {},
     "output_type": "display_data"
    },
    {
     "data": {
      "application/vnd.jupyter.widget-view+json": {
       "model_id": "c9706aa84ef04d64aaf39ca09e537e05",
       "version_major": 2,
       "version_minor": 0
      },
      "text/plain": [
       "2020-06-17:   0%|          | 0/16704 [00:00<?, ?it/s]"
      ]
     },
     "metadata": {},
     "output_type": "display_data"
    },
    {
     "data": {
      "application/vnd.jupyter.widget-view+json": {
       "model_id": "364fc16d58df4085875eec5cf7eb8afe",
       "version_major": 2,
       "version_minor": 0
      },
      "text/plain": [
       "2020-06-18:   0%|          | 0/16737 [00:00<?, ?it/s]"
      ]
     },
     "metadata": {},
     "output_type": "display_data"
    },
    {
     "data": {
      "application/vnd.jupyter.widget-view+json": {
       "model_id": "7b019fd45724401aade81661f74d3923",
       "version_major": 2,
       "version_minor": 0
      },
      "text/plain": [
       "2020-06-19:   0%|          | 0/16665 [00:00<?, ?it/s]"
      ]
     },
     "metadata": {},
     "output_type": "display_data"
    },
    {
     "data": {
      "application/vnd.jupyter.widget-view+json": {
       "model_id": "2c74c22523b0473db784291a2d7e9e9f",
       "version_major": 2,
       "version_minor": 0
      },
      "text/plain": [
       "2020-06-22:   0%|          | 0/16677 [00:00<?, ?it/s]"
      ]
     },
     "metadata": {},
     "output_type": "display_data"
    },
    {
     "data": {
      "application/vnd.jupyter.widget-view+json": {
       "model_id": "f4ec31d8372b43028a3786292407a458",
       "version_major": 2,
       "version_minor": 0
      },
      "text/plain": [
       "2020-06-23:   0%|          | 0/16708 [00:00<?, ?it/s]"
      ]
     },
     "metadata": {},
     "output_type": "display_data"
    },
    {
     "data": {
      "application/vnd.jupyter.widget-view+json": {
       "model_id": "cc86b278359d4835bc999acdd750662e",
       "version_major": 2,
       "version_minor": 0
      },
      "text/plain": [
       "2020-06-24:   0%|          | 0/16491 [00:00<?, ?it/s]"
      ]
     },
     "metadata": {},
     "output_type": "display_data"
    },
    {
     "data": {
      "application/vnd.jupyter.widget-view+json": {
       "model_id": "d39e5ad590b74268aff4c3fde9071641",
       "version_major": 2,
       "version_minor": 0
      },
      "text/plain": [
       "2020-06-29:   0%|          | 0/16513 [00:00<?, ?it/s]"
      ]
     },
     "metadata": {},
     "output_type": "display_data"
    },
    {
     "data": {
      "application/vnd.jupyter.widget-view+json": {
       "model_id": "93e6a6b0e3c54f94af4cb5ecce908ed4",
       "version_major": 2,
       "version_minor": 0
      },
      "text/plain": [
       "2020-06-30:   0%|          | 0/16550 [00:00<?, ?it/s]"
      ]
     },
     "metadata": {},
     "output_type": "display_data"
    },
    {
     "data": {
      "application/vnd.jupyter.widget-view+json": {
       "model_id": "c8206cc12466482a902d35f470b5da75",
       "version_major": 2,
       "version_minor": 0
      },
      "text/plain": [
       "2020-07-01:   0%|          | 0/16573 [00:00<?, ?it/s]"
      ]
     },
     "metadata": {},
     "output_type": "display_data"
    },
    {
     "data": {
      "application/vnd.jupyter.widget-view+json": {
       "model_id": "73512b1aff5a465e961361f93608afd4",
       "version_major": 2,
       "version_minor": 0
      },
      "text/plain": [
       "2020-07-02:   0%|          | 0/16630 [00:00<?, ?it/s]"
      ]
     },
     "metadata": {},
     "output_type": "display_data"
    },
    {
     "data": {
      "application/vnd.jupyter.widget-view+json": {
       "model_id": "39ea45af8bc84dc1ba3092c11eff5865",
       "version_major": 2,
       "version_minor": 0
      },
      "text/plain": [
       "2020-07-03:   0%|          | 0/16420 [00:00<?, ?it/s]"
      ]
     },
     "metadata": {},
     "output_type": "display_data"
    },
    {
     "data": {
      "application/vnd.jupyter.widget-view+json": {
       "model_id": "d5ce68a6fb6f43cd98c6d1ce541c6dd3",
       "version_major": 2,
       "version_minor": 0
      },
      "text/plain": [
       "2020-07-06:   0%|          | 0/16592 [00:00<?, ?it/s]"
      ]
     },
     "metadata": {},
     "output_type": "display_data"
    },
    {
     "data": {
      "application/vnd.jupyter.widget-view+json": {
       "model_id": "59455330f0aa4fa19ad7c41da7d89748",
       "version_major": 2,
       "version_minor": 0
      },
      "text/plain": [
       "2020-07-07:   0%|          | 0/16659 [00:00<?, ?it/s]"
      ]
     },
     "metadata": {},
     "output_type": "display_data"
    },
    {
     "data": {
      "application/vnd.jupyter.widget-view+json": {
       "model_id": "17de9b8906154dbcb08ed3da1a9d842f",
       "version_major": 2,
       "version_minor": 0
      },
      "text/plain": [
       "2020-07-08:   0%|          | 0/16697 [00:00<?, ?it/s]"
      ]
     },
     "metadata": {},
     "output_type": "display_data"
    },
    {
     "data": {
      "application/vnd.jupyter.widget-view+json": {
       "model_id": "9bdd0652a0e042debb96484d5115d8f6",
       "version_major": 2,
       "version_minor": 0
      },
      "text/plain": [
       "2020-07-09:   0%|          | 0/16816 [00:00<?, ?it/s]"
      ]
     },
     "metadata": {},
     "output_type": "display_data"
    },
    {
     "data": {
      "application/vnd.jupyter.widget-view+json": {
       "model_id": "e69e06b62ab143d2bebf81ff7c256452",
       "version_major": 2,
       "version_minor": 0
      },
      "text/plain": [
       "2020-07-10:   0%|          | 0/16663 [00:00<?, ?it/s]"
      ]
     },
     "metadata": {},
     "output_type": "display_data"
    },
    {
     "data": {
      "application/vnd.jupyter.widget-view+json": {
       "model_id": "8059dd3375054826b5a550c685ad43dc",
       "version_major": 2,
       "version_minor": 0
      },
      "text/plain": [
       "2020-07-13:   0%|          | 0/16721 [00:00<?, ?it/s]"
      ]
     },
     "metadata": {},
     "output_type": "display_data"
    },
    {
     "data": {
      "application/vnd.jupyter.widget-view+json": {
       "model_id": "3183ac237f544306923d77f706237cc4",
       "version_major": 2,
       "version_minor": 0
      },
      "text/plain": [
       "2020-07-14:   0%|          | 0/16701 [00:00<?, ?it/s]"
      ]
     },
     "metadata": {},
     "output_type": "display_data"
    },
    {
     "data": {
      "application/vnd.jupyter.widget-view+json": {
       "model_id": "9a05611949604447a62853effd29e2cc",
       "version_major": 2,
       "version_minor": 0
      },
      "text/plain": [
       "2020-07-15:   0%|          | 0/16716 [00:00<?, ?it/s]"
      ]
     },
     "metadata": {},
     "output_type": "display_data"
    },
    {
     "data": {
      "application/vnd.jupyter.widget-view+json": {
       "model_id": "8c39df79d0c54700b56b9329757af130",
       "version_major": 2,
       "version_minor": 0
      },
      "text/plain": [
       "2020-07-16:   0%|          | 0/16830 [00:00<?, ?it/s]"
      ]
     },
     "metadata": {},
     "output_type": "display_data"
    },
    {
     "data": {
      "application/vnd.jupyter.widget-view+json": {
       "model_id": "f8fec0dc7f384250b91b617fd94f0cb9",
       "version_major": 2,
       "version_minor": 0
      },
      "text/plain": [
       "2020-07-17:   0%|          | 0/16808 [00:00<?, ?it/s]"
      ]
     },
     "metadata": {},
     "output_type": "display_data"
    },
    {
     "data": {
      "application/vnd.jupyter.widget-view+json": {
       "model_id": "4dfbddac3f6141df8273d20305a4f76f",
       "version_major": 2,
       "version_minor": 0
      },
      "text/plain": [
       "2020-07-20:   0%|          | 0/16990 [00:00<?, ?it/s]"
      ]
     },
     "metadata": {},
     "output_type": "display_data"
    },
    {
     "data": {
      "application/vnd.jupyter.widget-view+json": {
       "model_id": "67910d1a266e457a837aab22ef0dfa66",
       "version_major": 2,
       "version_minor": 0
      },
      "text/plain": [
       "2020-07-21:   0%|          | 0/17089 [00:00<?, ?it/s]"
      ]
     },
     "metadata": {},
     "output_type": "display_data"
    },
    {
     "data": {
      "application/vnd.jupyter.widget-view+json": {
       "model_id": "009d1a5a1db54f48ac21b44b4ad8236a",
       "version_major": 2,
       "version_minor": 0
      },
      "text/plain": [
       "2020-07-22:   0%|          | 0/17205 [00:00<?, ?it/s]"
      ]
     },
     "metadata": {},
     "output_type": "display_data"
    },
    {
     "data": {
      "application/vnd.jupyter.widget-view+json": {
       "model_id": "93071db1c8de46808277d343c8b7e022",
       "version_major": 2,
       "version_minor": 0
      },
      "text/plain": [
       "2020-07-23:   0%|          | 0/17343 [00:00<?, ?it/s]"
      ]
     },
     "metadata": {},
     "output_type": "display_data"
    },
    {
     "data": {
      "application/vnd.jupyter.widget-view+json": {
       "model_id": "de7cad8d09dd4fcd9a813542863033ce",
       "version_major": 2,
       "version_minor": 0
      },
      "text/plain": [
       "2020-07-24:   0%|          | 0/17404 [00:00<?, ?it/s]"
      ]
     },
     "metadata": {},
     "output_type": "display_data"
    },
    {
     "data": {
      "application/vnd.jupyter.widget-view+json": {
       "model_id": "65857cb1d2d54c8da2e724e501e4bba6",
       "version_major": 2,
       "version_minor": 0
      },
      "text/plain": [
       "2020-07-27:   0%|          | 0/17530 [00:00<?, ?it/s]"
      ]
     },
     "metadata": {},
     "output_type": "display_data"
    },
    {
     "data": {
      "application/vnd.jupyter.widget-view+json": {
       "model_id": "178fe00a07084a20859db1219b6b0990",
       "version_major": 2,
       "version_minor": 0
      },
      "text/plain": [
       "2020-07-28:   0%|          | 0/17563 [00:00<?, ?it/s]"
      ]
     },
     "metadata": {},
     "output_type": "display_data"
    },
    {
     "data": {
      "application/vnd.jupyter.widget-view+json": {
       "model_id": "87d781b959c64eb8857754278019d389",
       "version_major": 2,
       "version_minor": 0
      },
      "text/plain": [
       "2020-07-29:   0%|          | 0/17614 [00:00<?, ?it/s]"
      ]
     },
     "metadata": {},
     "output_type": "display_data"
    },
    {
     "data": {
      "application/vnd.jupyter.widget-view+json": {
       "model_id": "507edb72b9264df6a27f0bfdf91759d4",
       "version_major": 2,
       "version_minor": 0
      },
      "text/plain": [
       "2020-07-30:   0%|          | 0/17736 [00:00<?, ?it/s]"
      ]
     },
     "metadata": {},
     "output_type": "display_data"
    },
    {
     "data": {
      "application/vnd.jupyter.widget-view+json": {
       "model_id": "e0462a764fe3456db51116edefec2d64",
       "version_major": 2,
       "version_minor": 0
      },
      "text/plain": [
       "2020-07-31:   0%|          | 0/17614 [00:00<?, ?it/s]"
      ]
     },
     "metadata": {},
     "output_type": "display_data"
    },
    {
     "data": {
      "application/vnd.jupyter.widget-view+json": {
       "model_id": "83d9b57cfe434a9099b27711162934bb",
       "version_major": 2,
       "version_minor": 0
      },
      "text/plain": [
       "2020-08-03:   0%|          | 0/17620 [00:00<?, ?it/s]"
      ]
     },
     "metadata": {},
     "output_type": "display_data"
    },
    {
     "data": {
      "application/vnd.jupyter.widget-view+json": {
       "model_id": "385655c25eac49e5bbfd4e32063d4492",
       "version_major": 2,
       "version_minor": 0
      },
      "text/plain": [
       "2020-08-04:   0%|          | 0/17626 [00:00<?, ?it/s]"
      ]
     },
     "metadata": {},
     "output_type": "display_data"
    },
    {
     "data": {
      "application/vnd.jupyter.widget-view+json": {
       "model_id": "9c279aa3fd0142b39d7c0c648e241ee5",
       "version_major": 2,
       "version_minor": 0
      },
      "text/plain": [
       "2020-08-05:   0%|          | 0/17565 [00:00<?, ?it/s]"
      ]
     },
     "metadata": {},
     "output_type": "display_data"
    },
    {
     "data": {
      "application/vnd.jupyter.widget-view+json": {
       "model_id": "a8b77e9301014ef9a3e7bfa0b08ee8cb",
       "version_major": 2,
       "version_minor": 0
      },
      "text/plain": [
       "2020-08-06:   0%|          | 0/17675 [00:00<?, ?it/s]"
      ]
     },
     "metadata": {},
     "output_type": "display_data"
    },
    {
     "data": {
      "application/vnd.jupyter.widget-view+json": {
       "model_id": "a5d48bb160874d5e9d2b8fec3a8de90a",
       "version_major": 2,
       "version_minor": 0
      },
      "text/plain": [
       "2020-08-07:   0%|          | 0/17511 [00:00<?, ?it/s]"
      ]
     },
     "metadata": {},
     "output_type": "display_data"
    },
    {
     "data": {
      "application/vnd.jupyter.widget-view+json": {
       "model_id": "0c36f92cc8da407c98b8c7eeeeb3a2bd",
       "version_major": 2,
       "version_minor": 0
      },
      "text/plain": [
       "2020-08-10:   0%|          | 0/17546 [00:00<?, ?it/s]"
      ]
     },
     "metadata": {},
     "output_type": "display_data"
    },
    {
     "data": {
      "application/vnd.jupyter.widget-view+json": {
       "model_id": "dc0ae3d6ab3f47b29db73e18ad580431",
       "version_major": 2,
       "version_minor": 0
      },
      "text/plain": [
       "2020-08-11:   0%|          | 0/17570 [00:00<?, ?it/s]"
      ]
     },
     "metadata": {},
     "output_type": "display_data"
    },
    {
     "data": {
      "application/vnd.jupyter.widget-view+json": {
       "model_id": "9abb56c7b6b44c548a12bbe3efcdfa77",
       "version_major": 2,
       "version_minor": 0
      },
      "text/plain": [
       "2020-08-12:   0%|          | 0/17582 [00:00<?, ?it/s]"
      ]
     },
     "metadata": {},
     "output_type": "display_data"
    },
    {
     "data": {
      "application/vnd.jupyter.widget-view+json": {
       "model_id": "05097549d5004780bbadc6154998ae99",
       "version_major": 2,
       "version_minor": 0
      },
      "text/plain": [
       "2020-08-13:   0%|          | 0/17690 [00:00<?, ?it/s]"
      ]
     },
     "metadata": {},
     "output_type": "display_data"
    },
    {
     "data": {
      "application/vnd.jupyter.widget-view+json": {
       "model_id": "3c3580f8cf574971a5698df7a1a1f977",
       "version_major": 2,
       "version_minor": 0
      },
      "text/plain": [
       "2020-08-14:   0%|          | 0/17587 [00:00<?, ?it/s]"
      ]
     },
     "metadata": {},
     "output_type": "display_data"
    },
    {
     "data": {
      "application/vnd.jupyter.widget-view+json": {
       "model_id": "2ca1ac3587644d149e07381f9c95d83a",
       "version_major": 2,
       "version_minor": 0
      },
      "text/plain": [
       "2020-08-16:   0%|          | 0/23587 [00:00<?, ?it/s]"
      ]
     },
     "metadata": {},
     "output_type": "display_data"
    },
    {
     "data": {
      "application/vnd.jupyter.widget-view+json": {
       "model_id": "5efb90587c014bbfba7a9468dab40856",
       "version_major": 2,
       "version_minor": 0
      },
      "text/plain": [
       "2020-08-17:   0%|          | 0/17649 [00:00<?, ?it/s]"
      ]
     },
     "metadata": {},
     "output_type": "display_data"
    },
    {
     "data": {
      "application/vnd.jupyter.widget-view+json": {
       "model_id": "f4ca8a1337f64897a34093faf4138fe1",
       "version_major": 2,
       "version_minor": 0
      },
      "text/plain": [
       "2020-08-18:   0%|          | 0/17602 [00:00<?, ?it/s]"
      ]
     },
     "metadata": {},
     "output_type": "display_data"
    },
    {
     "data": {
      "application/vnd.jupyter.widget-view+json": {
       "model_id": "7ae63dfe1ca547048e7f15b1af541657",
       "version_major": 2,
       "version_minor": 0
      },
      "text/plain": [
       "2020-08-19:   0%|          | 0/17644 [00:00<?, ?it/s]"
      ]
     },
     "metadata": {},
     "output_type": "display_data"
    },
    {
     "data": {
      "application/vnd.jupyter.widget-view+json": {
       "model_id": "8d4d5b365b414bcf881cd612b2fbc8b1",
       "version_major": 2,
       "version_minor": 0
      },
      "text/plain": [
       "2020-08-20:   0%|          | 0/17764 [00:00<?, ?it/s]"
      ]
     },
     "metadata": {},
     "output_type": "display_data"
    },
    {
     "data": {
      "application/vnd.jupyter.widget-view+json": {
       "model_id": "beb9d16d12d6473587037efb342dc9a6",
       "version_major": 2,
       "version_minor": 0
      },
      "text/plain": [
       "2020-08-21:   0%|          | 0/17775 [00:00<?, ?it/s]"
      ]
     },
     "metadata": {},
     "output_type": "display_data"
    },
    {
     "data": {
      "application/vnd.jupyter.widget-view+json": {
       "model_id": "6092e7a088ce4f27b163edc3dc71d791",
       "version_major": 2,
       "version_minor": 0
      },
      "text/plain": [
       "2020-08-24:   0%|          | 0/17817 [00:00<?, ?it/s]"
      ]
     },
     "metadata": {},
     "output_type": "display_data"
    },
    {
     "data": {
      "application/vnd.jupyter.widget-view+json": {
       "model_id": "58be3ecec26e40cfb42f4309e2b16b21",
       "version_major": 2,
       "version_minor": 0
      },
      "text/plain": [
       "2020-08-25:   0%|          | 0/17814 [00:00<?, ?it/s]"
      ]
     },
     "metadata": {},
     "output_type": "display_data"
    },
    {
     "data": {
      "application/vnd.jupyter.widget-view+json": {
       "model_id": "0234f1bbd27b4772a19dcd4943a567da",
       "version_major": 2,
       "version_minor": 0
      },
      "text/plain": [
       "2020-08-26:   0%|          | 0/17902 [00:00<?, ?it/s]"
      ]
     },
     "metadata": {},
     "output_type": "display_data"
    },
    {
     "data": {
      "application/vnd.jupyter.widget-view+json": {
       "model_id": "93ad0a9e364b4da596e714103db33de3",
       "version_major": 2,
       "version_minor": 0
      },
      "text/plain": [
       "2020-08-27:   0%|          | 0/17999 [00:00<?, ?it/s]"
      ]
     },
     "metadata": {},
     "output_type": "display_data"
    },
    {
     "data": {
      "application/vnd.jupyter.widget-view+json": {
       "model_id": "e7f5f34e0b4c4c819430f06affaafb43",
       "version_major": 2,
       "version_minor": 0
      },
      "text/plain": [
       "2020-08-28:   0%|          | 0/18031 [00:00<?, ?it/s]"
      ]
     },
     "metadata": {},
     "output_type": "display_data"
    },
    {
     "data": {
      "application/vnd.jupyter.widget-view+json": {
       "model_id": "4eff4765e0d842b985b012d5da0c3a1d",
       "version_major": 2,
       "version_minor": 0
      },
      "text/plain": [
       "2020-08-31:   0%|          | 0/18066 [00:00<?, ?it/s]"
      ]
     },
     "metadata": {},
     "output_type": "display_data"
    },
    {
     "data": {
      "application/vnd.jupyter.widget-view+json": {
       "model_id": "d40814c8185944ce8355cd4c61779f97",
       "version_major": 2,
       "version_minor": 0
      },
      "text/plain": [
       "2020-09-01:   0%|          | 0/18094 [00:00<?, ?it/s]"
      ]
     },
     "metadata": {},
     "output_type": "display_data"
    },
    {
     "data": {
      "application/vnd.jupyter.widget-view+json": {
       "model_id": "aeb56c19ef1249adbcec2fb23577116d",
       "version_major": 2,
       "version_minor": 0
      },
      "text/plain": [
       "2020-09-02:   0%|          | 0/18119 [00:00<?, ?it/s]"
      ]
     },
     "metadata": {},
     "output_type": "display_data"
    },
    {
     "data": {
      "application/vnd.jupyter.widget-view+json": {
       "model_id": "9df259944ad1445aa627a75b0fbfd306",
       "version_major": 2,
       "version_minor": 0
      },
      "text/plain": [
       "2020-09-03:   0%|          | 0/18098 [00:00<?, ?it/s]"
      ]
     },
     "metadata": {},
     "output_type": "display_data"
    },
    {
     "data": {
      "application/vnd.jupyter.widget-view+json": {
       "model_id": "64216bdd41ff43548e42cc26e1eed666",
       "version_major": 2,
       "version_minor": 0
      },
      "text/plain": [
       "2020-09-04:   0%|          | 0/18036 [00:00<?, ?it/s]"
      ]
     },
     "metadata": {},
     "output_type": "display_data"
    },
    {
     "data": {
      "application/vnd.jupyter.widget-view+json": {
       "model_id": "a49560fc12ce44dbb06903ccc252b9d6",
       "version_major": 2,
       "version_minor": 0
      },
      "text/plain": [
       "2020-09-07:   0%|          | 0/18078 [00:00<?, ?it/s]"
      ]
     },
     "metadata": {},
     "output_type": "display_data"
    },
    {
     "data": {
      "application/vnd.jupyter.widget-view+json": {
       "model_id": "bc4a44bc445140cab7f504ada30c05ba",
       "version_major": 2,
       "version_minor": 0
      },
      "text/plain": [
       "2020-09-08:   0%|          | 0/18111 [00:00<?, ?it/s]"
      ]
     },
     "metadata": {},
     "output_type": "display_data"
    },
    {
     "data": {
      "application/vnd.jupyter.widget-view+json": {
       "model_id": "41c629a2e04f454cbdaff9831f92342e",
       "version_major": 2,
       "version_minor": 0
      },
      "text/plain": [
       "2020-09-09:   0%|          | 0/18129 [00:00<?, ?it/s]"
      ]
     },
     "metadata": {},
     "output_type": "display_data"
    },
    {
     "data": {
      "application/vnd.jupyter.widget-view+json": {
       "model_id": "a677fe5cecc4445a9c5f351c969580c7",
       "version_major": 2,
       "version_minor": 0
      },
      "text/plain": [
       "2020-09-10:   0%|          | 0/18142 [00:00<?, ?it/s]"
      ]
     },
     "metadata": {},
     "output_type": "display_data"
    },
    {
     "data": {
      "application/vnd.jupyter.widget-view+json": {
       "model_id": "e9a08013b76c489b8cd2d171e1967b4c",
       "version_major": 2,
       "version_minor": 0
      },
      "text/plain": [
       "2020-09-11:   0%|          | 0/18096 [00:00<?, ?it/s]"
      ]
     },
     "metadata": {},
     "output_type": "display_data"
    },
    {
     "data": {
      "application/vnd.jupyter.widget-view+json": {
       "model_id": "db965a716a6c4652b01db587700cddcd",
       "version_major": 2,
       "version_minor": 0
      },
      "text/plain": [
       "2020-09-14:   0%|          | 0/18126 [00:00<?, ?it/s]"
      ]
     },
     "metadata": {},
     "output_type": "display_data"
    },
    {
     "data": {
      "application/vnd.jupyter.widget-view+json": {
       "model_id": "88944b58629a46ec9e8153a4c4054e09",
       "version_major": 2,
       "version_minor": 0
      },
      "text/plain": [
       "2020-09-15:   0%|          | 0/18044 [00:00<?, ?it/s]"
      ]
     },
     "metadata": {},
     "output_type": "display_data"
    },
    {
     "data": {
      "application/vnd.jupyter.widget-view+json": {
       "model_id": "657059fb16ea4565969901ac851f176f",
       "version_major": 2,
       "version_minor": 0
      },
      "text/plain": [
       "2020-09-16:   0%|          | 0/18058 [00:00<?, ?it/s]"
      ]
     },
     "metadata": {},
     "output_type": "display_data"
    },
    {
     "data": {
      "application/vnd.jupyter.widget-view+json": {
       "model_id": "4daae9becc084530817aa0824a550dd5",
       "version_major": 2,
       "version_minor": 0
      },
      "text/plain": [
       "2020-09-17:   0%|          | 0/18043 [00:00<?, ?it/s]"
      ]
     },
     "metadata": {},
     "output_type": "display_data"
    },
    {
     "data": {
      "application/vnd.jupyter.widget-view+json": {
       "model_id": "ca7fd07c979d4557b47534e9ad43f95f",
       "version_major": 2,
       "version_minor": 0
      },
      "text/plain": [
       "2020-09-18:   0%|          | 0/17989 [00:00<?, ?it/s]"
      ]
     },
     "metadata": {},
     "output_type": "display_data"
    },
    {
     "data": {
      "application/vnd.jupyter.widget-view+json": {
       "model_id": "4f16fd263e2443a7b1eff2348908dc96",
       "version_major": 2,
       "version_minor": 0
      },
      "text/plain": [
       "2020-09-21:   0%|          | 0/18019 [00:00<?, ?it/s]"
      ]
     },
     "metadata": {},
     "output_type": "display_data"
    },
    {
     "data": {
      "application/vnd.jupyter.widget-view+json": {
       "model_id": "d429f8f568b7450a8c5ebfe9f5f42202",
       "version_major": 2,
       "version_minor": 0
      },
      "text/plain": [
       "2020-09-22:   0%|          | 0/18020 [00:00<?, ?it/s]"
      ]
     },
     "metadata": {},
     "output_type": "display_data"
    },
    {
     "data": {
      "application/vnd.jupyter.widget-view+json": {
       "model_id": "74486dffede64518919349cc4f6c97a7",
       "version_major": 2,
       "version_minor": 0
      },
      "text/plain": [
       "2020-09-23:   0%|          | 0/18031 [00:00<?, ?it/s]"
      ]
     },
     "metadata": {},
     "output_type": "display_data"
    },
    {
     "data": {
      "application/vnd.jupyter.widget-view+json": {
       "model_id": "1e17fa8edcd448f387f2465f768f26c7",
       "version_major": 2,
       "version_minor": 0
      },
      "text/plain": [
       "2020-09-24:   0%|          | 0/18059 [00:00<?, ?it/s]"
      ]
     },
     "metadata": {},
     "output_type": "display_data"
    },
    {
     "data": {
      "application/vnd.jupyter.widget-view+json": {
       "model_id": "622457ddf47248818f07041bd8fcdbf9",
       "version_major": 2,
       "version_minor": 0
      },
      "text/plain": [
       "2020-09-25:   0%|          | 0/18052 [00:00<?, ?it/s]"
      ]
     },
     "metadata": {},
     "output_type": "display_data"
    },
    {
     "data": {
      "application/vnd.jupyter.widget-view+json": {
       "model_id": "1cdcfb01798d4f12bb579db553364a7b",
       "version_major": 2,
       "version_minor": 0
      },
      "text/plain": [
       "2020-09-28:   0%|          | 0/18088 [00:00<?, ?it/s]"
      ]
     },
     "metadata": {},
     "output_type": "display_data"
    },
    {
     "data": {
      "application/vnd.jupyter.widget-view+json": {
       "model_id": "fa8d707247384643af56b1dd57840f1c",
       "version_major": 2,
       "version_minor": 0
      },
      "text/plain": [
       "2020-09-29:   0%|          | 0/18014 [00:00<?, ?it/s]"
      ]
     },
     "metadata": {},
     "output_type": "display_data"
    },
    {
     "data": {
      "application/vnd.jupyter.widget-view+json": {
       "model_id": "d9999be62a874a9489d5348a4999d98f",
       "version_major": 2,
       "version_minor": 0
      },
      "text/plain": [
       "2020-09-30:   0%|          | 0/17792 [00:00<?, ?it/s]"
      ]
     },
     "metadata": {},
     "output_type": "display_data"
    },
    {
     "data": {
      "application/vnd.jupyter.widget-view+json": {
       "model_id": "1bca835d1b8541b28d85444fe997a8d3",
       "version_major": 2,
       "version_minor": 0
      },
      "text/plain": [
       "2020-10-05:   0%|          | 0/17814 [00:00<?, ?it/s]"
      ]
     },
     "metadata": {},
     "output_type": "display_data"
    },
    {
     "data": {
      "application/vnd.jupyter.widget-view+json": {
       "model_id": "1321b1a84bd94e9f9090cc3518adad7a",
       "version_major": 2,
       "version_minor": 0
      },
      "text/plain": [
       "2020-10-06:   0%|          | 0/17847 [00:00<?, ?it/s]"
      ]
     },
     "metadata": {},
     "output_type": "display_data"
    },
    {
     "data": {
      "application/vnd.jupyter.widget-view+json": {
       "model_id": "79474065f6a644e196d8009185742d16",
       "version_major": 2,
       "version_minor": 0
      },
      "text/plain": [
       "2020-10-07:   0%|          | 0/17804 [00:00<?, ?it/s]"
      ]
     },
     "metadata": {},
     "output_type": "display_data"
    },
    {
     "data": {
      "application/vnd.jupyter.widget-view+json": {
       "model_id": "c08a5720debd4f579f16835e8aac2aff",
       "version_major": 2,
       "version_minor": 0
      },
      "text/plain": [
       "2020-10-08:   0%|          | 0/17718 [00:00<?, ?it/s]"
      ]
     },
     "metadata": {},
     "output_type": "display_data"
    },
    {
     "data": {
      "application/vnd.jupyter.widget-view+json": {
       "model_id": "b7c9f3a3e547429ca77990d869fddf04",
       "version_major": 2,
       "version_minor": 0
      },
      "text/plain": [
       "2020-10-12:   0%|          | 0/17792 [00:00<?, ?it/s]"
      ]
     },
     "metadata": {},
     "output_type": "display_data"
    },
    {
     "data": {
      "application/vnd.jupyter.widget-view+json": {
       "model_id": "4573420d61b04868b3b3fe6e0d0c0bcc",
       "version_major": 2,
       "version_minor": 0
      },
      "text/plain": [
       "2020-10-13:   0%|          | 0/17867 [00:00<?, ?it/s]"
      ]
     },
     "metadata": {},
     "output_type": "display_data"
    },
    {
     "data": {
      "application/vnd.jupyter.widget-view+json": {
       "model_id": "2e658fcae4d241c8928f313106102278",
       "version_major": 2,
       "version_minor": 0
      },
      "text/plain": [
       "2020-10-14:   0%|          | 0/17904 [00:00<?, ?it/s]"
      ]
     },
     "metadata": {},
     "output_type": "display_data"
    },
    {
     "data": {
      "application/vnd.jupyter.widget-view+json": {
       "model_id": "7d323ce3513847699067fa09cfcac2d8",
       "version_major": 2,
       "version_minor": 0
      },
      "text/plain": [
       "2020-10-15:   0%|          | 0/17911 [00:00<?, ?it/s]"
      ]
     },
     "metadata": {},
     "output_type": "display_data"
    },
    {
     "data": {
      "application/vnd.jupyter.widget-view+json": {
       "model_id": "72dc250efb21456bae34e3c2b13990de",
       "version_major": 2,
       "version_minor": 0
      },
      "text/plain": [
       "2020-10-16:   0%|          | 0/17912 [00:00<?, ?it/s]"
      ]
     },
     "metadata": {},
     "output_type": "display_data"
    },
    {
     "data": {
      "application/vnd.jupyter.widget-view+json": {
       "model_id": "1155cd9b5fa94168b0bc59899c66d7b2",
       "version_major": 2,
       "version_minor": 0
      },
      "text/plain": [
       "2020-10-19:   0%|          | 0/17980 [00:00<?, ?it/s]"
      ]
     },
     "metadata": {},
     "output_type": "display_data"
    },
    {
     "data": {
      "application/vnd.jupyter.widget-view+json": {
       "model_id": "3be88782501f4154933e5d3fd04c97f5",
       "version_major": 2,
       "version_minor": 0
      },
      "text/plain": [
       "2020-10-20:   0%|          | 0/18002 [00:00<?, ?it/s]"
      ]
     },
     "metadata": {},
     "output_type": "display_data"
    },
    {
     "data": {
      "application/vnd.jupyter.widget-view+json": {
       "model_id": "7e2b7f35abcf403e9a2a1c8686774157",
       "version_major": 2,
       "version_minor": 0
      },
      "text/plain": [
       "2020-10-21:   0%|          | 0/18024 [00:00<?, ?it/s]"
      ]
     },
     "metadata": {},
     "output_type": "display_data"
    },
    {
     "data": {
      "application/vnd.jupyter.widget-view+json": {
       "model_id": "452009909991413ab1b8336a65499d73",
       "version_major": 2,
       "version_minor": 0
      },
      "text/plain": [
       "2020-10-22:   0%|          | 0/18071 [00:00<?, ?it/s]"
      ]
     },
     "metadata": {},
     "output_type": "display_data"
    },
    {
     "data": {
      "application/vnd.jupyter.widget-view+json": {
       "model_id": "22bbd077362e414caf51fb98bd0e74eb",
       "version_major": 2,
       "version_minor": 0
      },
      "text/plain": [
       "2020-10-23:   0%|          | 0/18025 [00:00<?, ?it/s]"
      ]
     },
     "metadata": {},
     "output_type": "display_data"
    },
    {
     "data": {
      "application/vnd.jupyter.widget-view+json": {
       "model_id": "4e8db6a3d35b41069f97398aa5658044",
       "version_major": 2,
       "version_minor": 0
      },
      "text/plain": [
       "2020-10-26:   0%|          | 0/18091 [00:00<?, ?it/s]"
      ]
     },
     "metadata": {},
     "output_type": "display_data"
    },
    {
     "data": {
      "application/vnd.jupyter.widget-view+json": {
       "model_id": "772f31588b684a058caf8209b5aa47ea",
       "version_major": 2,
       "version_minor": 0
      },
      "text/plain": [
       "2020-10-27:   0%|          | 0/18155 [00:00<?, ?it/s]"
      ]
     },
     "metadata": {},
     "output_type": "display_data"
    },
    {
     "data": {
      "application/vnd.jupyter.widget-view+json": {
       "model_id": "6b6fc9324d4342a884e1f22f3a6ef6a2",
       "version_major": 2,
       "version_minor": 0
      },
      "text/plain": [
       "2020-10-28:   0%|          | 0/18225 [00:00<?, ?it/s]"
      ]
     },
     "metadata": {},
     "output_type": "display_data"
    },
    {
     "data": {
      "application/vnd.jupyter.widget-view+json": {
       "model_id": "57196e1a4e6243cb8f6523bc1ce3c9ba",
       "version_major": 2,
       "version_minor": 0
      },
      "text/plain": [
       "2020-10-29:   0%|          | 0/18380 [00:00<?, ?it/s]"
      ]
     },
     "metadata": {},
     "output_type": "display_data"
    },
    {
     "data": {
      "application/vnd.jupyter.widget-view+json": {
       "model_id": "1a7f0075f11c4ef9859fa347f67dc578",
       "version_major": 2,
       "version_minor": 0
      },
      "text/plain": [
       "2020-10-30:   0%|          | 0/18473 [00:00<?, ?it/s]"
      ]
     },
     "metadata": {},
     "output_type": "display_data"
    },
    {
     "data": {
      "application/vnd.jupyter.widget-view+json": {
       "model_id": "643cee0d84c64b19aaa106fe53e354d6",
       "version_major": 2,
       "version_minor": 0
      },
      "text/plain": [
       "2020-11-02:   0%|          | 0/18514 [00:00<?, ?it/s]"
      ]
     },
     "metadata": {},
     "output_type": "display_data"
    },
    {
     "data": {
      "application/vnd.jupyter.widget-view+json": {
       "model_id": "c3340b6f80364d738f35bd65e421747f",
       "version_major": 2,
       "version_minor": 0
      },
      "text/plain": [
       "2020-11-03:   0%|          | 0/18517 [00:00<?, ?it/s]"
      ]
     },
     "metadata": {},
     "output_type": "display_data"
    },
    {
     "data": {
      "application/vnd.jupyter.widget-view+json": {
       "model_id": "4cf39a987b80412d949776c3d4e10db1",
       "version_major": 2,
       "version_minor": 0
      },
      "text/plain": [
       "2020-11-04:   0%|          | 0/18500 [00:00<?, ?it/s]"
      ]
     },
     "metadata": {},
     "output_type": "display_data"
    },
    {
     "data": {
      "application/vnd.jupyter.widget-view+json": {
       "model_id": "852ed965332d4d789b2514825bd28b10",
       "version_major": 2,
       "version_minor": 0
      },
      "text/plain": [
       "2020-11-05:   0%|          | 0/18554 [00:00<?, ?it/s]"
      ]
     },
     "metadata": {},
     "output_type": "display_data"
    },
    {
     "data": {
      "application/vnd.jupyter.widget-view+json": {
       "model_id": "c35f955677e046dabf34ca6b03e6a2ef",
       "version_major": 2,
       "version_minor": 0
      },
      "text/plain": [
       "2020-11-06:   0%|          | 0/18542 [00:00<?, ?it/s]"
      ]
     },
     "metadata": {},
     "output_type": "display_data"
    },
    {
     "data": {
      "application/vnd.jupyter.widget-view+json": {
       "model_id": "2fdb887feaaa47cf8e8b567f8d410b25",
       "version_major": 2,
       "version_minor": 0
      },
      "text/plain": [
       "2020-11-09:   0%|          | 0/18536 [00:00<?, ?it/s]"
      ]
     },
     "metadata": {},
     "output_type": "display_data"
    },
    {
     "data": {
      "application/vnd.jupyter.widget-view+json": {
       "model_id": "54ae942fb4d940dbbce3e2d6479660df",
       "version_major": 2,
       "version_minor": 0
      },
      "text/plain": [
       "2020-11-10:   0%|          | 0/18568 [00:00<?, ?it/s]"
      ]
     },
     "metadata": {},
     "output_type": "display_data"
    },
    {
     "data": {
      "application/vnd.jupyter.widget-view+json": {
       "model_id": "c7215200d8a34dbebbeca8860fcca3b9",
       "version_major": 2,
       "version_minor": 0
      },
      "text/plain": [
       "2020-11-11:   0%|          | 0/18574 [00:00<?, ?it/s]"
      ]
     },
     "metadata": {},
     "output_type": "display_data"
    },
    {
     "data": {
      "application/vnd.jupyter.widget-view+json": {
       "model_id": "801f23a9858246c2837df4d5f8ef00a4",
       "version_major": 2,
       "version_minor": 0
      },
      "text/plain": [
       "2020-11-12:   0%|          | 0/18671 [00:00<?, ?it/s]"
      ]
     },
     "metadata": {},
     "output_type": "display_data"
    },
    {
     "data": {
      "application/vnd.jupyter.widget-view+json": {
       "model_id": "858903d3b8194080b20e01988d57a26b",
       "version_major": 2,
       "version_minor": 0
      },
      "text/plain": [
       "2020-11-13:   0%|          | 0/18687 [00:00<?, ?it/s]"
      ]
     },
     "metadata": {},
     "output_type": "display_data"
    },
    {
     "data": {
      "application/vnd.jupyter.widget-view+json": {
       "model_id": "90993ce8774842ddb622399582cbcf12",
       "version_major": 2,
       "version_minor": 0
      },
      "text/plain": [
       "2020-11-16:   0%|          | 0/18752 [00:00<?, ?it/s]"
      ]
     },
     "metadata": {},
     "output_type": "display_data"
    },
    {
     "data": {
      "application/vnd.jupyter.widget-view+json": {
       "model_id": "364fbb677b1e47be8394b504256ccab5",
       "version_major": 2,
       "version_minor": 0
      },
      "text/plain": [
       "2020-11-17:   0%|          | 0/18766 [00:00<?, ?it/s]"
      ]
     },
     "metadata": {},
     "output_type": "display_data"
    },
    {
     "data": {
      "application/vnd.jupyter.widget-view+json": {
       "model_id": "7ef16d25bcb1456887dfd629098f30b6",
       "version_major": 2,
       "version_minor": 0
      },
      "text/plain": [
       "2020-11-18:   0%|          | 0/18782 [00:00<?, ?it/s]"
      ]
     },
     "metadata": {},
     "output_type": "display_data"
    },
    {
     "data": {
      "application/vnd.jupyter.widget-view+json": {
       "model_id": "a0273dd8d9084c7fac53039be824b7bf",
       "version_major": 2,
       "version_minor": 0
      },
      "text/plain": [
       "2020-11-19:   0%|          | 0/18717 [00:00<?, ?it/s]"
      ]
     },
     "metadata": {},
     "output_type": "display_data"
    },
    {
     "data": {
      "application/vnd.jupyter.widget-view+json": {
       "model_id": "bda14c4880cb4195ac6f439b3200bf9b",
       "version_major": 2,
       "version_minor": 0
      },
      "text/plain": [
       "2020-11-20:   0%|          | 0/18784 [00:00<?, ?it/s]"
      ]
     },
     "metadata": {},
     "output_type": "display_data"
    },
    {
     "data": {
      "application/vnd.jupyter.widget-view+json": {
       "model_id": "23e5bd574be2454a94cd078bbb7fd4d9",
       "version_major": 2,
       "version_minor": 0
      },
      "text/plain": [
       "2020-11-23:   0%|          | 0/18856 [00:00<?, ?it/s]"
      ]
     },
     "metadata": {},
     "output_type": "display_data"
    },
    {
     "data": {
      "application/vnd.jupyter.widget-view+json": {
       "model_id": "8bf1ba1113b443ec8104e47ac162bcc1",
       "version_major": 2,
       "version_minor": 0
      },
      "text/plain": [
       "2020-11-24:   0%|          | 0/18895 [00:00<?, ?it/s]"
      ]
     },
     "metadata": {},
     "output_type": "display_data"
    },
    {
     "data": {
      "application/vnd.jupyter.widget-view+json": {
       "model_id": "a148b00ced9e4a7cafb45066a660f49c",
       "version_major": 2,
       "version_minor": 0
      },
      "text/plain": [
       "2020-11-25:   0%|          | 0/18948 [00:00<?, ?it/s]"
      ]
     },
     "metadata": {},
     "output_type": "display_data"
    },
    {
     "data": {
      "application/vnd.jupyter.widget-view+json": {
       "model_id": "415be34bc84c45adb4a629bc8d817fc8",
       "version_major": 2,
       "version_minor": 0
      },
      "text/plain": [
       "2020-11-26:   0%|          | 0/18974 [00:00<?, ?it/s]"
      ]
     },
     "metadata": {},
     "output_type": "display_data"
    },
    {
     "data": {
      "application/vnd.jupyter.widget-view+json": {
       "model_id": "7af7d8e3c60f4076acb028f50c10585c",
       "version_major": 2,
       "version_minor": 0
      },
      "text/plain": [
       "2020-11-27:   0%|          | 0/18957 [00:00<?, ?it/s]"
      ]
     },
     "metadata": {},
     "output_type": "display_data"
    },
    {
     "data": {
      "application/vnd.jupyter.widget-view+json": {
       "model_id": "19e4646fb4bc4a67aa72dcb15f88c8db",
       "version_major": 2,
       "version_minor": 0
      },
      "text/plain": [
       "2020-11-30:   0%|          | 0/19132 [00:00<?, ?it/s]"
      ]
     },
     "metadata": {},
     "output_type": "display_data"
    },
    {
     "data": {
      "application/vnd.jupyter.widget-view+json": {
       "model_id": "b714ef3293a646ec994d65d512a7865b",
       "version_major": 2,
       "version_minor": 0
      },
      "text/plain": [
       "2020-12-01:   0%|          | 0/19210 [00:00<?, ?it/s]"
      ]
     },
     "metadata": {},
     "output_type": "display_data"
    },
    {
     "data": {
      "application/vnd.jupyter.widget-view+json": {
       "model_id": "14fc897d08d448c3bf790b813787f476",
       "version_major": 2,
       "version_minor": 0
      },
      "text/plain": [
       "2020-12-02:   0%|          | 0/19279 [00:00<?, ?it/s]"
      ]
     },
     "metadata": {},
     "output_type": "display_data"
    },
    {
     "data": {
      "application/vnd.jupyter.widget-view+json": {
       "model_id": "6df4f8b9912947d1a8790c81f03f5e8d",
       "version_major": 2,
       "version_minor": 0
      },
      "text/plain": [
       "2020-12-03:   0%|          | 0/19323 [00:00<?, ?it/s]"
      ]
     },
     "metadata": {},
     "output_type": "display_data"
    },
    {
     "data": {
      "application/vnd.jupyter.widget-view+json": {
       "model_id": "9a456e6e67a44aa78c615b89dd5149db",
       "version_major": 2,
       "version_minor": 0
      },
      "text/plain": [
       "2020-12-04:   0%|          | 0/19312 [00:00<?, ?it/s]"
      ]
     },
     "metadata": {},
     "output_type": "display_data"
    },
    {
     "data": {
      "application/vnd.jupyter.widget-view+json": {
       "model_id": "9990c0f9c6714429968989fe1111d663",
       "version_major": 2,
       "version_minor": 0
      },
      "text/plain": [
       "2020-12-07:   0%|          | 0/19352 [00:00<?, ?it/s]"
      ]
     },
     "metadata": {},
     "output_type": "display_data"
    },
    {
     "data": {
      "application/vnd.jupyter.widget-view+json": {
       "model_id": "f59c14eda8614f63962bec7082fc533c",
       "version_major": 2,
       "version_minor": 0
      },
      "text/plain": [
       "2020-12-08:   0%|          | 0/19420 [00:00<?, ?it/s]"
      ]
     },
     "metadata": {},
     "output_type": "display_data"
    },
    {
     "data": {
      "application/vnd.jupyter.widget-view+json": {
       "model_id": "4edf43577c3942adbc6ca1e45d32738c",
       "version_major": 2,
       "version_minor": 0
      },
      "text/plain": [
       "2020-12-09:   0%|          | 0/19504 [00:00<?, ?it/s]"
      ]
     },
     "metadata": {},
     "output_type": "display_data"
    },
    {
     "data": {
      "application/vnd.jupyter.widget-view+json": {
       "model_id": "73e53b3bb3c948abbe2eb95090a7bf97",
       "version_major": 2,
       "version_minor": 0
      },
      "text/plain": [
       "2020-12-10:   0%|          | 0/19620 [00:00<?, ?it/s]"
      ]
     },
     "metadata": {},
     "output_type": "display_data"
    },
    {
     "data": {
      "application/vnd.jupyter.widget-view+json": {
       "model_id": "885f2df73d0f4afbbe71364d93caefec",
       "version_major": 2,
       "version_minor": 0
      },
      "text/plain": [
       "2020-12-11:   0%|          | 0/19611 [00:00<?, ?it/s]"
      ]
     },
     "metadata": {},
     "output_type": "display_data"
    },
    {
     "data": {
      "application/vnd.jupyter.widget-view+json": {
       "model_id": "cc1a071bb5874950959999374ef3eba7",
       "version_major": 2,
       "version_minor": 0
      },
      "text/plain": [
       "2020-12-14:   0%|          | 0/19713 [00:00<?, ?it/s]"
      ]
     },
     "metadata": {},
     "output_type": "display_data"
    },
    {
     "data": {
      "application/vnd.jupyter.widget-view+json": {
       "model_id": "75cfa2894e0441e6a75270477606086e",
       "version_major": 2,
       "version_minor": 0
      },
      "text/plain": [
       "2020-12-15:   0%|          | 0/19743 [00:00<?, ?it/s]"
      ]
     },
     "metadata": {},
     "output_type": "display_data"
    },
    {
     "data": {
      "application/vnd.jupyter.widget-view+json": {
       "model_id": "9838e870b3984f33a0146dab3a0418f7",
       "version_major": 2,
       "version_minor": 0
      },
      "text/plain": [
       "2020-12-16:   0%|          | 0/19785 [00:00<?, ?it/s]"
      ]
     },
     "metadata": {},
     "output_type": "display_data"
    },
    {
     "data": {
      "application/vnd.jupyter.widget-view+json": {
       "model_id": "4b521830e86946fd8873251940870214",
       "version_major": 2,
       "version_minor": 0
      },
      "text/plain": [
       "2020-12-17:   0%|          | 0/19856 [00:00<?, ?it/s]"
      ]
     },
     "metadata": {},
     "output_type": "display_data"
    },
    {
     "data": {
      "application/vnd.jupyter.widget-view+json": {
       "model_id": "750ce146f89840f29f7582c7c3e6e934",
       "version_major": 2,
       "version_minor": 0
      },
      "text/plain": [
       "2020-12-18:   0%|          | 0/19848 [00:00<?, ?it/s]"
      ]
     },
     "metadata": {},
     "output_type": "display_data"
    },
    {
     "data": {
      "application/vnd.jupyter.widget-view+json": {
       "model_id": "8ae2f8e509b34fcba3b2b5629cf83164",
       "version_major": 2,
       "version_minor": 0
      },
      "text/plain": [
       "2020-12-21:   0%|          | 0/19945 [00:00<?, ?it/s]"
      ]
     },
     "metadata": {},
     "output_type": "display_data"
    },
    {
     "data": {
      "application/vnd.jupyter.widget-view+json": {
       "model_id": "b5f46e57ffb4441296ffdee8259d3cd3",
       "version_major": 2,
       "version_minor": 0
      },
      "text/plain": [
       "2020-12-22:   0%|          | 0/20055 [00:00<?, ?it/s]"
      ]
     },
     "metadata": {},
     "output_type": "display_data"
    },
    {
     "data": {
      "application/vnd.jupyter.widget-view+json": {
       "model_id": "a85c323fa47a4f75a0ce250a922dd912",
       "version_major": 2,
       "version_minor": 0
      },
      "text/plain": [
       "2020-12-23:   0%|          | 0/20192 [00:00<?, ?it/s]"
      ]
     },
     "metadata": {},
     "output_type": "display_data"
    },
    {
     "data": {
      "application/vnd.jupyter.widget-view+json": {
       "model_id": "8d6763910e3049dba1798b0dc3592c00",
       "version_major": 2,
       "version_minor": 0
      },
      "text/plain": [
       "2020-12-24:   0%|          | 0/20264 [00:00<?, ?it/s]"
      ]
     },
     "metadata": {},
     "output_type": "display_data"
    },
    {
     "data": {
      "application/vnd.jupyter.widget-view+json": {
       "model_id": "e8d064e7039f4ed4b4695a0f651928ce",
       "version_major": 2,
       "version_minor": 0
      },
      "text/plain": [
       "2020-12-25:   0%|          | 0/20268 [00:00<?, ?it/s]"
      ]
     },
     "metadata": {},
     "output_type": "display_data"
    },
    {
     "data": {
      "application/vnd.jupyter.widget-view+json": {
       "model_id": "b30f1835eb6f4f7aa54ffc2ae84bc5ab",
       "version_major": 2,
       "version_minor": 0
      },
      "text/plain": [
       "2020-12-28:   0%|          | 0/20333 [00:00<?, ?it/s]"
      ]
     },
     "metadata": {},
     "output_type": "display_data"
    },
    {
     "data": {
      "application/vnd.jupyter.widget-view+json": {
       "model_id": "36262f3f0f2e4e5d813c925eb54cf63b",
       "version_major": 2,
       "version_minor": 0
      },
      "text/plain": [
       "2020-12-29:   0%|          | 0/20506 [00:00<?, ?it/s]"
      ]
     },
     "metadata": {},
     "output_type": "display_data"
    },
    {
     "data": {
      "application/vnd.jupyter.widget-view+json": {
       "model_id": "d2da90664ff4486dbe8cacc1f3ab86a9",
       "version_major": 2,
       "version_minor": 0
      },
      "text/plain": [
       "2020-12-30:   0%|          | 0/20573 [00:00<?, ?it/s]"
      ]
     },
     "metadata": {},
     "output_type": "display_data"
    },
    {
     "data": {
      "application/vnd.jupyter.widget-view+json": {
       "model_id": "e01f2d3355b6480098ad5203ba6ae1a2",
       "version_major": 2,
       "version_minor": 0
      },
      "text/plain": [
       "2020-12-31:   0%|          | 0/20454 [00:00<?, ?it/s]"
      ]
     },
     "metadata": {},
     "output_type": "display_data"
    }
   ],
   "source": [
    "import os\n",
    "import json\n",
    "from datetime import datetime\n",
    "from datetime import timedelta, date\n",
    "from tqdm.notebook import tqdm, tnrange, tqdm_notebook\n",
    "import psycopg2\n",
    "import psycopg2.extras\n",
    "\n",
    "def insert_table(conn, insert_query, records):\n",
    "    try:\n",
    "        cursor = conn.cursor()\n",
    "        cursor.executemany(insert_query, records)\n",
    "        conn.commit()\n",
    "    except (Exception, psycopg2.DatabaseError) as error:\n",
    "        print(error)\n",
    "\n",
    "def insert_table2(conn, insert_query, records):\n",
    "    try:\n",
    "        cursor = conn.cursor()\n",
    "        psycopg2.extras.execute_batch(cursor, insert_query, records)\n",
    "        conn.commit()\n",
    "    except (Exception, psycopg2.DatabaseError) as error:\n",
    "        print(error)\n",
    "\n",
    "path = '2020'\n",
    "pathTemplate = \"{}/{}\"\n",
    "sessionName = \"data9\"\n",
    "insert_query = \"\"\"INSERT INTO stock.squote (skey, sdate, scode, sname, open, high, low, close, volume, transaction, svalue, diff)\n",
    "                  VALUES(%s, %s, %s, %s, %s, %s, %s, %s, %s, %s, %s, %s) \"\"\"\n",
    "\n",
    "conn = psycopg2.connect(\n",
    "    database=\"twse\",\n",
    "    user = \"postgres\",\n",
    "    password = \"\",\n",
    "    host = \"localhost\",\n",
    "    port = 5432\n",
    ")\n",
    "\n",
    "files = os.listdir(path)\n",
    "filesSorted = sorted(files)\n",
    "for f_idx in tnrange(len(filesSorted), desc='Import Progress'):\n",
    "    filename = filesSorted[f_idx]\n",
    "    f_name, f_ext = os.path.splitext(filename)\n",
    "    f = open(os.path.join(path, filename), encoding=\"utf8\")\n",
    "    data = json.load(f)\n",
    "    if \"OK\" not in data[\"stat\"]:\n",
    "        continue\n",
    "    records = []\n",
    "    currentDate = datetime.strptime(f_name, \"%Y%m%d\").date()\n",
    "    currentDateStr = currentDate.strftime(\"%Y-%m-%d\")\n",
    "    quotes = data[sessionName]\n",
    "    for r_idx in tnrange(len(quotes), desc=currentDateStr):\n",
    "        row = quotes[r_idx]\n",
    "        sign = 1\n",
    "        if \"green\" in row[9]:\n",
    "            sign = -1\n",
    "        skey = f_name + row[0]\n",
    "        my_tuple = (skey,           # primary key\n",
    "                    currentDateStr, # date \n",
    "                    row[0],         # code\n",
    "                    row[1],         # name\n",
    "                    float(row[5].replace(\"--\",\"0\").replace(\",\",\"\")), # open\n",
    "                    float(row[6].replace(\"--\",\"0\").replace(\",\",\"\")), # high\n",
    "                    float(row[7].replace(\"--\",\"0\").replace(\",\",\"\")), # low\n",
    "                    float(row[8].replace(\"--\",\"0\").replace(\",\",\"\")), # close\n",
    "                    int(row[2].replace(\",\",\"\")), # volume\n",
    "                    int(row[3].replace(\",\",\"\")), # transaction\n",
    "                    int(row[4].replace(\",\",\"\")), # value\n",
    "                    float(row[10].replace(\"--\",\"0\")) * sign # diff\n",
    "                   )\n",
    "        records.append(my_tuple)\n",
    "    cursor = insert_table2(conn, insert_query, records)\n",
    "    #print(currentDateStr, len(records), \"Record inserted successfully.\")\n",
    "    f.close()\n",
    "\n",
    "if conn is not None:\n",
    "    conn.close()\n",
    "\n"
   ]
  },
  {
   "cell_type": "code",
   "execution_count": null,
   "metadata": {},
   "outputs": [],
   "source": []
  }
 ],
 "metadata": {
  "interpreter": {
   "hash": "d272e2026838bb335172dbce7a4df8d70283680680035739ed330613b545d8bd"
  },
  "kernelspec": {
   "display_name": "Python 3",
   "language": "python",
   "name": "python3"
  },
  "language_info": {
   "codemirror_mode": {
    "name": "ipython",
    "version": 3
   },
   "file_extension": ".py",
   "mimetype": "text/x-python",
   "name": "python",
   "nbconvert_exporter": "python",
   "pygments_lexer": "ipython3",
   "version": "3.8.8"
  }
 },
 "nbformat": 4,
 "nbformat_minor": 4
}
